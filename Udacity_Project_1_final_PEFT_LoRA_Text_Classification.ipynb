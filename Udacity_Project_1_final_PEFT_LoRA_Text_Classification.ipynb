{
  "cells": [
    {
      "cell_type": "markdown",
      "metadata": {
        "id": "view-in-github",
        "colab_type": "text"
      },
      "source": [
        "<a href=\"https://colab.research.google.com/github/vjnadkarni/Udacity-GenerativeAI/blob/main/Udacity_Project_1_final_PEFT_LoRA_Text_Classification.ipynb\" target=\"_parent\"><img src=\"https://colab.research.google.com/assets/colab-badge.svg\" alt=\"Open In Colab\"/></a>"
      ]
    },
    {
      "cell_type": "markdown",
      "metadata": {
        "id": "RF60VnRQXzFs"
      },
      "source": [
        "# **Udacity Project #1: Apply Lightweight Fine-Tuning to a Foundation Model**\n",
        "## **Multi-class classification of rich trove of news articles into 4 categories**\n",
        "\n",
        "### By: Vijay Nadkarni\n",
        "### Email: vjnadkarni@gmail.com\n",
        "### Course: Generative AI\n",
        "\n",
        "This project implements sequence classification using parameter-efficient fine-tuning (PEFT) by way of low rank adaptation (LoRA). The base model used is \"FacebookAI/roberta-base\", commonly used for sequence classification and the dataset is 'ag_news' which is a rich trove of 1M+ new articles classified into 4 categories.\n",
        "\n",
        "In this project, the PEFT model is trained (fine-tuned) on the ag_news news articles, and the resulting LoRA adapter is merged with the base roberta-base base model. News headlines are obtained and fed to the model, which then classfies it into one of the 4 categories above."
      ]
    },
    {
      "cell_type": "markdown",
      "metadata": {
        "id": "PsyvU6UosEVN"
      },
      "source": [
        "TODO: In this cell, describe your choices for each of the following\n",
        "\n",
        "* **PEFT technique:** This project performs parameter-efficient fine-tuning (PEFT) using low rank adaptation (LoRA). The PEFT technique is sequence classification, where new headlines are classified into one of 4 categories: World, Sports, Business and Sci/Tech. In this project, for PEFT the weights of the selected model are frozen by way of the 'peft' library (i.e. no further training) and only the weights of the adapter are trained.\n",
        "* **Model:** The specific model chosen is 'FacebookAI/roberta-base' which is very commonly used for sequence classification and text classification and has a good blend of performance and size. The AutoModelForSequenceClassification() model from Hugging Face is used since this is a text classification (sequence classification) implementation.\n",
        "* **Dataset:** The dataset used for fine-tuning is \"ag_news\". This dataset is a collection of more than 1 million news headlines that have been gathered from more than 2000 news sources by ComeToMyHead in more than 1 year of activity. These are classified into 4 categories: 'World', 'Sports', 'Business', 'Sci/Tech'. ComeToMyHead is an academic news search engine which has been running since July, 2004. The dataset is provided by the academic comunity for research purposes in data mining (clustering, classification, etc), information retrieval (ranking, search, etc), xml, data compression, data streaming, and any other non-commercial activity.\n",
        "* **Evaluation approach:** The evaluation is done using the Hugging Face 'evaluate' library. Three scenarios are evaluated for accuracy of results:\n",
        "  - Non fine-tuned model (original roberta-base)\n",
        "  - PEFT fine-tuned model (roberta-base w/frozen weights merged with PEFT adapter)\n",
        "  - Fully fine-tuned model (roberta-base retrained with ag_news dataset)\n",
        "* **Fine-tuning dataset:** The 'ag_news' dataset is used. This dataset maps well to the AutoModelForSequenceClassification() model and is well suited to the ag_news dataset. It contains over 1 million new headlines classified into four categories: 'World', 'Sports', 'Business' and \"Sci/Tech'.\n",
        "\n",
        "## **Attribution**\n",
        "I referenced a number of Hugging Face, Google DeepLearning, Medium, GitHub and YouTube tutorials and videos that covered PEFT and LoRA. In some cases, notably from Hugging Face, I took the liberty of including 1-10 line snippets of code in my project (but not the entire program). The URLs of the more important websites and videos are the following:\n",
        "- https://huggingface.co/docs/peft/en/developer_guides/quantization\n",
        "- https://colab.research.google.com/drive/1iERDk94Jp0UErsPf7vXyPKeiM4ZJUQ-a?usp=sharing\n",
        "- https://www.youtube.com/watch?v=Us5ZFp16PaU\n",
        "- https://www.youtube.com/live/g68qlo9Izf0\n",
        "- https://www.youtube.com/watch?v=3fsn19OI_C8\n",
        "- https://www.youtube.com/watch?v=iYr1xZn26R8\n",
        "- https://www.youtube.com/watch?v=XpoKB3usmKc\n",
        "https://medium.com/@achillesmoraites/lightweight-roberta-sequence-classification-fine-tuning-with-lora-using-the-hugging-face-peft-8dd9edf99d19\n",
        "- https://www.youtube.com/watch?v=YJNbgusTSF0\n",
        "- https://github.com/adidror005/youtube-videos/blob/main/LLAMA_3_Fine_Tuning_for_Sequence_Classification_Actual_Video.ipynb\n",
        "- https://github.com/achimoraites/machine-learning-playground/blob/main/NLP/Text%20classification/Lightweight_RoBERTa_PEFT_LORA_FineTuning.ipynb\n",
        "- https://medium.com/@achillesmoraites/lightweight-roberta-sequence-classification-fine-tuning-with-lora-using-the-hugging-face-peft-8dd9edf99d19\n",
        "- https://github.com/huggingface/peft/blob/main/examples/sequence_classification/LoRA.ipynb\n"
      ]
    },
    {
      "cell_type": "markdown",
      "metadata": {
        "id": "x0ueYjQdsRAH"
      },
      "source": [
        "# **DEPENDENCIES**"
      ]
    },
    {
      "cell_type": "markdown",
      "metadata": {
        "id": "laTlcg9YNoY6"
      },
      "source": [
        "## **Mount Google Drive**"
      ]
    },
    {
      "cell_type": "markdown",
      "metadata": {
        "id": "HM7A7CB7npM7"
      },
      "source": [
        "## **Summary**\n",
        "PEFT technique: LORA\n",
        "Model: FacebookAI/roberta-base\n",
        "Evaluation approach: Accuracy\n",
        "Fine-tuning dataset: ag_news\n",
        "Intro\n",
        "Fine-tuning large language models (LLMs) like RoBERTa can produce remarkable results when adapting them to specific tasks. Unfortunately, it can also be slow and computationally expensive. In a previous article, we explored Fine-tuning RoBERTa for Topic Classification with Hugging Face Transformers and Datasets Library.\n",
        "\n",
        "Here, we will explore how to make that fine-tuning process more efficient using LORA (Low-Rank Adaptation) by leveraging the 🤗PEFT (Parameter-Efficient Fine-Tuning) library."
      ]
    },
    {
      "cell_type": "markdown",
      "metadata": {
        "id": "-GFJlUeun12h"
      },
      "source": [
        "## **Install dependencies**"
      ]
    },
    {
      "cell_type": "markdown",
      "metadata": {
        "id": "gwj1CEUBsA5L"
      },
      "source": [
        "## **Mount Google Drive**"
      ]
    },
    {
      "cell_type": "code",
      "execution_count": 1,
      "metadata": {
        "colab": {
          "base_uri": "https://localhost:8080/"
        },
        "id": "Z_zCW2Uwr837",
        "outputId": "1e6031d3-efed-44dd-d97f-f19335d9b91d"
      },
      "outputs": [
        {
          "output_type": "stream",
          "name": "stdout",
          "text": [
            "Mounted at /content/drive\n"
          ]
        }
      ],
      "source": [
        "from google.colab import drive\n",
        "drive.mount('/content/drive')"
      ]
    },
    {
      "cell_type": "markdown",
      "metadata": {
        "id": "MWwn7dKFsIWn"
      },
      "source": [
        "## **Retrieve Hugging Face User Access Token from Google Colab Secrets**"
      ]
    },
    {
      "cell_type": "code",
      "execution_count": 2,
      "metadata": {
        "id": "gy0p-_19sOOF"
      },
      "outputs": [],
      "source": [
        "import os\n",
        "from google.colab import userdata  # Import Colab Secrets userdata module\n",
        "\n",
        "# Retrieve Hugging Face access token\n",
        "os.environ[\"HF_TOKEN\"] = userdata.get('HF_TOKEN')\n",
        "hf_token = os.environ[\"HF_TOKEN\"]"
      ]
    },
    {
      "cell_type": "markdown",
      "metadata": {
        "id": "el77qV3psj56"
      },
      "source": [
        "## **Log into Hugging Face Hub (non-blocking)**"
      ]
    },
    {
      "cell_type": "code",
      "execution_count": 3,
      "metadata": {
        "colab": {
          "base_uri": "https://localhost:8080/"
        },
        "id": "s2iNrG9gsrHs",
        "outputId": "0ea09090-225a-4527-cb4d-ea5698a67f11"
      },
      "outputs": [
        {
          "output_type": "stream",
          "name": "stdout",
          "text": [
            "Token is valid (permission: write).\n",
            "Your token has been saved in your configured git credential helpers (store).\n",
            "Your token has been saved to /root/.cache/huggingface/token\n",
            "Login successful\n"
          ]
        }
      ],
      "source": [
        "from huggingface_hub import login, logout\n",
        "login(hf_token, add_to_git_credential=True) # non-blocking login"
      ]
    },
    {
      "cell_type": "markdown",
      "metadata": {
        "id": "xIhzjrvXszF1"
      },
      "source": [
        "## **(For Reviewer) Log into Hugging Face Hub manually with reviewer's HF Access Token**\n",
        "### No dependence on student's token (uncomment the lines below)"
      ]
    },
    {
      "cell_type": "code",
      "execution_count": 4,
      "metadata": {
        "id": "vk39DpbgtLMC"
      },
      "outputs": [],
      "source": [
        "# from huggingface_hub import notebook_login\n",
        "# notebook_login()"
      ]
    },
    {
      "cell_type": "markdown",
      "metadata": {
        "id": "x2STR59TsGBQ"
      },
      "source": [
        "## **Install and/or upgrade Hugging Face libraries as needed**"
      ]
    },
    {
      "cell_type": "code",
      "execution_count": 5,
      "metadata": {
        "id": "W-UcBATMspOY",
        "colab": {
          "base_uri": "https://localhost:8080/"
        },
        "outputId": "7b5f18cd-0901-437b-b792-88cd7d80b054"
      },
      "outputs": [
        {
          "output_type": "stream",
          "name": "stdout",
          "text": [
            "\u001b[2K     \u001b[90m━━━━━━━━━━━━━━━━━━━━━━━━━━━━━━━━━━━━━━━━\u001b[0m \u001b[32m547.8/547.8 kB\u001b[0m \u001b[31m11.5 MB/s\u001b[0m eta \u001b[36m0:00:00\u001b[0m\n",
            "\u001b[2K     \u001b[90m━━━━━━━━━━━━━━━━━━━━━━━━━━━━━━━━━━━━━━━━\u001b[0m \u001b[32m40.8/40.8 MB\u001b[0m \u001b[31m40.5 MB/s\u001b[0m eta \u001b[36m0:00:00\u001b[0m\n",
            "\u001b[2K     \u001b[90m━━━━━━━━━━━━━━━━━━━━━━━━━━━━━━━━━━━━━━━━\u001b[0m \u001b[32m116.3/116.3 kB\u001b[0m \u001b[31m15.6 MB/s\u001b[0m eta \u001b[36m0:00:00\u001b[0m\n",
            "\u001b[2K     \u001b[90m━━━━━━━━━━━━━━━━━━━━━━━━━━━━━━━━━━━━━━━━\u001b[0m \u001b[32m64.9/64.9 kB\u001b[0m \u001b[31m8.1 MB/s\u001b[0m eta \u001b[36m0:00:00\u001b[0m\n",
            "\u001b[2K     \u001b[90m━━━━━━━━━━━━━━━━━━━━━━━━━━━━━━━━━━━━━━━━\u001b[0m \u001b[32m194.1/194.1 kB\u001b[0m \u001b[31m25.7 MB/s\u001b[0m eta \u001b[36m0:00:00\u001b[0m\n",
            "\u001b[2K     \u001b[90m━━━━━━━━━━━━━━━━━━━━━━━━━━━━━━━━━━━━━━━━\u001b[0m \u001b[32m134.8/134.8 kB\u001b[0m \u001b[31m19.3 MB/s\u001b[0m eta \u001b[36m0:00:00\u001b[0m\n",
            "\u001b[?25h\u001b[31mERROR: pip's dependency resolver does not currently take into account all the packages that are installed. This behaviour is the source of the following dependency conflicts.\n",
            "cudf-cu12 24.4.1 requires pyarrow<15.0.0a0,>=14.0.1, but you have pyarrow 16.1.0 which is incompatible.\n",
            "google-colab 1.0.0 requires requests==2.31.0, but you have requests 2.32.3 which is incompatible.\n",
            "ibis-framework 8.0.0 requires pyarrow<16,>=2, but you have pyarrow 16.1.0 which is incompatible.\u001b[0m\u001b[31m\n",
            "\u001b[2K     \u001b[90m━━━━━━━━━━━━━━━━━━━━━━━━━━━━━━━━━━━━━━━━\u001b[0m \u001b[32m251.6/251.6 kB\u001b[0m \u001b[31m6.8 MB/s\u001b[0m eta \u001b[36m0:00:00\u001b[0m\n",
            "\u001b[2K     \u001b[90m━━━━━━━━━━━━━━━━━━━━━━━━━━━━━━━━━━━━━━━━\u001b[0m \u001b[32m309.4/309.4 kB\u001b[0m \u001b[31m20.5 MB/s\u001b[0m eta \u001b[36m0:00:00\u001b[0m\n",
            "\u001b[2K     \u001b[90m━━━━━━━━━━━━━━━━━━━━━━━━━━━━━━━━━━━━━━━━\u001b[0m \u001b[32m21.3/21.3 MB\u001b[0m \u001b[31m68.9 MB/s\u001b[0m eta \u001b[36m0:00:00\u001b[0m\n",
            "\u001b[2K     \u001b[90m━━━━━━━━━━━━━━━━━━━━━━━━━━━━━━━━━━━━━━━━\u001b[0m \u001b[32m226.7/226.7 kB\u001b[0m \u001b[31m7.0 MB/s\u001b[0m eta \u001b[36m0:00:00\u001b[0m\n",
            "\u001b[2K     \u001b[90m━━━━━━━━━━━━━━━━━━━━━━━━━━━━━━━━━━━━━━━━\u001b[0m \u001b[32m102.4/102.4 kB\u001b[0m \u001b[31m13.5 MB/s\u001b[0m eta \u001b[36m0:00:00\u001b[0m\n",
            "\u001b[2K     \u001b[90m━━━━━━━━━━━━━━━━━━━━━━━━━━━━━━━━━━━━━━━━\u001b[0m \u001b[32m119.8/119.8 MB\u001b[0m \u001b[31m14.4 MB/s\u001b[0m eta \u001b[36m0:00:00\u001b[0m\n",
            "\u001b[2K     \u001b[90m━━━━━━━━━━━━━━━━━━━━━━━━━━━━━━━━━━━━━━━━\u001b[0m \u001b[32m84.1/84.1 kB\u001b[0m \u001b[31m2.8 MB/s\u001b[0m eta \u001b[36m0:00:00\u001b[0m\n",
            "\u001b[?25h"
          ]
        }
      ],
      "source": [
        "!pip install -U transformers -q\n",
        "!pip install -U datasets -q\n",
        "!pip install -U peft -q\n",
        "!pip install -U loralib -q\n",
        "!pip install -U trl -q\n",
        "!pip install -U bitsandbytes -q\n",
        "!pip install -U accelerate -q\n",
        "!pip install -U evaluate -q"
      ]
    },
    {
      "cell_type": "markdown",
      "metadata": {
        "id": "CgCaRsfet58j"
      },
      "source": [
        "## **Check for availability of GPU and list its type**"
      ]
    },
    {
      "cell_type": "code",
      "execution_count": 6,
      "metadata": {
        "colab": {
          "base_uri": "https://localhost:8080/"
        },
        "id": "4dWfpPAPt_RU",
        "outputId": "f70e52e6-c3cc-44a5-a894-e28dc132109e"
      },
      "outputs": [
        {
          "output_type": "stream",
          "name": "stdout",
          "text": [
            "GPU 0: NVIDIA A100-SXM4-40GB (UUID: GPU-c48eaee9-67fd-ae7d-2a4a-62b458033b4c)\n"
          ]
        }
      ],
      "source": [
        "!nvidia-smi -L"
      ]
    },
    {
      "cell_type": "markdown",
      "metadata": {
        "id": "PKzJIBtZuH-d"
      },
      "source": [
        "# **TRAINING**"
      ]
    },
    {
      "cell_type": "markdown",
      "metadata": {
        "id": "m68CfhPjn_zK"
      },
      "source": [
        "## **Dataset Preprocessing**"
      ]
    },
    {
      "cell_type": "code",
      "execution_count": 7,
      "metadata": {
        "id": "58rx6okYdkfn"
      },
      "outputs": [],
      "source": [
        "import torch\n",
        "from transformers import AutoModelForSequenceClassification, RobertaModel, RobertaTokenizer, TrainingArguments, BitsAndBytesConfig, Trainer, DataCollatorWithPadding\n",
        "import bitsandbytes as bnb\n",
        "from peft import LoraConfig, get_peft_model\n",
        "from datasets import load_dataset\n",
        "import random\n",
        "from tqdm import tqdm\n",
        "\n",
        "peft_model_name = 'roberta-base-peft'\n",
        "modified_base = 'roberta-base-modified'\n",
        "base_model = 'roberta-base'"
      ]
    },
    {
      "cell_type": "markdown",
      "metadata": {
        "id": "uiARa4WTdtM8"
      },
      "source": [
        "## **Load the dataset and instantiate tokenizer**"
      ]
    },
    {
      "cell_type": "code",
      "execution_count": 8,
      "metadata": {
        "id": "kEUVleVFdzkP",
        "colab": {
          "base_uri": "https://localhost:8080/",
          "height": 393,
          "referenced_widgets": [
            "4ca1a181cfbb44e0948483f7441cf137",
            "88466918596e484da53bf1ed6284aaf3",
            "04466804e582423ebe4c4063d77072b4",
            "ab59cdd314fd4f85822b22bcb334a358",
            "aff3229c836b4ac89f21430fc85b17fe",
            "d938ba101abb45dc81da74f8898d1c17",
            "a30609ce78444569b40e2d405adf7ade",
            "598de8ffd1f744db88a376b7bd9511f0",
            "c1258970e1d342a39a6579c41df432d1",
            "2eebc346dd5648cea0a8ae1671bcce5b",
            "75ba6123e62b47d1a234b534cee3c65b",
            "10a32617b1874ecbbaef5487497cc76e",
            "1516a77f6334481e9292067f8feb97dd",
            "9cbeb83ec3f1459998232975eecc810a",
            "233ba752f1364ac5b4d0a79a6aebde93",
            "2153fc492b0e4e348f1f2abb6b2d3796",
            "1c72bc06f2284dd0adb9252156702730",
            "85d51b33416644fd9ad066fbf1f1843b",
            "2eadbac8a16c47e98646ee32ab73d0ee",
            "515f76949591481ebb703deb1fc9a0ca",
            "af762fc7c2cd4c718d32925ee768ae5e",
            "2d550ef3b80c41b1972efc6b6d486b66",
            "a734518756e742f78caf61b2342d1ae0",
            "e5496202300546c3835ad316badfaef5",
            "ad2eae7509764291a07eafb6c5df46a7",
            "34446e0b651e47358f72997efd64de1d",
            "4541d491b8c743369d6dfc26b5dcda8f",
            "e1e962a9707047a49e1e221dbbd01c8a",
            "1307c61a0531427f868656858107e4bc",
            "eeb6178753654700ba54dd2ff33d5c82",
            "4dfd7b3e926f43cd9551fe28e0de689e",
            "d47f44954e85486b865b0c0b7217f47e",
            "d45a8d7659d648b4a8b5fbdd054fec2e",
            "60f884e0c5e14cfe931473c4f4e24121",
            "d64e4b28422647c7a14ef63dd9e8b0f1",
            "4ba2b4a9c5704fc9aba50fb1c451c6e2",
            "627eb03dea364c9e86266c8c1ed9f566",
            "9afd893d961e48e69a3a3e73a153cfa5",
            "cd4a61c125774edda20a3b3005741e56",
            "1a794a75091a4b1cb1bdc5f5fb6f1b7b",
            "b7dfaf66765c4d118ef7c4c1cc23bb33",
            "cd89c049e1a5488e8aa65a36ed3806f0",
            "bf1159979d954769b401253c67527265",
            "3785b22d5cae4720a1ed979f320e56cc",
            "5813123d59d44caca357e1bed86a5247",
            "c921f36e004545dc97c1f9a7c2c902a2",
            "6e10a30000564e4bb5551aeda52e88e1",
            "a2a879e2683c4e8d8fc11ebb5c0e6e80",
            "8fb99beaebec4e899a1e2282abace337",
            "a3cd95912d5a4f4ca313881f93a96e59",
            "415260e4508141208ac2c6933927b428",
            "77771835810d4994a4fba7a5e8ef3266",
            "64dd02817f304d85a78639a11172fa59",
            "2730dd3812714bc480e0e9d12e4c75e4",
            "c2b2af4f9e524105a61a7413da8e7360",
            "86d261ccad624b019e40783f9e506de5",
            "e67e46365bef437c9818a9ec05d38009",
            "3e313ded9056468a87abe0f3fd5db450",
            "f9df3009ab9044a191efe4a1860b59c3",
            "51841e3621fb40408fbb97da46c352fc",
            "4630450fbac24079aa47084d5c25948e",
            "e32d5f87f0f3415a9260e20e60e7c4f4",
            "4428c74c9e074bdc98fae0aecaea3f07",
            "9bbf2b78dc604ec092ffe4ce5b8d493f",
            "dbbb432266ec404ba08045c6cd97a45a",
            "2f6591ea849d493fb43b005de42f60cd",
            "b1364957ef804cfaa84473534296fa66",
            "f9e24b53eb714c8fb8404367fd575695",
            "ae208df13d044f84b67d7b52624aced0",
            "1d4395a6bb344376bb56d7f1a1209fcb",
            "1fe16a11206f4587b91ed9f221fa8a2e",
            "7e82e8df4e2a430e891c79cfbfd018c2",
            "ef3c8bfeed89458e8441dd640b6d7516",
            "0e8b1a2463164c9e9746770b50485ca1",
            "93eea7c20cde4285bc9a08f4452fd500",
            "62bc9f324feb49a6ae9c2602dbabc116",
            "7ef04faa7ed14e0c89cbecec2899b3ac",
            "55fd9dd49f9f40cc8a818c1e72837aaf",
            "e530b2b9a1714e76b907bbab3e079ba0",
            "a387a11f0e7c418587afae6294b26d9d",
            "d55a0b4271ad42eaa75cf58e7fe7385c",
            "30bd30fa3e0045639dbd1facce20cab0",
            "ed85cf1905c249c084f34cbd3f0a648a",
            "a2a1e19118b94ee0adc7e9a91fd4df7d",
            "87461550baae4ad197966ca95e7b08b4",
            "1610da0e7b6c40c8a14a20e962cf5000",
            "88c92c4421114ef7a970682db593a3b0",
            "7081154feae246129366104cde83e794",
            "3fad42f3691b4ddabfded1fa78b9ae51",
            "dc2d6c809da54317a0eec3d767e90c52",
            "886679ddc3124d30bf4c095c526a7173",
            "4c832d82d88c4d67b105fc02ce0d465e",
            "e1031e99cf574c9dbd02f57acf621bbe",
            "a4b8d865488841f6b1379c46c7b1c4e6",
            "40dee6f98e35448497d5c72b56acbbde",
            "52bd66daa8674af886c3ed965fa98457",
            "4564a1e55c0d4e40affd6bc0185ffd34",
            "b807577b4b37467a9f084f0f42cf92f7",
            "fb228e1beaeb4618900d5defa46d893f",
            "8ee3d26f43df48a1a0d20717944d665e",
            "20424096695e4a449c2e717aacdee7fa",
            "7eecf6fb475447009b161cfd3c649795",
            "a91844b8337546dc9ea24c1c3a0a1b06",
            "5b91c94d8f8f40388634769d136d7152",
            "d88a834be289459dabadace368c98aaf",
            "04a71fdc8f68402aa9335b005c61d848",
            "4812ac81728c4c79b3cbc125a282ee37",
            "c62fa3709efb4b5aaeb4e4538b0ff3ea",
            "6249128a2d944db6b4d7e93f91fe0790",
            "6acf3a65bbd4454eb9ad2ea301f0ff08"
          ]
        },
        "outputId": "6789db9e-4a05-4e14-e538-d9ce147a6e66"
      },
      "outputs": [
        {
          "output_type": "display_data",
          "data": {
            "text/plain": [
              "Downloading readme:   0%|          | 0.00/8.07k [00:00<?, ?B/s]"
            ],
            "application/vnd.jupyter.widget-view+json": {
              "version_major": 2,
              "version_minor": 0,
              "model_id": "4ca1a181cfbb44e0948483f7441cf137"
            }
          },
          "metadata": {}
        },
        {
          "output_type": "display_data",
          "data": {
            "text/plain": [
              "Downloading data:   0%|          | 0.00/18.6M [00:00<?, ?B/s]"
            ],
            "application/vnd.jupyter.widget-view+json": {
              "version_major": 2,
              "version_minor": 0,
              "model_id": "10a32617b1874ecbbaef5487497cc76e"
            }
          },
          "metadata": {}
        },
        {
          "output_type": "display_data",
          "data": {
            "text/plain": [
              "Downloading data:   0%|          | 0.00/1.23M [00:00<?, ?B/s]"
            ],
            "application/vnd.jupyter.widget-view+json": {
              "version_major": 2,
              "version_minor": 0,
              "model_id": "a734518756e742f78caf61b2342d1ae0"
            }
          },
          "metadata": {}
        },
        {
          "output_type": "display_data",
          "data": {
            "text/plain": [
              "Generating train split:   0%|          | 0/120000 [00:00<?, ? examples/s]"
            ],
            "application/vnd.jupyter.widget-view+json": {
              "version_major": 2,
              "version_minor": 0,
              "model_id": "60f884e0c5e14cfe931473c4f4e24121"
            }
          },
          "metadata": {}
        },
        {
          "output_type": "display_data",
          "data": {
            "text/plain": [
              "Generating test split:   0%|          | 0/7600 [00:00<?, ? examples/s]"
            ],
            "application/vnd.jupyter.widget-view+json": {
              "version_major": 2,
              "version_minor": 0,
              "model_id": "5813123d59d44caca357e1bed86a5247"
            }
          },
          "metadata": {}
        },
        {
          "output_type": "display_data",
          "data": {
            "text/plain": [
              "tokenizer_config.json:   0%|          | 0.00/25.0 [00:00<?, ?B/s]"
            ],
            "application/vnd.jupyter.widget-view+json": {
              "version_major": 2,
              "version_minor": 0,
              "model_id": "86d261ccad624b019e40783f9e506de5"
            }
          },
          "metadata": {}
        },
        {
          "output_type": "display_data",
          "data": {
            "text/plain": [
              "vocab.json:   0%|          | 0.00/899k [00:00<?, ?B/s]"
            ],
            "application/vnd.jupyter.widget-view+json": {
              "version_major": 2,
              "version_minor": 0,
              "model_id": "b1364957ef804cfaa84473534296fa66"
            }
          },
          "metadata": {}
        },
        {
          "output_type": "display_data",
          "data": {
            "text/plain": [
              "merges.txt:   0%|          | 0.00/456k [00:00<?, ?B/s]"
            ],
            "application/vnd.jupyter.widget-view+json": {
              "version_major": 2,
              "version_minor": 0,
              "model_id": "55fd9dd49f9f40cc8a818c1e72837aaf"
            }
          },
          "metadata": {}
        },
        {
          "output_type": "display_data",
          "data": {
            "text/plain": [
              "tokenizer.json:   0%|          | 0.00/1.36M [00:00<?, ?B/s]"
            ],
            "application/vnd.jupyter.widget-view+json": {
              "version_major": 2,
              "version_minor": 0,
              "model_id": "3fad42f3691b4ddabfded1fa78b9ae51"
            }
          },
          "metadata": {}
        },
        {
          "output_type": "stream",
          "name": "stderr",
          "text": [
            "/usr/local/lib/python3.10/dist-packages/huggingface_hub/file_download.py:1132: FutureWarning: `resume_download` is deprecated and will be removed in version 1.0.0. Downloads always resume when possible. If you want to force a new download, use `force_download=True`.\n",
            "  warnings.warn(\n"
          ]
        },
        {
          "output_type": "display_data",
          "data": {
            "text/plain": [
              "config.json:   0%|          | 0.00/481 [00:00<?, ?B/s]"
            ],
            "application/vnd.jupyter.widget-view+json": {
              "version_major": 2,
              "version_minor": 0,
              "model_id": "8ee3d26f43df48a1a0d20717944d665e"
            }
          },
          "metadata": {}
        }
      ],
      "source": [
        "dataset = load_dataset('ag_news')\n",
        "tokenizer = RobertaTokenizer.from_pretrained(base_model)"
      ]
    },
    {
      "cell_type": "markdown",
      "metadata": {
        "id": "oebqyNHEd4m4"
      },
      "source": [
        "## **Define function to preprocess dataset**"
      ]
    },
    {
      "cell_type": "code",
      "execution_count": 9,
      "metadata": {
        "id": "4OMnwA8LeBJI"
      },
      "outputs": [],
      "source": [
        "def preprocess(examples):\n",
        "    tokenized = tokenizer(examples['text'], truncation=True, padding=True)\n",
        "    return tokenized"
      ]
    },
    {
      "cell_type": "markdown",
      "metadata": {
        "id": "Kby0t7I4eFuV"
      },
      "source": [
        "## **Preprocess the dataset**"
      ]
    },
    {
      "cell_type": "code",
      "execution_count": 10,
      "metadata": {
        "id": "-5f9cpVEeLO4",
        "colab": {
          "base_uri": "https://localhost:8080/",
          "height": 81,
          "referenced_widgets": [
            "91471beab41542d987054c68941729b1",
            "c7f478a942f64fa3bbd85a2845f734ea",
            "10ecac42ec6c41059de8414d3b66206a",
            "e3ede308e87b427b9b505c4d8145348c",
            "c67c53241eff4436992a14aa0c0c87d9",
            "d390745ab5d9498d9ed0388dd2cce18e",
            "95e60836c872465bbc20afa7b406ca24",
            "769040157b00406aa8668e56998d7f4c",
            "d68e7664b8e4467bbcd98986c687f35b",
            "7e7faa58278049aabb486b7e8c2e2515",
            "c4b38ec3443048a7a869fc2dc96c2650",
            "aba2e9374ffa4f3891a0372171128ee8",
            "3024b9c5fa6b4bd6a2f9c4bde001195c",
            "9c84a459aebe4aada6f0092e3ee359d8",
            "b1f09e9d75e24144a7a827a0d814cd79",
            "6cf7e8ba6ac042e595a7651096af4f18",
            "5911e908f674492d806be440cc3fb9ef",
            "847528bf2e13415abdc8dded4fdd7e3d",
            "6603041808f94155bc291b01da7317bc",
            "1b1af52636bd439fbdca6f042a1b8e8f",
            "99a3ae631d644c3bab2d3bdd5118bbdc",
            "abd2ffa8777341ef8663b2c440940dca"
          ]
        },
        "outputId": "263bef04-daff-47a1-c672-bb0cd18a0c14"
      },
      "outputs": [
        {
          "output_type": "display_data",
          "data": {
            "text/plain": [
              "Map:   0%|          | 0/120000 [00:00<?, ? examples/s]"
            ],
            "application/vnd.jupyter.widget-view+json": {
              "version_major": 2,
              "version_minor": 0,
              "model_id": "91471beab41542d987054c68941729b1"
            }
          },
          "metadata": {}
        },
        {
          "output_type": "display_data",
          "data": {
            "text/plain": [
              "Map:   0%|          | 0/7600 [00:00<?, ? examples/s]"
            ],
            "application/vnd.jupyter.widget-view+json": {
              "version_major": 2,
              "version_minor": 0,
              "model_id": "aba2e9374ffa4f3891a0372171128ee8"
            }
          },
          "metadata": {}
        }
      ],
      "source": [
        "tokenized_dataset = dataset.map(preprocess, batched=True,  remove_columns=[\"text\"])\n",
        "train_dataset=tokenized_dataset['train']\n",
        "eval_dataset=tokenized_dataset['test'].shard(num_shards=2, index=0)\n",
        "test_dataset=tokenized_dataset['test'].shard(num_shards=2, index=1)"
      ]
    },
    {
      "cell_type": "code",
      "execution_count": 11,
      "metadata": {
        "colab": {
          "base_uri": "https://localhost:8080/"
        },
        "id": "rPZjLaTWedaz",
        "outputId": "b39d47ed-ce95-47a8-ef47-76da3bcd47ac"
      },
      "outputs": [
        {
          "output_type": "execute_result",
          "data": {
            "text/plain": [
              "DatasetDict({\n",
              "    train: Dataset({\n",
              "        features: ['text', 'label'],\n",
              "        num_rows: 120000\n",
              "    })\n",
              "    test: Dataset({\n",
              "        features: ['text', 'label'],\n",
              "        num_rows: 7600\n",
              "    })\n",
              "})"
            ]
          },
          "metadata": {},
          "execution_count": 11
        }
      ],
      "source": [
        "# Examine structure of 'dataset'\n",
        "dataset"
      ]
    },
    {
      "cell_type": "code",
      "execution_count": 12,
      "metadata": {
        "colab": {
          "base_uri": "https://localhost:8080/"
        },
        "id": "gQTSUDlHedPG",
        "outputId": "e37b666a-9e48-4ac2-d652-ad81e922465b"
      },
      "outputs": [
        {
          "output_type": "execute_result",
          "data": {
            "text/plain": [
              "DatasetDict({\n",
              "    train: Dataset({\n",
              "        features: ['label', 'input_ids', 'attention_mask'],\n",
              "        num_rows: 120000\n",
              "    })\n",
              "    test: Dataset({\n",
              "        features: ['label', 'input_ids', 'attention_mask'],\n",
              "        num_rows: 7600\n",
              "    })\n",
              "})"
            ]
          },
          "metadata": {},
          "execution_count": 12
        }
      ],
      "source": [
        "# Examine structure of 'tokenized_dataset'\n",
        "tokenized_dataset"
      ]
    },
    {
      "cell_type": "code",
      "execution_count": 13,
      "metadata": {
        "colab": {
          "base_uri": "https://localhost:8080/"
        },
        "id": "QO1waSOsedDd",
        "outputId": "1d8b36ff-d877-45da-8565-969543bee855"
      },
      "outputs": [
        {
          "output_type": "execute_result",
          "data": {
            "text/plain": [
              "Dataset({\n",
              "    features: ['label', 'input_ids', 'attention_mask'],\n",
              "    num_rows: 120000\n",
              "})"
            ]
          },
          "metadata": {},
          "execution_count": 13
        }
      ],
      "source": [
        "# Examine structure of 'train_dataset'\n",
        "train_dataset"
      ]
    },
    {
      "cell_type": "code",
      "execution_count": 14,
      "metadata": {
        "colab": {
          "base_uri": "https://localhost:8080/"
        },
        "id": "GvcOu2Ydec23",
        "outputId": "329ec60c-b367-43b1-89e6-11276c1f8db2"
      },
      "outputs": [
        {
          "output_type": "execute_result",
          "data": {
            "text/plain": [
              "Dataset({\n",
              "    features: ['label', 'input_ids', 'attention_mask'],\n",
              "    num_rows: 3800\n",
              "})"
            ]
          },
          "metadata": {},
          "execution_count": 14
        }
      ],
      "source": [
        "# Examine structure of 'eval_dataset'\n",
        "eval_dataset"
      ]
    },
    {
      "cell_type": "code",
      "execution_count": 15,
      "metadata": {
        "colab": {
          "base_uri": "https://localhost:8080/"
        },
        "id": "Dleay88WecpO",
        "outputId": "7a0660c6-8046-4586-c5c4-935265f38aa8"
      },
      "outputs": [
        {
          "output_type": "execute_result",
          "data": {
            "text/plain": [
              "Dataset({\n",
              "    features: ['label', 'input_ids', 'attention_mask'],\n",
              "    num_rows: 3800\n",
              "})"
            ]
          },
          "metadata": {},
          "execution_count": 15
        }
      ],
      "source": [
        "# Examine structure of 'test_dataset'\n",
        "test_dataset"
      ]
    },
    {
      "cell_type": "markdown",
      "metadata": {
        "id": "inc8tN-geWGS"
      },
      "source": [
        "## **Obtain number of classes in dataset and their names**"
      ]
    },
    {
      "cell_type": "code",
      "execution_count": 16,
      "metadata": {
        "colab": {
          "base_uri": "https://localhost:8080/"
        },
        "id": "8C9nOGCingZG",
        "outputId": "30143fd2-e815-4190-ec8e-e4c3885b19cf"
      },
      "outputs": [
        {
          "output_type": "stream",
          "name": "stdout",
          "text": [
            "number of labels: 4\n",
            "the labels: ['World', 'Sports', 'Business', 'Sci/Tech']\n"
          ]
        }
      ],
      "source": [
        "# Extract the number of classess and their names\n",
        "num_labels = dataset['train'].features['label'].num_classes\n",
        "class_names = dataset[\"train\"].features[\"label\"].names\n",
        "print(f\"number of labels: {num_labels}\")\n",
        "print(f\"the labels: {class_names}\")"
      ]
    },
    {
      "cell_type": "markdown",
      "metadata": {
        "id": "KpYgHwWAe7oV"
      },
      "source": [
        "## **Create the id2label mapping which will be needed when categorizing results**"
      ]
    },
    {
      "cell_type": "code",
      "execution_count": 17,
      "metadata": {
        "id": "ayusssbZezXT"
      },
      "outputs": [],
      "source": [
        "# Create an id2label mapping\n",
        "id2label = {i: label for i, label in enumerate(class_names)}"
      ]
    },
    {
      "cell_type": "code",
      "execution_count": 18,
      "metadata": {
        "colab": {
          "base_uri": "https://localhost:8080/"
        },
        "id": "OnGIcXdefHN8",
        "outputId": "ee822aec-1929-4d51-959e-436e544a7846"
      },
      "outputs": [
        {
          "output_type": "stream",
          "name": "stdout",
          "text": [
            "id: 0, label: World\n",
            "id: 1, label: Sports\n",
            "id: 2, label: Business\n",
            "id: 3, label: Sci/Tech\n"
          ]
        }
      ],
      "source": [
        "# Print the mappings for reference\n",
        "for i, label in enumerate(class_names):\n",
        "    print(f\"id: {i}, label: {label}\")"
      ]
    },
    {
      "cell_type": "markdown",
      "metadata": {
        "id": "1_xBZqhSfMb1"
      },
      "source": [
        "## **Instantiate data collator**"
      ]
    },
    {
      "cell_type": "code",
      "execution_count": 19,
      "metadata": {
        "id": "ab6b6kwmezG3"
      },
      "outputs": [],
      "source": [
        "data_collator = DataCollatorWithPadding(tokenizer=tokenizer, return_tensors=\"pt\")"
      ]
    },
    {
      "cell_type": "markdown",
      "metadata": {
        "id": "ulCKxUuYoNNa"
      },
      "source": [
        "## **Training**\n",
        "Train two models, one using LORA and the other with full fine-tuning.\n",
        "\n",
        "Note the LORA training times and the number of trained parameters!"
      ]
    },
    {
      "cell_type": "code",
      "execution_count": 20,
      "metadata": {
        "colab": {
          "base_uri": "https://localhost:8080/"
        },
        "id": "hb2jigxHngXM",
        "outputId": "b3581087-e366-4956-fed7-0f9192101a55"
      },
      "outputs": [
        {
          "output_type": "stream",
          "name": "stderr",
          "text": [
            "/usr/local/lib/python3.10/dist-packages/transformers/training_args.py:1474: FutureWarning: `evaluation_strategy` is deprecated and will be removed in version 4.46 of 🤗 Transformers. Use `eval_strategy` instead\n",
            "  warnings.warn(\n"
          ]
        }
      ],
      "source": [
        "# use the same Training args for all models\n",
        "training_args = TrainingArguments(\n",
        "    output_dir='./results',\n",
        "    evaluation_strategy='steps',\n",
        "    learning_rate=2e-5,\n",
        "    num_train_epochs=1,\n",
        "    per_device_train_batch_size=16,\n",
        ")"
      ]
    },
    {
      "cell_type": "code",
      "execution_count": 21,
      "metadata": {
        "id": "AOEonBJQngUw"
      },
      "outputs": [],
      "source": [
        "def get_trainer(model):\n",
        "      return  Trainer(\n",
        "          model=model,\n",
        "          args=training_args,\n",
        "          train_dataset=train_dataset,\n",
        "          eval_dataset=eval_dataset,\n",
        "          data_collator=data_collator,\n",
        "      )"
      ]
    },
    {
      "cell_type": "markdown",
      "metadata": {
        "id": "G2wLbm-1fePj"
      },
      "source": [
        "## **Full Fine-Tuning Training**"
      ]
    },
    {
      "cell_type": "code",
      "execution_count": 22,
      "metadata": {
        "colab": {
          "base_uri": "https://localhost:8080/",
          "height": 669,
          "referenced_widgets": [
            "8950f30894c040da9161ac82e9fa4ba0",
            "694d0461ac1346558fc38fcdc34d7e2b",
            "21a0592f40724e3c8e1b697766550cc9",
            "348d70f5ef6f484da1c849477fc2729d",
            "8a4e515b83564cc89c8595a4a5af6d71",
            "ba073f58cfaf435ca7e928fc881a7d55",
            "d8a6dbdcbcb14691a8d31931a53833c7",
            "1d40adbd3fc44746b1646fb5f1a3a4ba",
            "2760a789475e4868ab4be57624f86b73",
            "aeedda87310c4473a4481b097617b22c",
            "8d21689046914dafb9a982fedb335237"
          ]
        },
        "id": "QjtNoEt8ngSo",
        "outputId": "015b791d-b5a3-46d0-cbd2-2ae98a4423e3"
      },
      "outputs": [
        {
          "output_type": "display_data",
          "data": {
            "text/plain": [
              "model.safetensors:   0%|          | 0.00/499M [00:00<?, ?B/s]"
            ],
            "application/vnd.jupyter.widget-view+json": {
              "version_major": 2,
              "version_minor": 0,
              "model_id": "8950f30894c040da9161ac82e9fa4ba0"
            }
          },
          "metadata": {}
        },
        {
          "output_type": "stream",
          "name": "stderr",
          "text": [
            "Some weights of RobertaForSequenceClassification were not initialized from the model checkpoint at roberta-base and are newly initialized: ['classifier.dense.bias', 'classifier.dense.weight', 'classifier.out_proj.bias', 'classifier.out_proj.weight']\n",
            "You should probably TRAIN this model on a down-stream task to be able to use it for predictions and inference.\n"
          ]
        },
        {
          "output_type": "display_data",
          "data": {
            "text/plain": [
              "<IPython.core.display.HTML object>"
            ],
            "text/html": [
              "\n",
              "    <div>\n",
              "      \n",
              "      <progress value='7500' max='7500' style='width:300px; height:20px; vertical-align: middle;'></progress>\n",
              "      [7500/7500 32:54, Epoch 1/1]\n",
              "    </div>\n",
              "    <table border=\"1\" class=\"dataframe\">\n",
              "  <thead>\n",
              " <tr style=\"text-align: left;\">\n",
              "      <th>Step</th>\n",
              "      <th>Training Loss</th>\n",
              "      <th>Validation Loss</th>\n",
              "    </tr>\n",
              "  </thead>\n",
              "  <tbody>\n",
              "    <tr>\n",
              "      <td>500</td>\n",
              "      <td>0.401300</td>\n",
              "      <td>0.300813</td>\n",
              "    </tr>\n",
              "    <tr>\n",
              "      <td>1000</td>\n",
              "      <td>0.264200</td>\n",
              "      <td>0.249738</td>\n",
              "    </tr>\n",
              "    <tr>\n",
              "      <td>1500</td>\n",
              "      <td>0.237500</td>\n",
              "      <td>0.251835</td>\n",
              "    </tr>\n",
              "    <tr>\n",
              "      <td>2000</td>\n",
              "      <td>0.222900</td>\n",
              "      <td>0.245339</td>\n",
              "    </tr>\n",
              "    <tr>\n",
              "      <td>2500</td>\n",
              "      <td>0.228800</td>\n",
              "      <td>0.232494</td>\n",
              "    </tr>\n",
              "    <tr>\n",
              "      <td>3000</td>\n",
              "      <td>0.241700</td>\n",
              "      <td>0.210147</td>\n",
              "    </tr>\n",
              "    <tr>\n",
              "      <td>3500</td>\n",
              "      <td>0.211300</td>\n",
              "      <td>0.204921</td>\n",
              "    </tr>\n",
              "    <tr>\n",
              "      <td>4000</td>\n",
              "      <td>0.203400</td>\n",
              "      <td>0.205636</td>\n",
              "    </tr>\n",
              "    <tr>\n",
              "      <td>4500</td>\n",
              "      <td>0.194600</td>\n",
              "      <td>0.220460</td>\n",
              "    </tr>\n",
              "    <tr>\n",
              "      <td>5000</td>\n",
              "      <td>0.190600</td>\n",
              "      <td>0.198275</td>\n",
              "    </tr>\n",
              "    <tr>\n",
              "      <td>5500</td>\n",
              "      <td>0.189600</td>\n",
              "      <td>0.202913</td>\n",
              "    </tr>\n",
              "    <tr>\n",
              "      <td>6000</td>\n",
              "      <td>0.189700</td>\n",
              "      <td>0.210832</td>\n",
              "    </tr>\n",
              "    <tr>\n",
              "      <td>6500</td>\n",
              "      <td>0.196900</td>\n",
              "      <td>0.191732</td>\n",
              "    </tr>\n",
              "    <tr>\n",
              "      <td>7000</td>\n",
              "      <td>0.176200</td>\n",
              "      <td>0.195127</td>\n",
              "    </tr>\n",
              "    <tr>\n",
              "      <td>7500</td>\n",
              "      <td>0.194300</td>\n",
              "      <td>0.191244</td>\n",
              "    </tr>\n",
              "  </tbody>\n",
              "</table><p>"
            ]
          },
          "metadata": {}
        },
        {
          "output_type": "execute_result",
          "data": {
            "text/plain": [
              "TrainOutput(global_step=7500, training_loss=0.22287412719726563, metrics={'train_runtime': 1976.2895, 'train_samples_per_second': 60.72, 'train_steps_per_second': 3.795, 'total_flos': 2.0289992490004224e+16, 'train_loss': 0.22287412719726563, 'epoch': 1.0})"
            ]
          },
          "metadata": {},
          "execution_count": 22
        }
      ],
      "source": [
        "full_finetuning_trainer = get_trainer(\n",
        "    AutoModelForSequenceClassification.from_pretrained(\n",
        "        base_model,\n",
        "        id2label=id2label),\n",
        ")\n",
        "\n",
        "full_finetuning_trainer.train()"
      ]
    },
    {
      "cell_type": "markdown",
      "metadata": {
        "id": "zQLRYfwLokk-"
      },
      "source": [
        "## **PEFT Training**"
      ]
    },
    {
      "cell_type": "markdown",
      "source": [
        "## **Train PEFT adapter**\n",
        "\n",
        "### **Note:** I did *not* include BitsAndBytes in this model.After experimenting with BitsAndBytesConfig to try and improve the model, I discovered that the minimum loss for PEFT asymptoted at around 0.31 with BitsAndBytes compared to a minimum loss of around 0.24 without BitsAndBytes. Furthermore, the accuracy was only around 90% with BitsAndBytes compared to an accuracy of 93% without BitsAndBytes. Since my model was training perfectly well without BitsAndBytes, I decided to *not* use it, which resulted in a superior model.\n",
        "\n",
        "### I kept the code for future reference if needed.\n",
        "\n",
        "### **FYI:** The line \"%%script false --no-raise-error\" makes Jupyter Notebook ignore the entire cell."
      ],
      "metadata": {
        "id": "Ia-2QZ35YKDb"
      }
    },
    {
      "cell_type": "markdown",
      "source": [
        "#### *The cell below is ignored by Jupyter Notebook*\n",
        "\n"
      ],
      "metadata": {
        "id": "VOK9isnzAn5-"
      }
    },
    {
      "cell_type": "code",
      "source": [
        "%%script false --no-raise-error\n",
        "# The line above causes Jupyter Notebook to skip this entire cell\n",
        "# Quantization config for LORA using BitsAndBytesConfig\n",
        "quantization_config = BitsAndBytesConfig(\n",
        "    load_in_4bit = True, # enable 4-bit quantization\n",
        "    bnb_4bit_quant_type = 'nf4', # information theoretically optimal dtype for normally distributed weights\n",
        "    bnb_4bit_use_double_quant = True, # quantize quantized weights //insert xzibit meme\n",
        "    bnb_4bit_compute_dtype = torch.bfloat16 # optimized fp format for ML\n",
        ")"
      ],
      "metadata": {
        "id": "a7vtZeC3n9m8"
      },
      "execution_count": 23,
      "outputs": []
    },
    {
      "cell_type": "markdown",
      "source": [
        "## **Instantiate the PEFT model**"
      ],
      "metadata": {
        "id": "EyxnGtLIELQE"
      }
    },
    {
      "cell_type": "code",
      "source": [
        "model = AutoModelForSequenceClassification.from_pretrained(\n",
        "    base_model,\n",
        "    # quantization_config=quantization_config,\n",
        "    id2label=id2label\n",
        "    )"
      ],
      "metadata": {
        "colab": {
          "base_uri": "https://localhost:8080/"
        },
        "id": "xufe0GSAn9kr",
        "outputId": "e94f746a-1060-4350-f11d-0ddb6ea7e1ab"
      },
      "execution_count": 24,
      "outputs": [
        {
          "output_type": "stream",
          "name": "stderr",
          "text": [
            "Some weights of RobertaForSequenceClassification were not initialized from the model checkpoint at roberta-base and are newly initialized: ['classifier.dense.bias', 'classifier.dense.weight', 'classifier.out_proj.bias', 'classifier.out_proj.weight']\n",
            "You should probably TRAIN this model on a down-stream task to be able to use it for predictions and inference.\n"
          ]
        }
      ]
    },
    {
      "cell_type": "markdown",
      "source": [
        "#### *The cell below is ignored by Jupyter Notebook*"
      ],
      "metadata": {
        "id": "xJ-LfKzjA72K"
      }
    },
    {
      "cell_type": "code",
      "source": [
        "%%script false --no-raise-error\n",
        "# The line above causes Jupyter Notebook to skip this entire cell\n",
        "# Prepare model for kbit training\n",
        "from peft import prepare_model_for_kbit_training\n",
        "model = prepare_model_for_kbit_training(model)"
      ],
      "metadata": {
        "id": "haFvg55Rn9ir"
      },
      "execution_count": 25,
      "outputs": []
    },
    {
      "cell_type": "markdown",
      "source": [
        "#### *The cell below is ignored by Jupyter Notebook*"
      ],
      "metadata": {
        "id": "hSVuojBEA-Hk"
      }
    },
    {
      "cell_type": "code",
      "source": [
        "%%script false --no-raise-error\n",
        "# The line above causes Jupyter Notebook to skip this entire cell\n",
        "# Dequantize the classifier layer\n",
        "for param in model.classifier.parameters():\n",
        "    param.data = param.data.float()\n",
        "    param.requires_grad = True"
      ],
      "metadata": {
        "id": "0rY1RMS5pXCf"
      },
      "execution_count": 26,
      "outputs": []
    },
    {
      "cell_type": "markdown",
      "source": [
        "## **Configure LoRA**"
      ],
      "metadata": {
        "id": "aK8dJrTjETIq"
      }
    },
    {
      "cell_type": "code",
      "source": [
        "peft_config = LoraConfig(\n",
        "    task_type=\"SEQ_CLS\", # sequence classification task\n",
        "    inference_mode=False,\n",
        "    r=8, # dimension of low-rank matrices\n",
        "    lora_alpha=16, # scaling factor for LoRA activations\n",
        "    lora_dropout=0.1,\n",
        "    bias=\"none\", # no bias weights\n",
        "    )"
      ],
      "metadata": {
        "id": "LIxQJ_e_n9ha"
      },
      "execution_count": 27,
      "outputs": []
    },
    {
      "cell_type": "markdown",
      "source": [
        "## **Merge the PEFT adapter with the base model and print the trainable parameters of the merged model**"
      ],
      "metadata": {
        "id": "TP6hswjsEZ_t"
      }
    },
    {
      "cell_type": "code",
      "source": [
        "peft_model = get_peft_model(model, peft_config)\n",
        "\n",
        "print('PEFT Model')\n",
        "peft_model.print_trainable_parameters()"
      ],
      "metadata": {
        "id": "-2zkW6zYpetf",
        "colab": {
          "base_uri": "https://localhost:8080/"
        },
        "outputId": "d830469a-33ce-4ce8-84e0-fa245dda7331"
      },
      "execution_count": 28,
      "outputs": [
        {
          "output_type": "stream",
          "name": "stdout",
          "text": [
            "PEFT Model\n",
            "trainable params: 888,580 || all params: 125,537,288 || trainable%: 0.7078\n"
          ]
        }
      ]
    },
    {
      "cell_type": "markdown",
      "source": [
        "## **Get the PEFT trainer and train the merged PEFT model**"
      ],
      "metadata": {
        "id": "i4dh8nYyEkdR"
      }
    },
    {
      "cell_type": "code",
      "execution_count": 29,
      "metadata": {
        "id": "rgandsxdngQD",
        "colab": {
          "base_uri": "https://localhost:8080/",
          "height": 1000
        },
        "outputId": "d099f4e4-f972-4972-fde7-9e7d17a13ed4"
      },
      "outputs": [
        {
          "output_type": "display_data",
          "data": {
            "text/plain": [
              "<IPython.core.display.HTML object>"
            ],
            "text/html": [
              "\n",
              "    <div>\n",
              "      \n",
              "      <progress value='7500' max='7500' style='width:300px; height:20px; vertical-align: middle;'></progress>\n",
              "      [7500/7500 25:55, Epoch 1/1]\n",
              "    </div>\n",
              "    <table border=\"1\" class=\"dataframe\">\n",
              "  <thead>\n",
              " <tr style=\"text-align: left;\">\n",
              "      <th>Step</th>\n",
              "      <th>Training Loss</th>\n",
              "      <th>Validation Loss</th>\n",
              "    </tr>\n",
              "  </thead>\n",
              "  <tbody>\n",
              "    <tr>\n",
              "      <td>500</td>\n",
              "      <td>0.932200</td>\n",
              "      <td>0.341805</td>\n",
              "    </tr>\n",
              "    <tr>\n",
              "      <td>1000</td>\n",
              "      <td>0.310300</td>\n",
              "      <td>0.320526</td>\n",
              "    </tr>\n",
              "    <tr>\n",
              "      <td>1500</td>\n",
              "      <td>0.305000</td>\n",
              "      <td>0.314143</td>\n",
              "    </tr>\n",
              "    <tr>\n",
              "      <td>2000</td>\n",
              "      <td>0.287200</td>\n",
              "      <td>0.305717</td>\n",
              "    </tr>\n",
              "    <tr>\n",
              "      <td>2500</td>\n",
              "      <td>0.296500</td>\n",
              "      <td>0.300594</td>\n",
              "    </tr>\n",
              "    <tr>\n",
              "      <td>3000</td>\n",
              "      <td>0.307700</td>\n",
              "      <td>0.291972</td>\n",
              "    </tr>\n",
              "    <tr>\n",
              "      <td>3500</td>\n",
              "      <td>0.274400</td>\n",
              "      <td>0.295050</td>\n",
              "    </tr>\n",
              "    <tr>\n",
              "      <td>4000</td>\n",
              "      <td>0.286700</td>\n",
              "      <td>0.290692</td>\n",
              "    </tr>\n",
              "    <tr>\n",
              "      <td>4500</td>\n",
              "      <td>0.287700</td>\n",
              "      <td>0.287533</td>\n",
              "    </tr>\n",
              "    <tr>\n",
              "      <td>5000</td>\n",
              "      <td>0.273900</td>\n",
              "      <td>0.287174</td>\n",
              "    </tr>\n",
              "    <tr>\n",
              "      <td>5500</td>\n",
              "      <td>0.267900</td>\n",
              "      <td>0.285427</td>\n",
              "    </tr>\n",
              "    <tr>\n",
              "      <td>6000</td>\n",
              "      <td>0.273900</td>\n",
              "      <td>0.285104</td>\n",
              "    </tr>\n",
              "    <tr>\n",
              "      <td>6500</td>\n",
              "      <td>0.262300</td>\n",
              "      <td>0.285445</td>\n",
              "    </tr>\n",
              "    <tr>\n",
              "      <td>7000</td>\n",
              "      <td>0.275400</td>\n",
              "      <td>0.282353</td>\n",
              "    </tr>\n",
              "    <tr>\n",
              "      <td>7500</td>\n",
              "      <td>0.286000</td>\n",
              "      <td>0.282444</td>\n",
              "    </tr>\n",
              "  </tbody>\n",
              "</table><p>"
            ]
          },
          "metadata": {}
        },
        {
          "output_type": "stream",
          "name": "stderr",
          "text": [
            "/usr/local/lib/python3.10/dist-packages/huggingface_hub/file_download.py:1132: FutureWarning: `resume_download` is deprecated and will be removed in version 1.0.0. Downloads always resume when possible. If you want to force a new download, use `force_download=True`.\n",
            "  warnings.warn(\n",
            "/usr/local/lib/python3.10/dist-packages/huggingface_hub/file_download.py:1132: FutureWarning: `resume_download` is deprecated and will be removed in version 1.0.0. Downloads always resume when possible. If you want to force a new download, use `force_download=True`.\n",
            "  warnings.warn(\n",
            "/usr/local/lib/python3.10/dist-packages/huggingface_hub/file_download.py:1132: FutureWarning: `resume_download` is deprecated and will be removed in version 1.0.0. Downloads always resume when possible. If you want to force a new download, use `force_download=True`.\n",
            "  warnings.warn(\n",
            "/usr/local/lib/python3.10/dist-packages/huggingface_hub/file_download.py:1132: FutureWarning: `resume_download` is deprecated and will be removed in version 1.0.0. Downloads always resume when possible. If you want to force a new download, use `force_download=True`.\n",
            "  warnings.warn(\n",
            "/usr/local/lib/python3.10/dist-packages/huggingface_hub/file_download.py:1132: FutureWarning: `resume_download` is deprecated and will be removed in version 1.0.0. Downloads always resume when possible. If you want to force a new download, use `force_download=True`.\n",
            "  warnings.warn(\n",
            "/usr/local/lib/python3.10/dist-packages/huggingface_hub/file_download.py:1132: FutureWarning: `resume_download` is deprecated and will be removed in version 1.0.0. Downloads always resume when possible. If you want to force a new download, use `force_download=True`.\n",
            "  warnings.warn(\n",
            "/usr/local/lib/python3.10/dist-packages/huggingface_hub/file_download.py:1132: FutureWarning: `resume_download` is deprecated and will be removed in version 1.0.0. Downloads always resume when possible. If you want to force a new download, use `force_download=True`.\n",
            "  warnings.warn(\n",
            "/usr/local/lib/python3.10/dist-packages/huggingface_hub/file_download.py:1132: FutureWarning: `resume_download` is deprecated and will be removed in version 1.0.0. Downloads always resume when possible. If you want to force a new download, use `force_download=True`.\n",
            "  warnings.warn(\n",
            "/usr/local/lib/python3.10/dist-packages/huggingface_hub/file_download.py:1132: FutureWarning: `resume_download` is deprecated and will be removed in version 1.0.0. Downloads always resume when possible. If you want to force a new download, use `force_download=True`.\n",
            "  warnings.warn(\n",
            "/usr/local/lib/python3.10/dist-packages/huggingface_hub/file_download.py:1132: FutureWarning: `resume_download` is deprecated and will be removed in version 1.0.0. Downloads always resume when possible. If you want to force a new download, use `force_download=True`.\n",
            "  warnings.warn(\n",
            "/usr/local/lib/python3.10/dist-packages/huggingface_hub/file_download.py:1132: FutureWarning: `resume_download` is deprecated and will be removed in version 1.0.0. Downloads always resume when possible. If you want to force a new download, use `force_download=True`.\n",
            "  warnings.warn(\n",
            "/usr/local/lib/python3.10/dist-packages/huggingface_hub/file_download.py:1132: FutureWarning: `resume_download` is deprecated and will be removed in version 1.0.0. Downloads always resume when possible. If you want to force a new download, use `force_download=True`.\n",
            "  warnings.warn(\n",
            "/usr/local/lib/python3.10/dist-packages/huggingface_hub/file_download.py:1132: FutureWarning: `resume_download` is deprecated and will be removed in version 1.0.0. Downloads always resume when possible. If you want to force a new download, use `force_download=True`.\n",
            "  warnings.warn(\n",
            "/usr/local/lib/python3.10/dist-packages/huggingface_hub/file_download.py:1132: FutureWarning: `resume_download` is deprecated and will be removed in version 1.0.0. Downloads always resume when possible. If you want to force a new download, use `force_download=True`.\n",
            "  warnings.warn(\n",
            "/usr/local/lib/python3.10/dist-packages/huggingface_hub/file_download.py:1132: FutureWarning: `resume_download` is deprecated and will be removed in version 1.0.0. Downloads always resume when possible. If you want to force a new download, use `force_download=True`.\n",
            "  warnings.warn(\n"
          ]
        },
        {
          "output_type": "execute_result",
          "data": {
            "text/plain": [
              "TrainOutput(global_step=7500, training_loss=0.3284603535970052, metrics={'train_runtime': 1555.4345, 'train_samples_per_second': 77.149, 'train_steps_per_second': 4.822, 'total_flos': 2.0500492798385664e+16, 'train_loss': 0.3284603535970052, 'epoch': 1.0})"
            ]
          },
          "metadata": {},
          "execution_count": 29
        }
      ],
      "source": [
        "peft_lora_finetuning_trainer = get_trainer(peft_model)\n",
        "peft_lora_finetuning_trainer.train()"
      ]
    },
    {
      "cell_type": "markdown",
      "metadata": {
        "id": "aggj1tlXozFe"
      },
      "source": [
        "## **Save PEFT Model**"
      ]
    },
    {
      "cell_type": "code",
      "execution_count": 30,
      "metadata": {
        "id": "-lOfhzWdngN4",
        "colab": {
          "base_uri": "https://localhost:8080/"
        },
        "outputId": "80b3de53-3e1e-4243-ce0f-6098e6a01985"
      },
      "outputs": [
        {
          "output_type": "stream",
          "name": "stderr",
          "text": [
            "/usr/local/lib/python3.10/dist-packages/huggingface_hub/file_download.py:1132: FutureWarning: `resume_download` is deprecated and will be removed in version 1.0.0. Downloads always resume when possible. If you want to force a new download, use `force_download=True`.\n",
            "  warnings.warn(\n"
          ]
        }
      ],
      "source": [
        "tokenizer.save_pretrained(modified_base)\n",
        "peft_model.save_pretrained(peft_model_name)"
      ]
    },
    {
      "cell_type": "markdown",
      "metadata": {
        "id": "ehyxYUVKpFas"
      },
      "source": [
        "## **Load the saved PEFT model**"
      ]
    },
    {
      "cell_type": "code",
      "execution_count": 31,
      "metadata": {
        "id": "8R-COYWangLT",
        "colab": {
          "base_uri": "https://localhost:8080/"
        },
        "outputId": "821f7126-6ab6-43d4-bf81-bbd61e910a36"
      },
      "outputs": [
        {
          "output_type": "stream",
          "name": "stderr",
          "text": [
            "Some weights of RobertaForSequenceClassification were not initialized from the model checkpoint at roberta-base and are newly initialized: ['classifier.dense.bias', 'classifier.dense.weight', 'classifier.out_proj.bias', 'classifier.out_proj.weight']\n",
            "You should probably TRAIN this model on a down-stream task to be able to use it for predictions and inference.\n"
          ]
        }
      ],
      "source": [
        "from peft import AutoPeftModelForSequenceClassification\n",
        "from transformers import AutoTokenizer\n",
        "\n",
        "# Load the saved PEFT model\n",
        "inference_model = AutoPeftModelForSequenceClassification.from_pretrained(peft_model_name, id2label=id2label)\n",
        "tokenizer = AutoTokenizer.from_pretrained(modified_base)"
      ]
    },
    {
      "cell_type": "markdown",
      "source": [
        "## **Define function to categorize blocks of text**\n",
        "\n"
      ],
      "metadata": {
        "id": "k-MQz42EVUAt"
      }
    },
    {
      "cell_type": "code",
      "source": [
        "def categorize(text):\n",
        "  inputs = tokenizer(text, truncation=True, padding=True, return_tensors=\"pt\")\n",
        "  output = inference_model(**inputs)\n",
        "\n",
        "  category = output.logits.argmax(dim=-1).item() # 'category' is a number\n",
        "  label = id2label[category] # 'label' is a string identifier\n",
        "  # print(f'\\n Category: {category}, Label: {label}, Text: {text}') # 'text' is a text block\n",
        "  return category, label"
      ],
      "metadata": {
        "id": "YixyNg9TVgi6"
      },
      "execution_count": 32,
      "outputs": []
    },
    {
      "cell_type": "markdown",
      "source": [
        "## **Verify the PEFT model for correct categorization of new articles from test dataset**"
      ],
      "metadata": {
        "id": "hYYyIcyHGuoH"
      }
    },
    {
      "cell_type": "code",
      "execution_count": 33,
      "metadata": {
        "id": "ZeZI0p8q7-cv",
        "colab": {
          "base_uri": "https://localhost:8080/"
        },
        "outputId": "c084c16b-4090-4554-c3f9-b8e9126c89ee"
      },
      "outputs": [
        {
          "output_type": "stream",
          "name": "stdout",
          "text": [
            "Random index in test dataset: 5238, Ground truth: Sci/Tech, Prediction: Sci/Tech\n",
            "News item: Photos Plus Music Equals an Expensive iPod (washingtonpost.com) washingtonpost.com - First Apple put some color on the iPod, when it offered the iPod mini in a palette of pastel hues, and now it has put some color inside it, in the form of the new iPod Photo.\n",
            "\n",
            "Random index in test dataset: 912, Ground truth: Sci/Tech, Prediction: Sports\n",
            "News item: Bryant Makes First Appearance at Trial (AP) AP - NBA star Kobe Bryant arrived at his sexual assault trial Monday as attorneys in the case who spent the weekend poring over questionnaires prepared to question potential jurors individually.\n",
            "\n",
            "Random index in test dataset: 204, Ground truth: Sports, Prediction: Sports\n",
            "News item: Owners Seek Best Ballpark Deal for Expos (AP) AP - Trying to get the best possible ballpark deal for the Montreal Expos, major league baseball instructed its lawyers to press ahead with negotiations involving four of the areas bidding for the team.\n",
            "\n",
            "Random index in test dataset: 6074, Ground truth: Business, Prediction: Business\n",
            "News item: Eichel Wants Strong Euro on G20 Agenda German Finance Minister Eichel called for the euro #39;s  quot;brutal quot; rise versus the dollar to be put on the agenda of the summit of G20 countries in Berlin this weekend amid concerns the greenback #39;s slide could hit EU growth.\n",
            "\n",
            "Random index in test dataset: 2253, Ground truth: Business, Prediction: Sci/Tech\n",
            "News item: Vodafone targets Japan with 3G offensive Vodafone has unveiled plans for 10 new third-generation handsets for Christmas to help shore up its struggling Japanese unit. Vodafone VOD.\n",
            "\n",
            "Random index in test dataset: 2006, Ground truth: Sci/Tech, Prediction: Business\n",
            "News item: Apple offers 2004 financial details Apple's latest Form 10-K filing with the Securities and Exchange Commission offers a look at how the company did this past year, how it thinks it's doing and what's to come.\n",
            "\n",
            "Random index in test dataset: 1828, Ground truth: World, Prediction: World\n",
            "News item: Saudis Take a Small Dose of Democracy For the first time in 41 years, Saudi Arabia is allowing local elections. The ruling family's goal, political analysts and diplomats say, is to determine whether a more open government might help defuse a rising armed threat by Muslim  militants in the kingdom.\n",
            "\n",
            "Random index in test dataset: 1143, Ground truth: Business, Prediction: Business\n",
            "News item: AT amp;T Wireless Moves to Sell Canada Asset T amp;T Wireless Services Inc., the third-largest United States mobile phone company, reached an agreement yesterday with Rogers Communications Inc.\n",
            "\n",
            "Random index in test dataset: 6033, Ground truth: Sports, Prediction: Sports\n",
            "News item: FIFA to investigate racism in Madrid Zurich, Switzerland (Sports Network) - FIFA will launch an investigation into the racist chants Spanish fans aimed at black English players during Wednesday #39;s friendly at the Bernabeu in Madrid.\n",
            "\n",
            "Random index in test dataset: 839, Ground truth: Sci/Tech, Prediction: Business\n",
            "News item: Our mobile margins will fall: Telstra TELSTRA chief financial officer John Stanhope has admitted Telstra #39;s margins in its \\$4.5 billion a year mobile phone business will shrink this year in the face of increased price competition and the growing cost of acquiring new customers.\n",
            "\n",
            "Random index in test dataset: 5543, Ground truth: Sports, Prediction: Sports\n",
            "News item: Only injury can stop peerless Federer at Masters Cup Last season, Roger Federer left Houston not even the top-ranked player of the year. He returns to the Westside Tennis Club next week to defend his Masters Cup title as the most \n",
            "\n",
            "Random index in test dataset: 6067, Ground truth: Business, Prediction: Business\n",
            "News item: Aussies battle EU over cheese, champagne AP - The United States and Australia have prevailed in an interim ruling by World Trade Organisation (WTO) in a dispute over the protection given by the European Union to its regional goods such as Champagne wine and Feta cheese, trade officials said.\n",
            "\n",
            "Random index in test dataset: 7308, Ground truth: Sports, Prediction: Sports\n",
            "News item: White Sox trade Lee to Brewers The Chicago White Sox traded outfield slugger Carlos Lee to the Milwaukee Brewers for outfielder Scott Podsednik , reliever Luis Vizcaino , and a player to be named in a deal announced yesterday at baseball's winter meetings in Anaheim, Calif.\n",
            "\n",
            "Random index in test dataset: 4467, Ground truth: Sci/Tech, Prediction: Sci/Tech\n",
            "News item: Mission accomplished: US astronauts are home at last American astronaut Mike Fincke and Russian commander Gennady Padalka descended to Earth in remote Kazakstan late Saturday aboard a Soyuz space capsule.\n",
            "\n",
            "Random index in test dataset: 712, Ground truth: Business, Prediction: Business\n",
            "News item: Update 1: Thai Airways Orders 6 Airbus Superjumbos Thai Airways has agreed to buy six Airbus A380s, becoming the 13th airline to order the new  quot;superjumbo, quot; the European aircraft maker said Friday.\n",
            "\n",
            "Random index in test dataset: 4837, Ground truth: Business, Prediction: Business\n",
            "News item: National Foods to look for protector 29/10/2004 National Foods will hunt for a  quot;white knight quot; to protect it from Fonterras \\$A1.62 billion (\\$NZ1.76 billion) bid, raising the risk New Zealand dairy farmers will get dragged into an expensive bidding war.\n",
            "\n",
            "Random index in test dataset: 3456, Ground truth: Sci/Tech, Prediction: Sci/Tech\n",
            "News item: Google SMS and wireless carriers that save your text messages. Yesterday we covered the news that Google is expanding their search to the mobile arena with their new Google SMS service which lets you search by sending text messages from your cellphone.\n",
            "\n",
            "Random index in test dataset: 260, Ground truth: Sports, Prediction: Sports\n",
            "News item: American Aaron Peirsol Wins Gold on Appeal  ATHENS (Reuters) - Aaron Peirsol won his second gold medal  at the Athens Olympics Thursday after winning an appeal against  his disqualification from the men's 200 meter backstroke.\n",
            "\n",
            "Random index in test dataset: 244, Ground truth: Business, Prediction: Business\n",
            "News item: Qantas says record profit not big enough Australia #39;s flagship carrier Qantas Airways has reported a record annual net profit but warned oil prices threatened its performance, increasing the chance of a hike in ticket price surcharges to offset its fuel bill. \n",
            "\n",
            "Random index in test dataset: 767, Ground truth: Sports, Prediction: Sports\n",
            "News item: Daly penciled in for Deutsche Bank John Daly provided a nice surprise for local golf fans yesterday when he committed to play in next week #39;s Deutsche Bank Championship at TPC of Boston in Norton.\n",
            "\n",
            "Random index in test dataset: 1791, Ground truth: World, Prediction: Sci/Tech\n",
            "News item: World Population to Rise to 8.9 Billion Although world families are getting smaller in many regions, the 50 poorest countries are expected to triple in size to 1.7 billion people by 2050, posing many challenges for world countries.\n",
            "\n",
            "Random index in test dataset: 1905, Ground truth: Sci/Tech, Prediction: Sci/Tech\n",
            "News item: Sun, Microsoft Clause Singles Out Openoffice Sun Microsystems (Quote, Chart) may have saved itself from years of costly litigation when it settled with Microsoft over their long-running Java dispute, but a clause in the landmark deal has open source supporters parsing its potential impact.\n",
            "\n",
            "Random index in test dataset: 4139, Ground truth: World, Prediction: World\n",
            "News item: Seven suspected terrorists arrested in Spain Spain #39;s Interior Minister says police have broken up a radical Muslim cell, plotting to bomb the country #39;s National Court.\n",
            "\n",
            "Random index in test dataset: 4931, Ground truth: Business, Prediction: Business\n",
            "News item: Saturday Essay When in his mid-50s, immigrant Andrew Carnegie sold his steel holdings into a trust headed by JP Morgan in 1901, the Scottish immigrant and former cotton factory bobbin boy left a life of astounding, ground-up capitalism for retirement into philanthropy.\n",
            "\n",
            "Random index in test dataset: 217, Ground truth: Business, Prediction: Business\n",
            "News item: AMP shrugs off British debacle Australian insurer AMP returned to the black in the first half of the year with net profits of A\\$378m (150m) after a disastrous foray into Britain pushed it A\\$2.16 billion into the red last year. \n",
            "\n",
            "Random index in test dataset: 4597, Ground truth: Sci/Tech, Prediction: Sci/Tech\n",
            "News item: Cassini Heads Toward Giant Moon on Saturn (AP) AP - The U.S.-European spacecraft Cassini hurtled Tuesday toward its closest encounter yet with Saturn's giant moon Titan.\n",
            "\n",
            "Random index in test dataset: 1628, Ground truth: Business, Prediction: Business\n",
            "News item: EU weighs euro #39;s rise against dollar European Union finance ministers considered the ever-strengthening euro against the dollar Monday amid appeals for Washington to rein in its budget and current account deficits to stop the slide of the US currency.\n",
            "\n",
            "Random index in test dataset: 5865, Ground truth: Business, Prediction: Business\n",
            "News item: Zurich Employees Plead Guilty in Probe  NEW YORK (Reuters) - Two senior insurance underwriters at  Zurich American Insurance Co. pleaded guilty  on Tuesday to  misdemeanors related to bid-rigging in the insurance market.\n",
            "\n",
            "Random index in test dataset: 5323, Ground truth: Sci/Tech, Prediction: Sci/Tech\n",
            "News item: Scientists Try to Save Largest Salamander (AP) AP - The population of North America's largest salamander is plummeting in Missouri and Arkansas, and scientists from five states met to consider how to prevent the creature's disappearance.\n",
            "\n",
            "Random index in test dataset: 5745, Ground truth: Sports, Prediction: Sports\n",
            "News item: Rivera was a corner stone for Ruiz NEW YORK -- For a time Saturday night, John Ruiz was ready to give up.\n",
            "\n",
            "Random index in test dataset: 4464, Ground truth: Sci/Tech, Prediction: Sci/Tech\n",
            "News item: Rocky Legends; Tony Hawk's Underground 2; Nisus Writer Express 2.0; Surfsaver 6 This is the second Rocky video game in two years -- even though it's been 14 years since the last \"Rocky\" flick.\n",
            "\n",
            "Random index in test dataset: 3436, Ground truth: World, Prediction: World\n",
            "News item: Africa condemned to major polio epidemic - U.N. (Reuters) Reuters - A major polio epidemic in West and Central Africa is inevitable in coming months, but the disease could be eradicated worldwide next year by mass immunisations, the World Health Organisation (WHO) said on Friday.\n",
            "\n",
            "Random index in test dataset: 1805, Ground truth: Sports, Prediction: Sports\n",
            "News item: Marlins righthander Burnett to miss Friday #39;s start Miami, FL (Sports Network) - Florida Marlins starting pitcher AJ Burnett is hampered with inflammation in his right elbow and will miss his scheduled start on Friday against the Atlanta Braves.\n",
            "\n",
            "Random index in test dataset: 3679, Ground truth: Sci/Tech, Prediction: Sci/Tech\n",
            "News item: Feds Make A Strike Against Spyware Companies WASHINGTON -- In what regulators are calling a first, the federal government has asked for a court order to shut down a spyware operation.\n",
            "\n",
            "Random index in test dataset: 4827, Ground truth: Sports, Prediction: Sports\n",
            "News item: UPDATE 2-Chelsea sack Mutu after positive dope test Chelsea have sacked their Romanian striker Adrian Mutu after he tested positive for cocaine last month.  quot;Chelsea has terminated the contract of Adrian Mutu for gross misconduct, quot; the Premier League club said on Friday.\n",
            "\n",
            "Random index in test dataset: 2278, Ground truth: Business, Prediction: Business\n",
            "News item: GM May Close Plant in Europe  DETROIT (Reuters) - General Motors Corp. &lt;A HREF=\"http://www.investor.reuters.com/FullQuote.aspx?ticker=GM.N target=/stocks/quickinfo/fullquote\"&gt;GM.N&lt;/A&gt; will likely  cut some jobs in Europe and may close a plant there as part of  a restructuring plan under development to try to return the  region to profitability, the U.S. automaker said on Wednesday.\n",
            "\n",
            "Random index in test dataset: 6630, Ground truth: Business, Prediction: Business\n",
            "News item: Lawmakers Grill Citigroup Japan Chief Citigroup #39;s top executive in Japan endured unprecedented questioning by lawmakers on Tuesday over a scandal at the firm #39;s private bank in the country, the latest turn in a high-profile case that has embarrassed the world #39;s biggest \n",
            "\n",
            "Random index in test dataset: 7121, Ground truth: Business, Prediction: Business\n",
            "News item: Shares of Video Game Makers Rise Sharply Shares of video game makers rose sharply Friday after analysts reported industry sales increased 11 percent last month due mainly to the strength of two blockbuster titles that have proven to be the holiday season #39;s biggest sellers.\n",
            "\n",
            "Random index in test dataset: 53, Ground truth: Sci/Tech, Prediction: Business\n",
            "News item: Vodafone hires Citi for Cesky bid (TheDeal.com) TheDeal.com - The U.K. mobile giant wants to find a way to disentagle the Czech wireless and fixed-line businesses.\n",
            "\n",
            "Random index in test dataset: 6216, Ground truth: Business, Prediction: Business\n",
            "News item: No deal on dollar as US shrugs off European pressure Europe and Japan failed yesterday to persuade the United States to address the decline in the dollar, despite talks at a fractious meeting of the Group of 20 industrialised and developing nations.\n",
            "\n",
            "Random index in test dataset: 6601, Ground truth: Sports, Prediction: Sports\n",
            "News item: Bosox strike deal with Mirabelli; Yanks, Flaherty close The Boston Red Sox have signed backup catcher Doug Mirabelli to a two-year deal worth \\$3 million, making him the first of the World Series champions #39; 16 free agents to re-sign.\n",
            "\n",
            "Random index in test dataset: 1307, Ground truth: Sci/Tech, Prediction: Sci/Tech\n",
            "News item: Tribe challenges American origins Some of the earliest settlers of America may have been from Australia, southern Asia, and the Pacific, not northern Asia, research suggests.\n",
            "\n",
            "Random index in test dataset: 5719, Ground truth: Sci/Tech, Prediction: Sci/Tech\n",
            "News item: Firefox 1.0 Presents Threat to IE The Firefox browser offers superior security features over Internet Explorer -- and as long as IE drives more than 90 percent of the world #39;s computers, hackers will continue to make it a target.\n",
            "\n",
            "Random index in test dataset: 3462, Ground truth: Sports, Prediction: Sports\n",
            "News item: Man U condemns fan protest against Glazer Manchester United criticized fans who disrupted a game between reserve teams to protest a potential takeover of the famed English soccer club by Tampa Bay Buccaneers owner Malcolm Glazer.\n",
            "\n",
            "Random index in test dataset: 2787, Ground truth: Sci/Tech, Prediction: Sci/Tech\n",
            "News item: SpaceShipOne Rolls Toward Victory MOJAVE, California -- A Southern California aerospace team took a big step toward capturing the \\$10 million Ansari X Prize Wednesday, but not without surviving a scary moment when the pilot found himself in a rapid spin as he roared across the threshold \n",
            "\n",
            "Random index in test dataset: 2276, Ground truth: World, Prediction: World\n",
            "News item: Israel Urges Sanctions on Iran for Nuke Program  UNITED NATIONS (Reuters) - Israel urged the United Nations  on Wednesday to move toward sanctions against Iran because  Tehran is never going to abandon its alleged quest for nuclear  weapons.\n",
            "\n",
            "Random index in test dataset: 1273, Ground truth: Business, Prediction: Business\n",
            "News item: Summer Box Office Hits a High, Despite Lows In a summer when many of the studios' biggest bets failed to pay off, it was familiarity in the form of sequels and low-budget comedies that resonated with movie audiences.\n",
            "\n",
            "Random index in test dataset: 1763, Ground truth: Business, Prediction: Business\n",
            "News item: OPEC Aims for 4 Pct Boost in Oil Quotas  VIENNA (Reuters) - OPEC's core Gulf producers will  recommend the cartel raise supply quotas by one million barrels  a day, four percent, Kuwaiti Oil Minister Sheikh Ahmad al-Fahd  al-Sabah said on Wednesday.\n",
            "\n",
            "Random index in test dataset: 6254, Ground truth: World, Prediction: World\n",
            "News item: Powell Meets with Middle East Leaders CBN.com - (CBN News) -ERUSALEM  -h the death of Yasser Arafat behind them, the Palestinians and Israelis are now facing an historic opportunity to move forward in peace.\n",
            "\n",
            "Random index in test dataset: 2757, Ground truth: Business, Prediction: Business\n",
            "News item: India 4th largest economy: World Bank Ahead of the International Monetary Fund-World Bank meeting, the World Bank on Tuesday placed India as the fourth largest economy in terms of purchasing power parity, even as it said the country lagged behind in technology and efficiency.\n",
            "\n",
            "Random index in test dataset: 837, Ground truth: Sports, Prediction: Sports\n",
            "News item: Helm #39;s perfect 10 And the two-and-a-half back somersaults with one and a half twists in a pike position turned out to be his ticket to a silver medal.\n",
            "\n",
            "Random index in test dataset: 759, Ground truth: Sports, Prediction: Sports\n",
            "News item: UPDATE 1-Rookie Johnson shares Buick lead with Funk Rookie Zach Johnson produced the day #39;s joint best score, a five-under-par 65, to join Fred Funk at the top of the leaderboard after the second round of the \\$4.\n",
            "\n",
            "Random index in test dataset: 3112, Ground truth: Business, Prediction: Business\n",
            "News item: SunGard to Spin Off Data Recovery Unit  NEW YORK (Reuters) - SunGard Data Systems Inc. &lt;A HREF=\"http://www.investor.reuters.com/FullQuote.aspx?ticker=SDS.N target=/stocks/quickinfo/fullquote\"&gt;SDS.N&lt;/A&gt; on  Monday said it would spin off its data recovery business,  sending its stock up 11 percent to a four-month high.\n",
            "\n",
            "Random index in test dataset: 792, Ground truth: World, Prediction: World\n",
            "News item: Sudanese rebels squabble with government over ceasefire violations (AFP) AFP - Sudanese rebels walked away from African Union peace talks to hold a 24-hour boycott in protest at alleged government attacks on civilians in the war-torn western province of Darfur.\n",
            "\n",
            "Random index in test dataset: 2940, Ground truth: Business, Prediction: Sci/Tech\n",
            "News item: Level 3 Acquires Sprint #39;s Wholesale Dial-Up Internet Business Level 3 today announced that it has purchased Sprint #39;s wholesale dial-up Internet access business for \\$34 million in cash. Sprint is one of the largest providers of wholesale dial-up service to ISPs in North America.\n",
            "\n",
            "Random index in test dataset: 6942, Ground truth: World, Prediction: World\n",
            "News item: Pakistan Tests Medium-Range Nuclear-Capable Missile (Reuters) Reuters - Pakistan test-fired on Wednesday a\\nuclear-capable, surface-to-surface ballistic missile, capable\\of hitting targets deep inside arch-rival India.\n",
            "\n",
            "Random index in test dataset: 2817, Ground truth: World, Prediction: World\n",
            "News item: Greenland criminals take road back to society, not prison (AFP) AFP - Some 20 people gather for a lunch of whale meat and potatoes inside a large wooden building facing a frozen fjord bathed in sunlight. No, these are not tourists on vacation, but rather criminals serving time in one of Greenland's open penal centers.\n",
            "\n",
            "Random index in test dataset: 4945, Ground truth: World, Prediction: World\n",
            "News item: Profile: Leftist Vazquez wins Uruguay presidential poll Uruguay #39;s leftist candidate Tabare Vazquez won a historic victory in Sunday #39;s presidential elections with more than 50 percent of the ballot.\n",
            "\n",
            "Random index in test dataset: 2166, Ground truth: Sci/Tech, Prediction: Sci/Tech\n",
            "News item: Cisco, Fujitsu team on high-end networking Fujitsu has joined the networking parade by agreeing to sell Cisco #39;s high-end routers and switches in Japan. It should come as no surprise as the market for high-end routers heats up.\n",
            "\n",
            "Random index in test dataset: 6611, Ground truth: Sports, Prediction: Sports\n",
            "News item: Kansas Gets Chance For Revenge Against Nevada The Jayhawks were &lt;b&gt;...&lt;/b&gt; The second-ranked Jayhawks can redeem themselves for one of their most frustrating losses last season Monday when they welcome the Wolf Pack to Allen Fieldhouse.\n",
            "\n",
            "Random index in test dataset: 355, Ground truth: World, Prediction: Sports\n",
            "News item: Greek weightlifter awaits verdict Greek weightlifter Leonidas Sampanis will find out on Sunday if he is to be stripped of his medal.\n",
            "\n",
            "Random index in test dataset: 5977, Ground truth: Sports, Prediction: Sports\n",
            "News item: Argentina Heads World Cup Qualifying Group After Brazil Loses Argentina moved atop South America #39;s qualifying group for the 2006 soccer World Cup with a 3-2 victory over Venezuela, grabbing the lead after world champion Brazil suffered its first defeat of the campaign.\n",
            "\n",
            "Random index in test dataset: 3763, Ground truth: Business, Prediction: Business\n",
            "News item: Asian Shares Hit by Metals Tumble, Oil (Reuters) Reuters - A sharp slide in global metals\\markets hammered industrial and mining stocks such as JFE\\Holdings and BHP Billiton Thursday, while oil prices crawled\\back toward record highs.\n",
            "\n",
            "Random index in test dataset: 4392, Ground truth: Business, Prediction: Business\n",
            "News item: Pension accounting  In finance, a process that requires a company to estimate the expected future value of a company #39;s pension assets and the expected cost of fulfilling pension and health care obligations to current and retired employees.\n",
            "\n",
            "Random index in test dataset: 1022, Ground truth: Sci/Tech, Prediction: Sci/Tech\n",
            "News item: Need for carbon sink technologies Climate scientists tell a conference that greater efforts should be made to pull CO2 from the atmosphere.\n",
            "\n",
            "Random index in test dataset: 7555, Ground truth: Business, Prediction: Business\n",
            "News item: Circuit City Cautious on Outlook Circuit City Stores Inc. (CC.N: Quote, Profile, Research) on Friday posted a narrower quarterly loss from continuing operations but said its outlook was cautious for the \n",
            "\n",
            "Random index in test dataset: 3100, Ground truth: Sci/Tech, Prediction: Sci/Tech\n",
            "News item: Gluecode delivers open source BPM engine (InfoWorld) InfoWorld - Hoping to put in place the last missing piece of the Java stack, Gluecode Software and the Apache Software Foundation this week unwrapped Project Agila, which the companies claim is the first embeddable open source BPM engine.\n",
            "\n",
            "Random index in test dataset: 645, Ground truth: Sci/Tech, Prediction: Sci/Tech\n",
            "News item: Intel Gives Centrino Chip Line a Wireless Upgrade (Reuters) Reuters - Intel Corp. (INTC.O) on Thursday\\said it has upgraded the wireless networking capabilities of\\its Centrino line of notebook computer chips to allow broader\\network access with improved security.\n",
            "\n",
            "Random index in test dataset: 4522, Ground truth: Sports, Prediction: Sports\n",
            "News item: Jags Turnaround Gives Them AFC South Lead (AP) AP - There are several reasons the Jacksonville Jaguars have gone from 1-6 at this time a year ago to their current 5-2 record. The answer given by most players is just one word: confidence.\n",
            "\n",
            "Random index in test dataset: 2401, Ground truth: Business, Prediction: Business\n",
            "News item: Cadbury Says Annual Results to Be at Low End of Range (Update1) Cadbury Schweppes Plc, the maker of Dr Pepper and 7Up, said results will be at the lower #39; #39; end of the range it has targeted in the current fiscal year because of lack of demand in the US and European drinks markets.\n",
            "\n",
            "Random index in test dataset: 6794, Ground truth: World, Prediction: World\n",
            "News item: HAYLEY MICK: Hayley Mick is a journalist currently based in Vancouver. She has broadcast experience with CBC Radio #39;s Quirks and Quarks and has reported for the Vancouver Sun, CBC Online, and the Canadian Press #39;s Ontario and Vancouver bureaus.\n",
            "\n",
            "Random index in test dataset: 5149, Ground truth: Business, Prediction: Business\n",
            "News item: All rosy at which bank PRODUCTIVITY gains should keep Commonwealth Bank in a sweet spot for years to come, departing chairman John Ralph claimed yesterday.\n",
            "\n",
            "Random index in test dataset: 5066, Ground truth: Sports, Prediction: Sports\n",
            "News item: Lehman relishes chance to halt US slide AFTER being named as the 2006 US Ryder Cup team captain by the PGA of America at a press conference in Florida last night, Tom Lehman insisted he saw the chance to halt Americas recent dismal showing in the biennial match with Europe as an opportunity \n",
            "\n",
            "Random index in test dataset: 7253, Ground truth: World, Prediction: World\n",
            "News item: Congo Army Factions Clash in East - Army Officer Army reinforcements sent to bolster the Democratic Republic of Congo #39;s fragile border region with Rwanda have clashed with former rebel units within the army, a local military commander said on Sunday.\n",
            "\n",
            "Random index in test dataset: 7059, Ground truth: Sci/Tech, Prediction: Sci/Tech\n",
            "News item: Summary Box: Breast Cancer Surgery Refined (AP) AP - NEW APPROACH: A study says that removing just one to three key lymph nodes can spare women lifelong arm problems and reliably indicate whether breast cancer has spread.\n",
            "\n",
            "Random index in test dataset: 2962, Ground truth: Sci/Tech, Prediction: Sci/Tech\n",
            "News item: IBM expands data centers, on-demand service Big Blue enhances its \"on demand\" offering for companies through its data centers.\n",
            "\n",
            "Random index in test dataset: 4729, Ground truth: Sports, Prediction: Sports\n",
            "News item: Haywood suspended for three games NEW YORK - Brendan Haywood of the Washington Wizards was suspended for three games by the NBA yesterday for fighting during a pre-season game against the Chicago Bulls.\n",
            "\n",
            "Random index in test dataset: 1575, Ground truth: Business, Prediction: Business\n",
            "News item: Qwest to pay \\$250 mn to settle with SEC Qwest Communications International, the US telecommunications group, is understood to have agreed to pay \\$250 million to end a two-year federal probe of alleged fraudulent accounting practices employed by former management.\n",
            "\n",
            "Random index in test dataset: 5771, Ground truth: Business, Prediction: Business\n",
            "News item: Deutsche Bank to Sell Scudder Business to Legg Mason Deutsche Bank AG of Germany plans to sell its New York, Philadelphia, Cincinnati and Chicago offices of Scudder Private Investment Counsel to Legg Mason Inc. for \\$55 million, plus payments of up to \\$26 million, the company said Monday.\n",
            "\n",
            "Random index in test dataset: 569, Ground truth: Sports, Prediction: Sports\n",
            "News item: Allen Wins Triathlon Kate Allen of Austria wins the triathlon with a late surge Wednesday, passing more than half of the field in the final leg and edging Loretta Harrop of Australia at the finish line.\n",
            "\n",
            "Random index in test dataset: 375, Ground truth: Sci/Tech, Prediction: Sci/Tech\n",
            "News item: Agency reports climate change major problem Rising sea levels, disappearing glaciers in the Alps and more deadly heat waves are coming for Europeans because of global warming, Europes environmental agency warned Wednesday.\n",
            "\n",
            "Random index in test dataset: 5417, Ground truth: Sci/Tech, Prediction: Sci/Tech\n",
            "News item: True Colors With  48 editions in 19 different languages available in over 60 countries, Reader #146;s Digest is a publishing phenomenon: the world #146;s top-selling magazine. And wherever you buy your copy, at least one thing will remain constant  #151; the quality and color balance of the images. See how  a Mac-based workflow ensures this color consistency.\\ Nov 09\n",
            "\n",
            "Random index in test dataset: 1866, Ground truth: World, Prediction: World\n",
            "News item: Schooling 'mix up' hits Portugal Schools across Portugal turn away pupils because of a teachers' assignment mix up on the first day of classes.\n",
            "\n",
            "Random index in test dataset: 6332, Ground truth: World, Prediction: World\n",
            "News item: British Media: Security Stopped Several Major Terrorist Attacks A British television station and a newspaper are reporting that British security services believe they have thwarted several major attacks planned by terrorists linked to Osama bin Laden #39;s al-Qaida organization.\n",
            "\n",
            "Random index in test dataset: 2370, Ground truth: World, Prediction: World\n",
            "News item: US planes again hit Sadr City BAGHDAD US warplanes fired on targets in the east Baghdad slum of Sadr City on Thursday, the second day of fighting in the Shiite militia stronghold.\n",
            "\n",
            "Random index in test dataset: 653, Ground truth: World, Prediction: World\n",
            "News item: British police arrest radical cleric Abu Hamza (AFP) AFP - Radical Islamic cleric Abu Hamza al-Masri, already detained in London on an extradition request from the United States, was arrested under suspicion of committing or preparing terrorism acts within Britain.\n",
            "\n",
            "Random index in test dataset: 7006, Ground truth: Sports, Prediction: Sports\n",
            "News item: Prosecutor brings charges against former neighbor in NBA brawl PONTIAC, Mich. The man accused of starting the brawl at a Detroit Pistons game last month is no stranger to the man who #39;s filing the charges against him.\n",
            "\n",
            "Random index in test dataset: 1907, Ground truth: Business, Prediction: Business\n",
            "News item: Corus makes first profit as UK steel plants return to the black Corus, the Anglo-Dutch steel maker, celebrated its first ever profit yesterday and said its UK plants had contributed to the turnaround.\n",
            "\n",
            "Random index in test dataset: 7098, Ground truth: Business, Prediction: Business\n",
            "News item: Southwest In, AWA Out Of Midway Bidding DECEMBER 10, 2004 -- Southwest Airlines this morning said it will submit a bid to the federal bankruptcy court in Indianapolis today for certain assets of bankrupt ATA Airlines.\n",
            "\n",
            "Random index in test dataset: 827, Ground truth: Sports, Prediction: Sports\n",
            "News item: US Sprinter Pulled From Relay for Marijuana Violation Less than two hours before the Olympic men #39;s 400-meter relay semifinal on Friday, the United States Coach George Williams pulled John Capel from the race after being told by \n",
            "\n",
            "Random index in test dataset: 3113, Ground truth: World, Prediction: World\n",
            "News item: Flight Diverted to UK After Bomb Threat A Singapore Airlines passenger jet from Frankfurt to New York was diverted to Manchester Airport in northern England on Monday after a bomb threat that police said may have been a hoax.\n",
            "\n",
            "Random index in test dataset: 2277, Ground truth: Sports, Prediction: Sports\n",
            "News item: Paralympics: China Surges As First Doping Cases Result In Lifetime &lt;b&gt;...&lt;/b&gt; ATHENS (AFP) - The Athens Paralympics weathered its first doping scandal, while juggernaut China continued to dominate the competition, racking up nearly twice as many as second-place Britain over the first four days of competition.\n",
            "\n",
            "Random index in test dataset: 3714, Ground truth: Sci/Tech, Prediction: Sci/Tech\n",
            "News item: TSMC, Freescale expect initial production of 65nm SOI in 4Q 2005 Taiwan Semiconductor Manufacturing Company (TSMC) and Freescale Semiconductor expect to begin initial production of a high-speed 65nm silicon-on-insulator (SOI) process in the fourth quarter of 2005, with volume production pending on market demand \n",
            "\n",
            "Random index in test dataset: 5207, Ground truth: World, Prediction: World\n",
            "News item: Musharraf visits Afghanistan Pakistani President General Pervez Musharraf on his visit after the landmark presidential polls in Afghanistan congratulated his Afghan counterpart Hamid Karzai for his victory Saturday afternoon.\n",
            "\n",
            "Random index in test dataset: 6833, Ground truth: World, Prediction: World\n",
            "News item: Iran Sees No Reason for Iraq Summit (AP) AP - There is no reason to hold a meeting of Iraq's neighbors planned for this week in Amman, an Iranian envoy said Monday in a further sign of strained relations following accusations by Jordan's King Abdullah that Tehran wanted to influence the Iraqi elections.\n",
            "\n",
            "Random index in test dataset: 2988, Ground truth: Business, Prediction: Business\n",
            "News item: IMF urged to assist countries in prevention of financial crisis Developing countries on Friday urged the International Monetary Fund (IMF to develop effective lending facilities to assist countries in the prevention of financial crisis.\n",
            "\n",
            "Random index in test dataset: 1332, Ground truth: Sci/Tech, Prediction: Sci/Tech\n",
            "News item: Netflix and TiVo Joining Forces Online Home entertainment trendsetters Netflix Inc. (NFLX) and TiVo Inc. (TIVO) hope to link up on a service that will use high-speed Internet connections to pipe DVD-quality movies into the homes of their mutual subscribers.\n",
            "\n",
            "Random index in test dataset: 3032, Ground truth: Sports, Prediction: Sports\n",
            "News item: Louisiana Tech Bulldogs RUSTON, Louisiana (Ticker) -- No. 17 Fresno State could not overcome a dominant performance by Ryan Moats or a poor one by Paul Pinegar.\n",
            "\n",
            "Random index in test dataset: 2910, Ground truth: Sci/Tech, Prediction: Sci/Tech\n",
            "News item: Netflix, TiVo Promise New Service The two companies say they will jointly develop a set-top box to download movies over the internet. Netflix will arrange the movie licensing from Hollywood studios, and TiVo will take care of the product technology.\n",
            "\n",
            "Random index in test dataset: 1716, Ground truth: World, Prediction: World\n",
            "News item: North Korea Seen as Tying Nuclear Talks to US Election North Korea is waiting out the American presidential election in order to bargain with the winner over its nuclear weapons program, according to analysts here and a British diplomat who left Pyongyang today.\n",
            "\n",
            "Number of samples evaluated: 100, Number correctly categorized: 92\n",
            "Percentage correct: 92.0%\n"
          ]
        }
      ],
      "source": [
        "def evaluate_predictions(num_evals):\n",
        "  prediction = \"Null\"\n",
        "  correct_count = 0\n",
        "  for i in range(num_evals):\n",
        "    random_index = random.randint(0, len(dataset['test']))\n",
        "    test_dataset_label = dataset['test']['label'][random_index]\n",
        "    test_dataset_id = id2label[test_dataset_label]\n",
        "    test_dataset_text = dataset['test']['text'][random_index]\n",
        "    category, label = categorize(test_dataset_text) # categorize text from dataset\n",
        "    if test_dataset_label == category:\n",
        "      correct_count += 1\n",
        "      correct_prediction = 'Y'\n",
        "    else:\n",
        "      correct_prediction = 'N'\n",
        "    print(f\"Random index in test dataset: {random_index}, Ground truth: {test_dataset_id}, Prediction: {label}\\nNews item: {test_dataset_text}\\n\")\n",
        "\n",
        "  # Percentage correct\n",
        "  print(f\"Number of samples evaluated: {num_evals}, Number correctly categorized: {correct_count}\")\n",
        "  print(f\"Percentage correct: {correct_count / num_evals * 100}%\")\n",
        "\n",
        "evaluate_predictions(100)"
      ]
    },
    {
      "cell_type": "markdown",
      "metadata": {
        "id": "-GoHXr1VpnOS"
      },
      "source": [
        "## **Load Models from Repository and Compare All 3 Models**\n",
        "- Non fine-tuned model (base model)\n",
        "- PEFT/LoRA model\n",
        "- Fully fine-tuned model\n"
      ]
    },
    {
      "cell_type": "code",
      "execution_count": 34,
      "metadata": {
        "id": "PvuZLpxKngF6",
        "colab": {
          "base_uri": "https://localhost:8080/",
          "height": 49,
          "referenced_widgets": [
            "483d22836a2f44aca70867e68100c9a2",
            "f84ef617bb824e24b6f3ef42f6a95e16",
            "49223e5de8304c088f9d52f578797c3a",
            "989ba82fb091410a8175b632d3193946",
            "7d106b427583448684aedd2f0b252e6f",
            "475336a9c40143f482be7363f7609020",
            "a224a1e96b764ce7b560e262ae5977e6",
            "0a06410e724e42df9b4d33824253286d",
            "8254df21b2aa4bc289f90af2a675eb2a",
            "e95ffcde83224995bd8b6a9e59275386",
            "a18b420c63964bc3b7bdc8ea2ca21f8d"
          ]
        },
        "outputId": "7b06f49b-f76a-46fa-b27c-e48b75281899"
      },
      "outputs": [
        {
          "output_type": "display_data",
          "data": {
            "text/plain": [
              "Downloading builder script:   0%|          | 0.00/4.20k [00:00<?, ?B/s]"
            ],
            "application/vnd.jupyter.widget-view+json": {
              "version_major": 2,
              "version_minor": 0,
              "model_id": "483d22836a2f44aca70867e68100c9a2"
            }
          },
          "metadata": {}
        }
      ],
      "source": [
        "from torch.utils.data import DataLoader\n",
        "import evaluate\n",
        "from tqdm import tqdm\n",
        "\n",
        "metric = evaluate.load('accuracy')\n",
        "\n",
        "def evaluate_model(inference_model, dataset):\n",
        "\n",
        "    eval_dataloader = DataLoader(dataset.rename_column(\"label\", \"labels\"), batch_size=8, collate_fn=data_collator)\n",
        "    device = torch.device(\"cuda\" if torch.cuda.is_available() else \"cpu\")\n",
        "\n",
        "    inference_model.to(device)\n",
        "    inference_model.eval()\n",
        "    for step, batch in enumerate(tqdm(eval_dataloader)):\n",
        "        batch.to(device)\n",
        "        with torch.no_grad():\n",
        "            outputs = inference_model(**batch)\n",
        "        predictions = outputs.logits.argmax(dim=-1)\n",
        "        predictions, references = predictions, batch[\"labels\"]\n",
        "        metric.add_batch(\n",
        "            predictions=predictions,\n",
        "            references=references,\n",
        "        )\n",
        "\n",
        "    eval_metric = metric.compute()\n",
        "    print(eval_metric)"
      ]
    },
    {
      "cell_type": "code",
      "execution_count": 35,
      "metadata": {
        "id": "ynQo6BESngCu",
        "colab": {
          "base_uri": "https://localhost:8080/"
        },
        "outputId": "5ef579a1-ce7e-49db-a6f6-235e52551958"
      },
      "outputs": [
        {
          "output_type": "stream",
          "name": "stderr",
          "text": [
            "Some weights of RobertaForSequenceClassification were not initialized from the model checkpoint at roberta-base and are newly initialized: ['classifier.dense.bias', 'classifier.dense.weight', 'classifier.out_proj.bias', 'classifier.out_proj.weight']\n",
            "You should probably TRAIN this model on a down-stream task to be able to use it for predictions and inference.\n",
            "100%|██████████| 475/475 [00:13<00:00, 36.46it/s]"
          ]
        },
        {
          "output_type": "stream",
          "name": "stdout",
          "text": [
            "{'accuracy': 0.25026315789473685}\n"
          ]
        },
        {
          "output_type": "stream",
          "name": "stderr",
          "text": [
            "\n"
          ]
        }
      ],
      "source": [
        "# Evaluate the non fine-tuned model\n",
        "evaluate_model(AutoModelForSequenceClassification.from_pretrained(base_model, id2label=id2label), test_dataset)"
      ]
    },
    {
      "cell_type": "code",
      "execution_count": 36,
      "metadata": {
        "id": "hMfgqSASnf_9",
        "colab": {
          "base_uri": "https://localhost:8080/"
        },
        "outputId": "ca7823f4-ffe7-4829-cdc5-7b638fd36203"
      },
      "outputs": [
        {
          "output_type": "stream",
          "name": "stderr",
          "text": [
            "100%|██████████| 475/475 [00:13<00:00, 34.88it/s]"
          ]
        },
        {
          "output_type": "stream",
          "name": "stdout",
          "text": [
            "{'accuracy': 0.9155263157894736}\n"
          ]
        },
        {
          "output_type": "stream",
          "name": "stderr",
          "text": [
            "\n"
          ]
        }
      ],
      "source": [
        "# Evaluate the PEFT fine-tuned model\n",
        "evaluate_model(inference_model, test_dataset)"
      ]
    },
    {
      "cell_type": "code",
      "execution_count": 37,
      "metadata": {
        "id": "THH8tecvnf9q",
        "colab": {
          "base_uri": "https://localhost:8080/"
        },
        "outputId": "b0ffc68e-c106-4473-ded2-f1aab1d54ad7"
      },
      "outputs": [
        {
          "output_type": "stream",
          "name": "stderr",
          "text": [
            "100%|██████████| 475/475 [00:13<00:00, 35.95it/s]\n"
          ]
        },
        {
          "output_type": "stream",
          "name": "stdout",
          "text": [
            "{'accuracy': 0.9452631578947368}\n"
          ]
        }
      ],
      "source": [
        "# Evaluate the Fully fine-tuned model\n",
        "evaluate_model(full_finetuning_trainer.model, test_dataset)"
      ]
    },
    {
      "cell_type": "markdown",
      "source": [
        "# **Conclusion**\n",
        "\n",
        "### In this project, the PEFT/LoRA model that was implemented gave successful results in classifying news headlines into one of four categories: 'World', 'Sports', 'Business', 'Sci/Tech'. A set of 100 randomly selected news headlines in these categories were selected from the test dataset and were presented to the PEFT model to categorize. The accuracy of responses from the PEFT model was excellent (approx 93%), and confirmed that the fine-tuning had worked.\n",
        "\n",
        "### The PEFT model was compared against the non-tuned base model as well as against a fully fine-tuned model (non-PEFT/LoRA). The accuracy of the non-tuned base model was a poor 25%, while the accuracy of the PEFT/LoRA model was significantly better at 92%. The fully fine-tuned model had a marginally better accuracy of 94% but took longer to train and had decidedly larger storage and memory requirements as well, which detracted from its overall efficiency.\n",
        "\n",
        "### Learnings from the project were several:\n",
        "- Understanding of models that are amenable for PEFT & LoRA improvements\n",
        "- Learning how to use Hugging Face Hub, navigate its vast collection of models, tokenizers, and datasets, use its API, upload/download one's own models to/from it and understand the settings of various configuration parameters\n",
        "- Insights into the selection of suitable models and datasets with which to perform the PEFT training, notably for sequence classification\n",
        "- Comparing the percentage accuracy of non-finetuned, PEFT fine-tuned and fully fine-tuned models. Found that the accuracy of the PEFT model was almost the same as that of the fully fine-tuned model, but the untrained base model's accuracy was terrible.\n",
        "- Learning how to merge the base model with PEFT fine-tuned adapters to create a super-model that provided superior results to those of the base model, while retaining all the weights and properties of the original base model.\n",
        "- Learning how to use BitsAndBytes for quantization, to reduce the memory and storage requirements.\n",
        "- Discovering that BitsAndBytes actually made the model slightly *worse*, relative to not using it, probably a result of its 4-bit vs 8-bit quantization. When using BitsAndBytes, the minimum loss for PEFT asymptoted at 0.31 vs 0.24 with no BitsAndBytes. Furthermore, the accuracy was only 90% with BitsAndBytes vs 93% without BitsAndBytes. Since my model was training perfectly well without BitsAndBytes, I decided to omit it but kept the code with for future reference (with a skip command for Jupyter Notebook).\n"
      ],
      "metadata": {
        "id": "qhQu76rAJgkP"
      }
    }
  ],
  "metadata": {
    "accelerator": "GPU",
    "colab": {
      "gpuType": "A100",
      "provenance": [],
      "machine_shape": "hm",
      "include_colab_link": true
    },
    "kernelspec": {
      "display_name": "Python 3",
      "name": "python3"
    },
    "language_info": {
      "name": "python"
    },
    "widgets": {
      "application/vnd.jupyter.widget-state+json": {
        "4ca1a181cfbb44e0948483f7441cf137": {
          "model_module": "@jupyter-widgets/controls",
          "model_name": "HBoxModel",
          "model_module_version": "1.5.0",
          "state": {
            "_dom_classes": [],
            "_model_module": "@jupyter-widgets/controls",
            "_model_module_version": "1.5.0",
            "_model_name": "HBoxModel",
            "_view_count": null,
            "_view_module": "@jupyter-widgets/controls",
            "_view_module_version": "1.5.0",
            "_view_name": "HBoxView",
            "box_style": "",
            "children": [
              "IPY_MODEL_88466918596e484da53bf1ed6284aaf3",
              "IPY_MODEL_04466804e582423ebe4c4063d77072b4",
              "IPY_MODEL_ab59cdd314fd4f85822b22bcb334a358"
            ],
            "layout": "IPY_MODEL_aff3229c836b4ac89f21430fc85b17fe"
          }
        },
        "88466918596e484da53bf1ed6284aaf3": {
          "model_module": "@jupyter-widgets/controls",
          "model_name": "HTMLModel",
          "model_module_version": "1.5.0",
          "state": {
            "_dom_classes": [],
            "_model_module": "@jupyter-widgets/controls",
            "_model_module_version": "1.5.0",
            "_model_name": "HTMLModel",
            "_view_count": null,
            "_view_module": "@jupyter-widgets/controls",
            "_view_module_version": "1.5.0",
            "_view_name": "HTMLView",
            "description": "",
            "description_tooltip": null,
            "layout": "IPY_MODEL_d938ba101abb45dc81da74f8898d1c17",
            "placeholder": "​",
            "style": "IPY_MODEL_a30609ce78444569b40e2d405adf7ade",
            "value": "Downloading readme: 100%"
          }
        },
        "04466804e582423ebe4c4063d77072b4": {
          "model_module": "@jupyter-widgets/controls",
          "model_name": "FloatProgressModel",
          "model_module_version": "1.5.0",
          "state": {
            "_dom_classes": [],
            "_model_module": "@jupyter-widgets/controls",
            "_model_module_version": "1.5.0",
            "_model_name": "FloatProgressModel",
            "_view_count": null,
            "_view_module": "@jupyter-widgets/controls",
            "_view_module_version": "1.5.0",
            "_view_name": "ProgressView",
            "bar_style": "success",
            "description": "",
            "description_tooltip": null,
            "layout": "IPY_MODEL_598de8ffd1f744db88a376b7bd9511f0",
            "max": 8070,
            "min": 0,
            "orientation": "horizontal",
            "style": "IPY_MODEL_c1258970e1d342a39a6579c41df432d1",
            "value": 8070
          }
        },
        "ab59cdd314fd4f85822b22bcb334a358": {
          "model_module": "@jupyter-widgets/controls",
          "model_name": "HTMLModel",
          "model_module_version": "1.5.0",
          "state": {
            "_dom_classes": [],
            "_model_module": "@jupyter-widgets/controls",
            "_model_module_version": "1.5.0",
            "_model_name": "HTMLModel",
            "_view_count": null,
            "_view_module": "@jupyter-widgets/controls",
            "_view_module_version": "1.5.0",
            "_view_name": "HTMLView",
            "description": "",
            "description_tooltip": null,
            "layout": "IPY_MODEL_2eebc346dd5648cea0a8ae1671bcce5b",
            "placeholder": "​",
            "style": "IPY_MODEL_75ba6123e62b47d1a234b534cee3c65b",
            "value": " 8.07k/8.07k [00:00&lt;00:00, 605kB/s]"
          }
        },
        "aff3229c836b4ac89f21430fc85b17fe": {
          "model_module": "@jupyter-widgets/base",
          "model_name": "LayoutModel",
          "model_module_version": "1.2.0",
          "state": {
            "_model_module": "@jupyter-widgets/base",
            "_model_module_version": "1.2.0",
            "_model_name": "LayoutModel",
            "_view_count": null,
            "_view_module": "@jupyter-widgets/base",
            "_view_module_version": "1.2.0",
            "_view_name": "LayoutView",
            "align_content": null,
            "align_items": null,
            "align_self": null,
            "border": null,
            "bottom": null,
            "display": null,
            "flex": null,
            "flex_flow": null,
            "grid_area": null,
            "grid_auto_columns": null,
            "grid_auto_flow": null,
            "grid_auto_rows": null,
            "grid_column": null,
            "grid_gap": null,
            "grid_row": null,
            "grid_template_areas": null,
            "grid_template_columns": null,
            "grid_template_rows": null,
            "height": null,
            "justify_content": null,
            "justify_items": null,
            "left": null,
            "margin": null,
            "max_height": null,
            "max_width": null,
            "min_height": null,
            "min_width": null,
            "object_fit": null,
            "object_position": null,
            "order": null,
            "overflow": null,
            "overflow_x": null,
            "overflow_y": null,
            "padding": null,
            "right": null,
            "top": null,
            "visibility": null,
            "width": null
          }
        },
        "d938ba101abb45dc81da74f8898d1c17": {
          "model_module": "@jupyter-widgets/base",
          "model_name": "LayoutModel",
          "model_module_version": "1.2.0",
          "state": {
            "_model_module": "@jupyter-widgets/base",
            "_model_module_version": "1.2.0",
            "_model_name": "LayoutModel",
            "_view_count": null,
            "_view_module": "@jupyter-widgets/base",
            "_view_module_version": "1.2.0",
            "_view_name": "LayoutView",
            "align_content": null,
            "align_items": null,
            "align_self": null,
            "border": null,
            "bottom": null,
            "display": null,
            "flex": null,
            "flex_flow": null,
            "grid_area": null,
            "grid_auto_columns": null,
            "grid_auto_flow": null,
            "grid_auto_rows": null,
            "grid_column": null,
            "grid_gap": null,
            "grid_row": null,
            "grid_template_areas": null,
            "grid_template_columns": null,
            "grid_template_rows": null,
            "height": null,
            "justify_content": null,
            "justify_items": null,
            "left": null,
            "margin": null,
            "max_height": null,
            "max_width": null,
            "min_height": null,
            "min_width": null,
            "object_fit": null,
            "object_position": null,
            "order": null,
            "overflow": null,
            "overflow_x": null,
            "overflow_y": null,
            "padding": null,
            "right": null,
            "top": null,
            "visibility": null,
            "width": null
          }
        },
        "a30609ce78444569b40e2d405adf7ade": {
          "model_module": "@jupyter-widgets/controls",
          "model_name": "DescriptionStyleModel",
          "model_module_version": "1.5.0",
          "state": {
            "_model_module": "@jupyter-widgets/controls",
            "_model_module_version": "1.5.0",
            "_model_name": "DescriptionStyleModel",
            "_view_count": null,
            "_view_module": "@jupyter-widgets/base",
            "_view_module_version": "1.2.0",
            "_view_name": "StyleView",
            "description_width": ""
          }
        },
        "598de8ffd1f744db88a376b7bd9511f0": {
          "model_module": "@jupyter-widgets/base",
          "model_name": "LayoutModel",
          "model_module_version": "1.2.0",
          "state": {
            "_model_module": "@jupyter-widgets/base",
            "_model_module_version": "1.2.0",
            "_model_name": "LayoutModel",
            "_view_count": null,
            "_view_module": "@jupyter-widgets/base",
            "_view_module_version": "1.2.0",
            "_view_name": "LayoutView",
            "align_content": null,
            "align_items": null,
            "align_self": null,
            "border": null,
            "bottom": null,
            "display": null,
            "flex": null,
            "flex_flow": null,
            "grid_area": null,
            "grid_auto_columns": null,
            "grid_auto_flow": null,
            "grid_auto_rows": null,
            "grid_column": null,
            "grid_gap": null,
            "grid_row": null,
            "grid_template_areas": null,
            "grid_template_columns": null,
            "grid_template_rows": null,
            "height": null,
            "justify_content": null,
            "justify_items": null,
            "left": null,
            "margin": null,
            "max_height": null,
            "max_width": null,
            "min_height": null,
            "min_width": null,
            "object_fit": null,
            "object_position": null,
            "order": null,
            "overflow": null,
            "overflow_x": null,
            "overflow_y": null,
            "padding": null,
            "right": null,
            "top": null,
            "visibility": null,
            "width": null
          }
        },
        "c1258970e1d342a39a6579c41df432d1": {
          "model_module": "@jupyter-widgets/controls",
          "model_name": "ProgressStyleModel",
          "model_module_version": "1.5.0",
          "state": {
            "_model_module": "@jupyter-widgets/controls",
            "_model_module_version": "1.5.0",
            "_model_name": "ProgressStyleModel",
            "_view_count": null,
            "_view_module": "@jupyter-widgets/base",
            "_view_module_version": "1.2.0",
            "_view_name": "StyleView",
            "bar_color": null,
            "description_width": ""
          }
        },
        "2eebc346dd5648cea0a8ae1671bcce5b": {
          "model_module": "@jupyter-widgets/base",
          "model_name": "LayoutModel",
          "model_module_version": "1.2.0",
          "state": {
            "_model_module": "@jupyter-widgets/base",
            "_model_module_version": "1.2.0",
            "_model_name": "LayoutModel",
            "_view_count": null,
            "_view_module": "@jupyter-widgets/base",
            "_view_module_version": "1.2.0",
            "_view_name": "LayoutView",
            "align_content": null,
            "align_items": null,
            "align_self": null,
            "border": null,
            "bottom": null,
            "display": null,
            "flex": null,
            "flex_flow": null,
            "grid_area": null,
            "grid_auto_columns": null,
            "grid_auto_flow": null,
            "grid_auto_rows": null,
            "grid_column": null,
            "grid_gap": null,
            "grid_row": null,
            "grid_template_areas": null,
            "grid_template_columns": null,
            "grid_template_rows": null,
            "height": null,
            "justify_content": null,
            "justify_items": null,
            "left": null,
            "margin": null,
            "max_height": null,
            "max_width": null,
            "min_height": null,
            "min_width": null,
            "object_fit": null,
            "object_position": null,
            "order": null,
            "overflow": null,
            "overflow_x": null,
            "overflow_y": null,
            "padding": null,
            "right": null,
            "top": null,
            "visibility": null,
            "width": null
          }
        },
        "75ba6123e62b47d1a234b534cee3c65b": {
          "model_module": "@jupyter-widgets/controls",
          "model_name": "DescriptionStyleModel",
          "model_module_version": "1.5.0",
          "state": {
            "_model_module": "@jupyter-widgets/controls",
            "_model_module_version": "1.5.0",
            "_model_name": "DescriptionStyleModel",
            "_view_count": null,
            "_view_module": "@jupyter-widgets/base",
            "_view_module_version": "1.2.0",
            "_view_name": "StyleView",
            "description_width": ""
          }
        },
        "10a32617b1874ecbbaef5487497cc76e": {
          "model_module": "@jupyter-widgets/controls",
          "model_name": "HBoxModel",
          "model_module_version": "1.5.0",
          "state": {
            "_dom_classes": [],
            "_model_module": "@jupyter-widgets/controls",
            "_model_module_version": "1.5.0",
            "_model_name": "HBoxModel",
            "_view_count": null,
            "_view_module": "@jupyter-widgets/controls",
            "_view_module_version": "1.5.0",
            "_view_name": "HBoxView",
            "box_style": "",
            "children": [
              "IPY_MODEL_1516a77f6334481e9292067f8feb97dd",
              "IPY_MODEL_9cbeb83ec3f1459998232975eecc810a",
              "IPY_MODEL_233ba752f1364ac5b4d0a79a6aebde93"
            ],
            "layout": "IPY_MODEL_2153fc492b0e4e348f1f2abb6b2d3796"
          }
        },
        "1516a77f6334481e9292067f8feb97dd": {
          "model_module": "@jupyter-widgets/controls",
          "model_name": "HTMLModel",
          "model_module_version": "1.5.0",
          "state": {
            "_dom_classes": [],
            "_model_module": "@jupyter-widgets/controls",
            "_model_module_version": "1.5.0",
            "_model_name": "HTMLModel",
            "_view_count": null,
            "_view_module": "@jupyter-widgets/controls",
            "_view_module_version": "1.5.0",
            "_view_name": "HTMLView",
            "description": "",
            "description_tooltip": null,
            "layout": "IPY_MODEL_1c72bc06f2284dd0adb9252156702730",
            "placeholder": "​",
            "style": "IPY_MODEL_85d51b33416644fd9ad066fbf1f1843b",
            "value": "Downloading data: 100%"
          }
        },
        "9cbeb83ec3f1459998232975eecc810a": {
          "model_module": "@jupyter-widgets/controls",
          "model_name": "FloatProgressModel",
          "model_module_version": "1.5.0",
          "state": {
            "_dom_classes": [],
            "_model_module": "@jupyter-widgets/controls",
            "_model_module_version": "1.5.0",
            "_model_name": "FloatProgressModel",
            "_view_count": null,
            "_view_module": "@jupyter-widgets/controls",
            "_view_module_version": "1.5.0",
            "_view_name": "ProgressView",
            "bar_style": "success",
            "description": "",
            "description_tooltip": null,
            "layout": "IPY_MODEL_2eadbac8a16c47e98646ee32ab73d0ee",
            "max": 18585438,
            "min": 0,
            "orientation": "horizontal",
            "style": "IPY_MODEL_515f76949591481ebb703deb1fc9a0ca",
            "value": 18585438
          }
        },
        "233ba752f1364ac5b4d0a79a6aebde93": {
          "model_module": "@jupyter-widgets/controls",
          "model_name": "HTMLModel",
          "model_module_version": "1.5.0",
          "state": {
            "_dom_classes": [],
            "_model_module": "@jupyter-widgets/controls",
            "_model_module_version": "1.5.0",
            "_model_name": "HTMLModel",
            "_view_count": null,
            "_view_module": "@jupyter-widgets/controls",
            "_view_module_version": "1.5.0",
            "_view_name": "HTMLView",
            "description": "",
            "description_tooltip": null,
            "layout": "IPY_MODEL_af762fc7c2cd4c718d32925ee768ae5e",
            "placeholder": "​",
            "style": "IPY_MODEL_2d550ef3b80c41b1972efc6b6d486b66",
            "value": " 18.6M/18.6M [00:00&lt;00:00, 16.0MB/s]"
          }
        },
        "2153fc492b0e4e348f1f2abb6b2d3796": {
          "model_module": "@jupyter-widgets/base",
          "model_name": "LayoutModel",
          "model_module_version": "1.2.0",
          "state": {
            "_model_module": "@jupyter-widgets/base",
            "_model_module_version": "1.2.0",
            "_model_name": "LayoutModel",
            "_view_count": null,
            "_view_module": "@jupyter-widgets/base",
            "_view_module_version": "1.2.0",
            "_view_name": "LayoutView",
            "align_content": null,
            "align_items": null,
            "align_self": null,
            "border": null,
            "bottom": null,
            "display": null,
            "flex": null,
            "flex_flow": null,
            "grid_area": null,
            "grid_auto_columns": null,
            "grid_auto_flow": null,
            "grid_auto_rows": null,
            "grid_column": null,
            "grid_gap": null,
            "grid_row": null,
            "grid_template_areas": null,
            "grid_template_columns": null,
            "grid_template_rows": null,
            "height": null,
            "justify_content": null,
            "justify_items": null,
            "left": null,
            "margin": null,
            "max_height": null,
            "max_width": null,
            "min_height": null,
            "min_width": null,
            "object_fit": null,
            "object_position": null,
            "order": null,
            "overflow": null,
            "overflow_x": null,
            "overflow_y": null,
            "padding": null,
            "right": null,
            "top": null,
            "visibility": null,
            "width": null
          }
        },
        "1c72bc06f2284dd0adb9252156702730": {
          "model_module": "@jupyter-widgets/base",
          "model_name": "LayoutModel",
          "model_module_version": "1.2.0",
          "state": {
            "_model_module": "@jupyter-widgets/base",
            "_model_module_version": "1.2.0",
            "_model_name": "LayoutModel",
            "_view_count": null,
            "_view_module": "@jupyter-widgets/base",
            "_view_module_version": "1.2.0",
            "_view_name": "LayoutView",
            "align_content": null,
            "align_items": null,
            "align_self": null,
            "border": null,
            "bottom": null,
            "display": null,
            "flex": null,
            "flex_flow": null,
            "grid_area": null,
            "grid_auto_columns": null,
            "grid_auto_flow": null,
            "grid_auto_rows": null,
            "grid_column": null,
            "grid_gap": null,
            "grid_row": null,
            "grid_template_areas": null,
            "grid_template_columns": null,
            "grid_template_rows": null,
            "height": null,
            "justify_content": null,
            "justify_items": null,
            "left": null,
            "margin": null,
            "max_height": null,
            "max_width": null,
            "min_height": null,
            "min_width": null,
            "object_fit": null,
            "object_position": null,
            "order": null,
            "overflow": null,
            "overflow_x": null,
            "overflow_y": null,
            "padding": null,
            "right": null,
            "top": null,
            "visibility": null,
            "width": null
          }
        },
        "85d51b33416644fd9ad066fbf1f1843b": {
          "model_module": "@jupyter-widgets/controls",
          "model_name": "DescriptionStyleModel",
          "model_module_version": "1.5.0",
          "state": {
            "_model_module": "@jupyter-widgets/controls",
            "_model_module_version": "1.5.0",
            "_model_name": "DescriptionStyleModel",
            "_view_count": null,
            "_view_module": "@jupyter-widgets/base",
            "_view_module_version": "1.2.0",
            "_view_name": "StyleView",
            "description_width": ""
          }
        },
        "2eadbac8a16c47e98646ee32ab73d0ee": {
          "model_module": "@jupyter-widgets/base",
          "model_name": "LayoutModel",
          "model_module_version": "1.2.0",
          "state": {
            "_model_module": "@jupyter-widgets/base",
            "_model_module_version": "1.2.0",
            "_model_name": "LayoutModel",
            "_view_count": null,
            "_view_module": "@jupyter-widgets/base",
            "_view_module_version": "1.2.0",
            "_view_name": "LayoutView",
            "align_content": null,
            "align_items": null,
            "align_self": null,
            "border": null,
            "bottom": null,
            "display": null,
            "flex": null,
            "flex_flow": null,
            "grid_area": null,
            "grid_auto_columns": null,
            "grid_auto_flow": null,
            "grid_auto_rows": null,
            "grid_column": null,
            "grid_gap": null,
            "grid_row": null,
            "grid_template_areas": null,
            "grid_template_columns": null,
            "grid_template_rows": null,
            "height": null,
            "justify_content": null,
            "justify_items": null,
            "left": null,
            "margin": null,
            "max_height": null,
            "max_width": null,
            "min_height": null,
            "min_width": null,
            "object_fit": null,
            "object_position": null,
            "order": null,
            "overflow": null,
            "overflow_x": null,
            "overflow_y": null,
            "padding": null,
            "right": null,
            "top": null,
            "visibility": null,
            "width": null
          }
        },
        "515f76949591481ebb703deb1fc9a0ca": {
          "model_module": "@jupyter-widgets/controls",
          "model_name": "ProgressStyleModel",
          "model_module_version": "1.5.0",
          "state": {
            "_model_module": "@jupyter-widgets/controls",
            "_model_module_version": "1.5.0",
            "_model_name": "ProgressStyleModel",
            "_view_count": null,
            "_view_module": "@jupyter-widgets/base",
            "_view_module_version": "1.2.0",
            "_view_name": "StyleView",
            "bar_color": null,
            "description_width": ""
          }
        },
        "af762fc7c2cd4c718d32925ee768ae5e": {
          "model_module": "@jupyter-widgets/base",
          "model_name": "LayoutModel",
          "model_module_version": "1.2.0",
          "state": {
            "_model_module": "@jupyter-widgets/base",
            "_model_module_version": "1.2.0",
            "_model_name": "LayoutModel",
            "_view_count": null,
            "_view_module": "@jupyter-widgets/base",
            "_view_module_version": "1.2.0",
            "_view_name": "LayoutView",
            "align_content": null,
            "align_items": null,
            "align_self": null,
            "border": null,
            "bottom": null,
            "display": null,
            "flex": null,
            "flex_flow": null,
            "grid_area": null,
            "grid_auto_columns": null,
            "grid_auto_flow": null,
            "grid_auto_rows": null,
            "grid_column": null,
            "grid_gap": null,
            "grid_row": null,
            "grid_template_areas": null,
            "grid_template_columns": null,
            "grid_template_rows": null,
            "height": null,
            "justify_content": null,
            "justify_items": null,
            "left": null,
            "margin": null,
            "max_height": null,
            "max_width": null,
            "min_height": null,
            "min_width": null,
            "object_fit": null,
            "object_position": null,
            "order": null,
            "overflow": null,
            "overflow_x": null,
            "overflow_y": null,
            "padding": null,
            "right": null,
            "top": null,
            "visibility": null,
            "width": null
          }
        },
        "2d550ef3b80c41b1972efc6b6d486b66": {
          "model_module": "@jupyter-widgets/controls",
          "model_name": "DescriptionStyleModel",
          "model_module_version": "1.5.0",
          "state": {
            "_model_module": "@jupyter-widgets/controls",
            "_model_module_version": "1.5.0",
            "_model_name": "DescriptionStyleModel",
            "_view_count": null,
            "_view_module": "@jupyter-widgets/base",
            "_view_module_version": "1.2.0",
            "_view_name": "StyleView",
            "description_width": ""
          }
        },
        "a734518756e742f78caf61b2342d1ae0": {
          "model_module": "@jupyter-widgets/controls",
          "model_name": "HBoxModel",
          "model_module_version": "1.5.0",
          "state": {
            "_dom_classes": [],
            "_model_module": "@jupyter-widgets/controls",
            "_model_module_version": "1.5.0",
            "_model_name": "HBoxModel",
            "_view_count": null,
            "_view_module": "@jupyter-widgets/controls",
            "_view_module_version": "1.5.0",
            "_view_name": "HBoxView",
            "box_style": "",
            "children": [
              "IPY_MODEL_e5496202300546c3835ad316badfaef5",
              "IPY_MODEL_ad2eae7509764291a07eafb6c5df46a7",
              "IPY_MODEL_34446e0b651e47358f72997efd64de1d"
            ],
            "layout": "IPY_MODEL_4541d491b8c743369d6dfc26b5dcda8f"
          }
        },
        "e5496202300546c3835ad316badfaef5": {
          "model_module": "@jupyter-widgets/controls",
          "model_name": "HTMLModel",
          "model_module_version": "1.5.0",
          "state": {
            "_dom_classes": [],
            "_model_module": "@jupyter-widgets/controls",
            "_model_module_version": "1.5.0",
            "_model_name": "HTMLModel",
            "_view_count": null,
            "_view_module": "@jupyter-widgets/controls",
            "_view_module_version": "1.5.0",
            "_view_name": "HTMLView",
            "description": "",
            "description_tooltip": null,
            "layout": "IPY_MODEL_e1e962a9707047a49e1e221dbbd01c8a",
            "placeholder": "​",
            "style": "IPY_MODEL_1307c61a0531427f868656858107e4bc",
            "value": "Downloading data: 100%"
          }
        },
        "ad2eae7509764291a07eafb6c5df46a7": {
          "model_module": "@jupyter-widgets/controls",
          "model_name": "FloatProgressModel",
          "model_module_version": "1.5.0",
          "state": {
            "_dom_classes": [],
            "_model_module": "@jupyter-widgets/controls",
            "_model_module_version": "1.5.0",
            "_model_name": "FloatProgressModel",
            "_view_count": null,
            "_view_module": "@jupyter-widgets/controls",
            "_view_module_version": "1.5.0",
            "_view_name": "ProgressView",
            "bar_style": "success",
            "description": "",
            "description_tooltip": null,
            "layout": "IPY_MODEL_eeb6178753654700ba54dd2ff33d5c82",
            "max": 1234829,
            "min": 0,
            "orientation": "horizontal",
            "style": "IPY_MODEL_4dfd7b3e926f43cd9551fe28e0de689e",
            "value": 1234829
          }
        },
        "34446e0b651e47358f72997efd64de1d": {
          "model_module": "@jupyter-widgets/controls",
          "model_name": "HTMLModel",
          "model_module_version": "1.5.0",
          "state": {
            "_dom_classes": [],
            "_model_module": "@jupyter-widgets/controls",
            "_model_module_version": "1.5.0",
            "_model_name": "HTMLModel",
            "_view_count": null,
            "_view_module": "@jupyter-widgets/controls",
            "_view_module_version": "1.5.0",
            "_view_name": "HTMLView",
            "description": "",
            "description_tooltip": null,
            "layout": "IPY_MODEL_d47f44954e85486b865b0c0b7217f47e",
            "placeholder": "​",
            "style": "IPY_MODEL_d45a8d7659d648b4a8b5fbdd054fec2e",
            "value": " 1.23M/1.23M [00:00&lt;00:00, 2.40MB/s]"
          }
        },
        "4541d491b8c743369d6dfc26b5dcda8f": {
          "model_module": "@jupyter-widgets/base",
          "model_name": "LayoutModel",
          "model_module_version": "1.2.0",
          "state": {
            "_model_module": "@jupyter-widgets/base",
            "_model_module_version": "1.2.0",
            "_model_name": "LayoutModel",
            "_view_count": null,
            "_view_module": "@jupyter-widgets/base",
            "_view_module_version": "1.2.0",
            "_view_name": "LayoutView",
            "align_content": null,
            "align_items": null,
            "align_self": null,
            "border": null,
            "bottom": null,
            "display": null,
            "flex": null,
            "flex_flow": null,
            "grid_area": null,
            "grid_auto_columns": null,
            "grid_auto_flow": null,
            "grid_auto_rows": null,
            "grid_column": null,
            "grid_gap": null,
            "grid_row": null,
            "grid_template_areas": null,
            "grid_template_columns": null,
            "grid_template_rows": null,
            "height": null,
            "justify_content": null,
            "justify_items": null,
            "left": null,
            "margin": null,
            "max_height": null,
            "max_width": null,
            "min_height": null,
            "min_width": null,
            "object_fit": null,
            "object_position": null,
            "order": null,
            "overflow": null,
            "overflow_x": null,
            "overflow_y": null,
            "padding": null,
            "right": null,
            "top": null,
            "visibility": null,
            "width": null
          }
        },
        "e1e962a9707047a49e1e221dbbd01c8a": {
          "model_module": "@jupyter-widgets/base",
          "model_name": "LayoutModel",
          "model_module_version": "1.2.0",
          "state": {
            "_model_module": "@jupyter-widgets/base",
            "_model_module_version": "1.2.0",
            "_model_name": "LayoutModel",
            "_view_count": null,
            "_view_module": "@jupyter-widgets/base",
            "_view_module_version": "1.2.0",
            "_view_name": "LayoutView",
            "align_content": null,
            "align_items": null,
            "align_self": null,
            "border": null,
            "bottom": null,
            "display": null,
            "flex": null,
            "flex_flow": null,
            "grid_area": null,
            "grid_auto_columns": null,
            "grid_auto_flow": null,
            "grid_auto_rows": null,
            "grid_column": null,
            "grid_gap": null,
            "grid_row": null,
            "grid_template_areas": null,
            "grid_template_columns": null,
            "grid_template_rows": null,
            "height": null,
            "justify_content": null,
            "justify_items": null,
            "left": null,
            "margin": null,
            "max_height": null,
            "max_width": null,
            "min_height": null,
            "min_width": null,
            "object_fit": null,
            "object_position": null,
            "order": null,
            "overflow": null,
            "overflow_x": null,
            "overflow_y": null,
            "padding": null,
            "right": null,
            "top": null,
            "visibility": null,
            "width": null
          }
        },
        "1307c61a0531427f868656858107e4bc": {
          "model_module": "@jupyter-widgets/controls",
          "model_name": "DescriptionStyleModel",
          "model_module_version": "1.5.0",
          "state": {
            "_model_module": "@jupyter-widgets/controls",
            "_model_module_version": "1.5.0",
            "_model_name": "DescriptionStyleModel",
            "_view_count": null,
            "_view_module": "@jupyter-widgets/base",
            "_view_module_version": "1.2.0",
            "_view_name": "StyleView",
            "description_width": ""
          }
        },
        "eeb6178753654700ba54dd2ff33d5c82": {
          "model_module": "@jupyter-widgets/base",
          "model_name": "LayoutModel",
          "model_module_version": "1.2.0",
          "state": {
            "_model_module": "@jupyter-widgets/base",
            "_model_module_version": "1.2.0",
            "_model_name": "LayoutModel",
            "_view_count": null,
            "_view_module": "@jupyter-widgets/base",
            "_view_module_version": "1.2.0",
            "_view_name": "LayoutView",
            "align_content": null,
            "align_items": null,
            "align_self": null,
            "border": null,
            "bottom": null,
            "display": null,
            "flex": null,
            "flex_flow": null,
            "grid_area": null,
            "grid_auto_columns": null,
            "grid_auto_flow": null,
            "grid_auto_rows": null,
            "grid_column": null,
            "grid_gap": null,
            "grid_row": null,
            "grid_template_areas": null,
            "grid_template_columns": null,
            "grid_template_rows": null,
            "height": null,
            "justify_content": null,
            "justify_items": null,
            "left": null,
            "margin": null,
            "max_height": null,
            "max_width": null,
            "min_height": null,
            "min_width": null,
            "object_fit": null,
            "object_position": null,
            "order": null,
            "overflow": null,
            "overflow_x": null,
            "overflow_y": null,
            "padding": null,
            "right": null,
            "top": null,
            "visibility": null,
            "width": null
          }
        },
        "4dfd7b3e926f43cd9551fe28e0de689e": {
          "model_module": "@jupyter-widgets/controls",
          "model_name": "ProgressStyleModel",
          "model_module_version": "1.5.0",
          "state": {
            "_model_module": "@jupyter-widgets/controls",
            "_model_module_version": "1.5.0",
            "_model_name": "ProgressStyleModel",
            "_view_count": null,
            "_view_module": "@jupyter-widgets/base",
            "_view_module_version": "1.2.0",
            "_view_name": "StyleView",
            "bar_color": null,
            "description_width": ""
          }
        },
        "d47f44954e85486b865b0c0b7217f47e": {
          "model_module": "@jupyter-widgets/base",
          "model_name": "LayoutModel",
          "model_module_version": "1.2.0",
          "state": {
            "_model_module": "@jupyter-widgets/base",
            "_model_module_version": "1.2.0",
            "_model_name": "LayoutModel",
            "_view_count": null,
            "_view_module": "@jupyter-widgets/base",
            "_view_module_version": "1.2.0",
            "_view_name": "LayoutView",
            "align_content": null,
            "align_items": null,
            "align_self": null,
            "border": null,
            "bottom": null,
            "display": null,
            "flex": null,
            "flex_flow": null,
            "grid_area": null,
            "grid_auto_columns": null,
            "grid_auto_flow": null,
            "grid_auto_rows": null,
            "grid_column": null,
            "grid_gap": null,
            "grid_row": null,
            "grid_template_areas": null,
            "grid_template_columns": null,
            "grid_template_rows": null,
            "height": null,
            "justify_content": null,
            "justify_items": null,
            "left": null,
            "margin": null,
            "max_height": null,
            "max_width": null,
            "min_height": null,
            "min_width": null,
            "object_fit": null,
            "object_position": null,
            "order": null,
            "overflow": null,
            "overflow_x": null,
            "overflow_y": null,
            "padding": null,
            "right": null,
            "top": null,
            "visibility": null,
            "width": null
          }
        },
        "d45a8d7659d648b4a8b5fbdd054fec2e": {
          "model_module": "@jupyter-widgets/controls",
          "model_name": "DescriptionStyleModel",
          "model_module_version": "1.5.0",
          "state": {
            "_model_module": "@jupyter-widgets/controls",
            "_model_module_version": "1.5.0",
            "_model_name": "DescriptionStyleModel",
            "_view_count": null,
            "_view_module": "@jupyter-widgets/base",
            "_view_module_version": "1.2.0",
            "_view_name": "StyleView",
            "description_width": ""
          }
        },
        "60f884e0c5e14cfe931473c4f4e24121": {
          "model_module": "@jupyter-widgets/controls",
          "model_name": "HBoxModel",
          "model_module_version": "1.5.0",
          "state": {
            "_dom_classes": [],
            "_model_module": "@jupyter-widgets/controls",
            "_model_module_version": "1.5.0",
            "_model_name": "HBoxModel",
            "_view_count": null,
            "_view_module": "@jupyter-widgets/controls",
            "_view_module_version": "1.5.0",
            "_view_name": "HBoxView",
            "box_style": "",
            "children": [
              "IPY_MODEL_d64e4b28422647c7a14ef63dd9e8b0f1",
              "IPY_MODEL_4ba2b4a9c5704fc9aba50fb1c451c6e2",
              "IPY_MODEL_627eb03dea364c9e86266c8c1ed9f566"
            ],
            "layout": "IPY_MODEL_9afd893d961e48e69a3a3e73a153cfa5"
          }
        },
        "d64e4b28422647c7a14ef63dd9e8b0f1": {
          "model_module": "@jupyter-widgets/controls",
          "model_name": "HTMLModel",
          "model_module_version": "1.5.0",
          "state": {
            "_dom_classes": [],
            "_model_module": "@jupyter-widgets/controls",
            "_model_module_version": "1.5.0",
            "_model_name": "HTMLModel",
            "_view_count": null,
            "_view_module": "@jupyter-widgets/controls",
            "_view_module_version": "1.5.0",
            "_view_name": "HTMLView",
            "description": "",
            "description_tooltip": null,
            "layout": "IPY_MODEL_cd4a61c125774edda20a3b3005741e56",
            "placeholder": "​",
            "style": "IPY_MODEL_1a794a75091a4b1cb1bdc5f5fb6f1b7b",
            "value": "Generating train split: 100%"
          }
        },
        "4ba2b4a9c5704fc9aba50fb1c451c6e2": {
          "model_module": "@jupyter-widgets/controls",
          "model_name": "FloatProgressModel",
          "model_module_version": "1.5.0",
          "state": {
            "_dom_classes": [],
            "_model_module": "@jupyter-widgets/controls",
            "_model_module_version": "1.5.0",
            "_model_name": "FloatProgressModel",
            "_view_count": null,
            "_view_module": "@jupyter-widgets/controls",
            "_view_module_version": "1.5.0",
            "_view_name": "ProgressView",
            "bar_style": "success",
            "description": "",
            "description_tooltip": null,
            "layout": "IPY_MODEL_b7dfaf66765c4d118ef7c4c1cc23bb33",
            "max": 120000,
            "min": 0,
            "orientation": "horizontal",
            "style": "IPY_MODEL_cd89c049e1a5488e8aa65a36ed3806f0",
            "value": 120000
          }
        },
        "627eb03dea364c9e86266c8c1ed9f566": {
          "model_module": "@jupyter-widgets/controls",
          "model_name": "HTMLModel",
          "model_module_version": "1.5.0",
          "state": {
            "_dom_classes": [],
            "_model_module": "@jupyter-widgets/controls",
            "_model_module_version": "1.5.0",
            "_model_name": "HTMLModel",
            "_view_count": null,
            "_view_module": "@jupyter-widgets/controls",
            "_view_module_version": "1.5.0",
            "_view_name": "HTMLView",
            "description": "",
            "description_tooltip": null,
            "layout": "IPY_MODEL_bf1159979d954769b401253c67527265",
            "placeholder": "​",
            "style": "IPY_MODEL_3785b22d5cae4720a1ed979f320e56cc",
            "value": " 120000/120000 [00:00&lt;00:00, 591689.48 examples/s]"
          }
        },
        "9afd893d961e48e69a3a3e73a153cfa5": {
          "model_module": "@jupyter-widgets/base",
          "model_name": "LayoutModel",
          "model_module_version": "1.2.0",
          "state": {
            "_model_module": "@jupyter-widgets/base",
            "_model_module_version": "1.2.0",
            "_model_name": "LayoutModel",
            "_view_count": null,
            "_view_module": "@jupyter-widgets/base",
            "_view_module_version": "1.2.0",
            "_view_name": "LayoutView",
            "align_content": null,
            "align_items": null,
            "align_self": null,
            "border": null,
            "bottom": null,
            "display": null,
            "flex": null,
            "flex_flow": null,
            "grid_area": null,
            "grid_auto_columns": null,
            "grid_auto_flow": null,
            "grid_auto_rows": null,
            "grid_column": null,
            "grid_gap": null,
            "grid_row": null,
            "grid_template_areas": null,
            "grid_template_columns": null,
            "grid_template_rows": null,
            "height": null,
            "justify_content": null,
            "justify_items": null,
            "left": null,
            "margin": null,
            "max_height": null,
            "max_width": null,
            "min_height": null,
            "min_width": null,
            "object_fit": null,
            "object_position": null,
            "order": null,
            "overflow": null,
            "overflow_x": null,
            "overflow_y": null,
            "padding": null,
            "right": null,
            "top": null,
            "visibility": null,
            "width": null
          }
        },
        "cd4a61c125774edda20a3b3005741e56": {
          "model_module": "@jupyter-widgets/base",
          "model_name": "LayoutModel",
          "model_module_version": "1.2.0",
          "state": {
            "_model_module": "@jupyter-widgets/base",
            "_model_module_version": "1.2.0",
            "_model_name": "LayoutModel",
            "_view_count": null,
            "_view_module": "@jupyter-widgets/base",
            "_view_module_version": "1.2.0",
            "_view_name": "LayoutView",
            "align_content": null,
            "align_items": null,
            "align_self": null,
            "border": null,
            "bottom": null,
            "display": null,
            "flex": null,
            "flex_flow": null,
            "grid_area": null,
            "grid_auto_columns": null,
            "grid_auto_flow": null,
            "grid_auto_rows": null,
            "grid_column": null,
            "grid_gap": null,
            "grid_row": null,
            "grid_template_areas": null,
            "grid_template_columns": null,
            "grid_template_rows": null,
            "height": null,
            "justify_content": null,
            "justify_items": null,
            "left": null,
            "margin": null,
            "max_height": null,
            "max_width": null,
            "min_height": null,
            "min_width": null,
            "object_fit": null,
            "object_position": null,
            "order": null,
            "overflow": null,
            "overflow_x": null,
            "overflow_y": null,
            "padding": null,
            "right": null,
            "top": null,
            "visibility": null,
            "width": null
          }
        },
        "1a794a75091a4b1cb1bdc5f5fb6f1b7b": {
          "model_module": "@jupyter-widgets/controls",
          "model_name": "DescriptionStyleModel",
          "model_module_version": "1.5.0",
          "state": {
            "_model_module": "@jupyter-widgets/controls",
            "_model_module_version": "1.5.0",
            "_model_name": "DescriptionStyleModel",
            "_view_count": null,
            "_view_module": "@jupyter-widgets/base",
            "_view_module_version": "1.2.0",
            "_view_name": "StyleView",
            "description_width": ""
          }
        },
        "b7dfaf66765c4d118ef7c4c1cc23bb33": {
          "model_module": "@jupyter-widgets/base",
          "model_name": "LayoutModel",
          "model_module_version": "1.2.0",
          "state": {
            "_model_module": "@jupyter-widgets/base",
            "_model_module_version": "1.2.0",
            "_model_name": "LayoutModel",
            "_view_count": null,
            "_view_module": "@jupyter-widgets/base",
            "_view_module_version": "1.2.0",
            "_view_name": "LayoutView",
            "align_content": null,
            "align_items": null,
            "align_self": null,
            "border": null,
            "bottom": null,
            "display": null,
            "flex": null,
            "flex_flow": null,
            "grid_area": null,
            "grid_auto_columns": null,
            "grid_auto_flow": null,
            "grid_auto_rows": null,
            "grid_column": null,
            "grid_gap": null,
            "grid_row": null,
            "grid_template_areas": null,
            "grid_template_columns": null,
            "grid_template_rows": null,
            "height": null,
            "justify_content": null,
            "justify_items": null,
            "left": null,
            "margin": null,
            "max_height": null,
            "max_width": null,
            "min_height": null,
            "min_width": null,
            "object_fit": null,
            "object_position": null,
            "order": null,
            "overflow": null,
            "overflow_x": null,
            "overflow_y": null,
            "padding": null,
            "right": null,
            "top": null,
            "visibility": null,
            "width": null
          }
        },
        "cd89c049e1a5488e8aa65a36ed3806f0": {
          "model_module": "@jupyter-widgets/controls",
          "model_name": "ProgressStyleModel",
          "model_module_version": "1.5.0",
          "state": {
            "_model_module": "@jupyter-widgets/controls",
            "_model_module_version": "1.5.0",
            "_model_name": "ProgressStyleModel",
            "_view_count": null,
            "_view_module": "@jupyter-widgets/base",
            "_view_module_version": "1.2.0",
            "_view_name": "StyleView",
            "bar_color": null,
            "description_width": ""
          }
        },
        "bf1159979d954769b401253c67527265": {
          "model_module": "@jupyter-widgets/base",
          "model_name": "LayoutModel",
          "model_module_version": "1.2.0",
          "state": {
            "_model_module": "@jupyter-widgets/base",
            "_model_module_version": "1.2.0",
            "_model_name": "LayoutModel",
            "_view_count": null,
            "_view_module": "@jupyter-widgets/base",
            "_view_module_version": "1.2.0",
            "_view_name": "LayoutView",
            "align_content": null,
            "align_items": null,
            "align_self": null,
            "border": null,
            "bottom": null,
            "display": null,
            "flex": null,
            "flex_flow": null,
            "grid_area": null,
            "grid_auto_columns": null,
            "grid_auto_flow": null,
            "grid_auto_rows": null,
            "grid_column": null,
            "grid_gap": null,
            "grid_row": null,
            "grid_template_areas": null,
            "grid_template_columns": null,
            "grid_template_rows": null,
            "height": null,
            "justify_content": null,
            "justify_items": null,
            "left": null,
            "margin": null,
            "max_height": null,
            "max_width": null,
            "min_height": null,
            "min_width": null,
            "object_fit": null,
            "object_position": null,
            "order": null,
            "overflow": null,
            "overflow_x": null,
            "overflow_y": null,
            "padding": null,
            "right": null,
            "top": null,
            "visibility": null,
            "width": null
          }
        },
        "3785b22d5cae4720a1ed979f320e56cc": {
          "model_module": "@jupyter-widgets/controls",
          "model_name": "DescriptionStyleModel",
          "model_module_version": "1.5.0",
          "state": {
            "_model_module": "@jupyter-widgets/controls",
            "_model_module_version": "1.5.0",
            "_model_name": "DescriptionStyleModel",
            "_view_count": null,
            "_view_module": "@jupyter-widgets/base",
            "_view_module_version": "1.2.0",
            "_view_name": "StyleView",
            "description_width": ""
          }
        },
        "5813123d59d44caca357e1bed86a5247": {
          "model_module": "@jupyter-widgets/controls",
          "model_name": "HBoxModel",
          "model_module_version": "1.5.0",
          "state": {
            "_dom_classes": [],
            "_model_module": "@jupyter-widgets/controls",
            "_model_module_version": "1.5.0",
            "_model_name": "HBoxModel",
            "_view_count": null,
            "_view_module": "@jupyter-widgets/controls",
            "_view_module_version": "1.5.0",
            "_view_name": "HBoxView",
            "box_style": "",
            "children": [
              "IPY_MODEL_c921f36e004545dc97c1f9a7c2c902a2",
              "IPY_MODEL_6e10a30000564e4bb5551aeda52e88e1",
              "IPY_MODEL_a2a879e2683c4e8d8fc11ebb5c0e6e80"
            ],
            "layout": "IPY_MODEL_8fb99beaebec4e899a1e2282abace337"
          }
        },
        "c921f36e004545dc97c1f9a7c2c902a2": {
          "model_module": "@jupyter-widgets/controls",
          "model_name": "HTMLModel",
          "model_module_version": "1.5.0",
          "state": {
            "_dom_classes": [],
            "_model_module": "@jupyter-widgets/controls",
            "_model_module_version": "1.5.0",
            "_model_name": "HTMLModel",
            "_view_count": null,
            "_view_module": "@jupyter-widgets/controls",
            "_view_module_version": "1.5.0",
            "_view_name": "HTMLView",
            "description": "",
            "description_tooltip": null,
            "layout": "IPY_MODEL_a3cd95912d5a4f4ca313881f93a96e59",
            "placeholder": "​",
            "style": "IPY_MODEL_415260e4508141208ac2c6933927b428",
            "value": "Generating test split: 100%"
          }
        },
        "6e10a30000564e4bb5551aeda52e88e1": {
          "model_module": "@jupyter-widgets/controls",
          "model_name": "FloatProgressModel",
          "model_module_version": "1.5.0",
          "state": {
            "_dom_classes": [],
            "_model_module": "@jupyter-widgets/controls",
            "_model_module_version": "1.5.0",
            "_model_name": "FloatProgressModel",
            "_view_count": null,
            "_view_module": "@jupyter-widgets/controls",
            "_view_module_version": "1.5.0",
            "_view_name": "ProgressView",
            "bar_style": "success",
            "description": "",
            "description_tooltip": null,
            "layout": "IPY_MODEL_77771835810d4994a4fba7a5e8ef3266",
            "max": 7600,
            "min": 0,
            "orientation": "horizontal",
            "style": "IPY_MODEL_64dd02817f304d85a78639a11172fa59",
            "value": 7600
          }
        },
        "a2a879e2683c4e8d8fc11ebb5c0e6e80": {
          "model_module": "@jupyter-widgets/controls",
          "model_name": "HTMLModel",
          "model_module_version": "1.5.0",
          "state": {
            "_dom_classes": [],
            "_model_module": "@jupyter-widgets/controls",
            "_model_module_version": "1.5.0",
            "_model_name": "HTMLModel",
            "_view_count": null,
            "_view_module": "@jupyter-widgets/controls",
            "_view_module_version": "1.5.0",
            "_view_name": "HTMLView",
            "description": "",
            "description_tooltip": null,
            "layout": "IPY_MODEL_2730dd3812714bc480e0e9d12e4c75e4",
            "placeholder": "​",
            "style": "IPY_MODEL_c2b2af4f9e524105a61a7413da8e7360",
            "value": " 7600/7600 [00:00&lt;00:00, 263856.03 examples/s]"
          }
        },
        "8fb99beaebec4e899a1e2282abace337": {
          "model_module": "@jupyter-widgets/base",
          "model_name": "LayoutModel",
          "model_module_version": "1.2.0",
          "state": {
            "_model_module": "@jupyter-widgets/base",
            "_model_module_version": "1.2.0",
            "_model_name": "LayoutModel",
            "_view_count": null,
            "_view_module": "@jupyter-widgets/base",
            "_view_module_version": "1.2.0",
            "_view_name": "LayoutView",
            "align_content": null,
            "align_items": null,
            "align_self": null,
            "border": null,
            "bottom": null,
            "display": null,
            "flex": null,
            "flex_flow": null,
            "grid_area": null,
            "grid_auto_columns": null,
            "grid_auto_flow": null,
            "grid_auto_rows": null,
            "grid_column": null,
            "grid_gap": null,
            "grid_row": null,
            "grid_template_areas": null,
            "grid_template_columns": null,
            "grid_template_rows": null,
            "height": null,
            "justify_content": null,
            "justify_items": null,
            "left": null,
            "margin": null,
            "max_height": null,
            "max_width": null,
            "min_height": null,
            "min_width": null,
            "object_fit": null,
            "object_position": null,
            "order": null,
            "overflow": null,
            "overflow_x": null,
            "overflow_y": null,
            "padding": null,
            "right": null,
            "top": null,
            "visibility": null,
            "width": null
          }
        },
        "a3cd95912d5a4f4ca313881f93a96e59": {
          "model_module": "@jupyter-widgets/base",
          "model_name": "LayoutModel",
          "model_module_version": "1.2.0",
          "state": {
            "_model_module": "@jupyter-widgets/base",
            "_model_module_version": "1.2.0",
            "_model_name": "LayoutModel",
            "_view_count": null,
            "_view_module": "@jupyter-widgets/base",
            "_view_module_version": "1.2.0",
            "_view_name": "LayoutView",
            "align_content": null,
            "align_items": null,
            "align_self": null,
            "border": null,
            "bottom": null,
            "display": null,
            "flex": null,
            "flex_flow": null,
            "grid_area": null,
            "grid_auto_columns": null,
            "grid_auto_flow": null,
            "grid_auto_rows": null,
            "grid_column": null,
            "grid_gap": null,
            "grid_row": null,
            "grid_template_areas": null,
            "grid_template_columns": null,
            "grid_template_rows": null,
            "height": null,
            "justify_content": null,
            "justify_items": null,
            "left": null,
            "margin": null,
            "max_height": null,
            "max_width": null,
            "min_height": null,
            "min_width": null,
            "object_fit": null,
            "object_position": null,
            "order": null,
            "overflow": null,
            "overflow_x": null,
            "overflow_y": null,
            "padding": null,
            "right": null,
            "top": null,
            "visibility": null,
            "width": null
          }
        },
        "415260e4508141208ac2c6933927b428": {
          "model_module": "@jupyter-widgets/controls",
          "model_name": "DescriptionStyleModel",
          "model_module_version": "1.5.0",
          "state": {
            "_model_module": "@jupyter-widgets/controls",
            "_model_module_version": "1.5.0",
            "_model_name": "DescriptionStyleModel",
            "_view_count": null,
            "_view_module": "@jupyter-widgets/base",
            "_view_module_version": "1.2.0",
            "_view_name": "StyleView",
            "description_width": ""
          }
        },
        "77771835810d4994a4fba7a5e8ef3266": {
          "model_module": "@jupyter-widgets/base",
          "model_name": "LayoutModel",
          "model_module_version": "1.2.0",
          "state": {
            "_model_module": "@jupyter-widgets/base",
            "_model_module_version": "1.2.0",
            "_model_name": "LayoutModel",
            "_view_count": null,
            "_view_module": "@jupyter-widgets/base",
            "_view_module_version": "1.2.0",
            "_view_name": "LayoutView",
            "align_content": null,
            "align_items": null,
            "align_self": null,
            "border": null,
            "bottom": null,
            "display": null,
            "flex": null,
            "flex_flow": null,
            "grid_area": null,
            "grid_auto_columns": null,
            "grid_auto_flow": null,
            "grid_auto_rows": null,
            "grid_column": null,
            "grid_gap": null,
            "grid_row": null,
            "grid_template_areas": null,
            "grid_template_columns": null,
            "grid_template_rows": null,
            "height": null,
            "justify_content": null,
            "justify_items": null,
            "left": null,
            "margin": null,
            "max_height": null,
            "max_width": null,
            "min_height": null,
            "min_width": null,
            "object_fit": null,
            "object_position": null,
            "order": null,
            "overflow": null,
            "overflow_x": null,
            "overflow_y": null,
            "padding": null,
            "right": null,
            "top": null,
            "visibility": null,
            "width": null
          }
        },
        "64dd02817f304d85a78639a11172fa59": {
          "model_module": "@jupyter-widgets/controls",
          "model_name": "ProgressStyleModel",
          "model_module_version": "1.5.0",
          "state": {
            "_model_module": "@jupyter-widgets/controls",
            "_model_module_version": "1.5.0",
            "_model_name": "ProgressStyleModel",
            "_view_count": null,
            "_view_module": "@jupyter-widgets/base",
            "_view_module_version": "1.2.0",
            "_view_name": "StyleView",
            "bar_color": null,
            "description_width": ""
          }
        },
        "2730dd3812714bc480e0e9d12e4c75e4": {
          "model_module": "@jupyter-widgets/base",
          "model_name": "LayoutModel",
          "model_module_version": "1.2.0",
          "state": {
            "_model_module": "@jupyter-widgets/base",
            "_model_module_version": "1.2.0",
            "_model_name": "LayoutModel",
            "_view_count": null,
            "_view_module": "@jupyter-widgets/base",
            "_view_module_version": "1.2.0",
            "_view_name": "LayoutView",
            "align_content": null,
            "align_items": null,
            "align_self": null,
            "border": null,
            "bottom": null,
            "display": null,
            "flex": null,
            "flex_flow": null,
            "grid_area": null,
            "grid_auto_columns": null,
            "grid_auto_flow": null,
            "grid_auto_rows": null,
            "grid_column": null,
            "grid_gap": null,
            "grid_row": null,
            "grid_template_areas": null,
            "grid_template_columns": null,
            "grid_template_rows": null,
            "height": null,
            "justify_content": null,
            "justify_items": null,
            "left": null,
            "margin": null,
            "max_height": null,
            "max_width": null,
            "min_height": null,
            "min_width": null,
            "object_fit": null,
            "object_position": null,
            "order": null,
            "overflow": null,
            "overflow_x": null,
            "overflow_y": null,
            "padding": null,
            "right": null,
            "top": null,
            "visibility": null,
            "width": null
          }
        },
        "c2b2af4f9e524105a61a7413da8e7360": {
          "model_module": "@jupyter-widgets/controls",
          "model_name": "DescriptionStyleModel",
          "model_module_version": "1.5.0",
          "state": {
            "_model_module": "@jupyter-widgets/controls",
            "_model_module_version": "1.5.0",
            "_model_name": "DescriptionStyleModel",
            "_view_count": null,
            "_view_module": "@jupyter-widgets/base",
            "_view_module_version": "1.2.0",
            "_view_name": "StyleView",
            "description_width": ""
          }
        },
        "86d261ccad624b019e40783f9e506de5": {
          "model_module": "@jupyter-widgets/controls",
          "model_name": "HBoxModel",
          "model_module_version": "1.5.0",
          "state": {
            "_dom_classes": [],
            "_model_module": "@jupyter-widgets/controls",
            "_model_module_version": "1.5.0",
            "_model_name": "HBoxModel",
            "_view_count": null,
            "_view_module": "@jupyter-widgets/controls",
            "_view_module_version": "1.5.0",
            "_view_name": "HBoxView",
            "box_style": "",
            "children": [
              "IPY_MODEL_e67e46365bef437c9818a9ec05d38009",
              "IPY_MODEL_3e313ded9056468a87abe0f3fd5db450",
              "IPY_MODEL_f9df3009ab9044a191efe4a1860b59c3"
            ],
            "layout": "IPY_MODEL_51841e3621fb40408fbb97da46c352fc"
          }
        },
        "e67e46365bef437c9818a9ec05d38009": {
          "model_module": "@jupyter-widgets/controls",
          "model_name": "HTMLModel",
          "model_module_version": "1.5.0",
          "state": {
            "_dom_classes": [],
            "_model_module": "@jupyter-widgets/controls",
            "_model_module_version": "1.5.0",
            "_model_name": "HTMLModel",
            "_view_count": null,
            "_view_module": "@jupyter-widgets/controls",
            "_view_module_version": "1.5.0",
            "_view_name": "HTMLView",
            "description": "",
            "description_tooltip": null,
            "layout": "IPY_MODEL_4630450fbac24079aa47084d5c25948e",
            "placeholder": "​",
            "style": "IPY_MODEL_e32d5f87f0f3415a9260e20e60e7c4f4",
            "value": "tokenizer_config.json: 100%"
          }
        },
        "3e313ded9056468a87abe0f3fd5db450": {
          "model_module": "@jupyter-widgets/controls",
          "model_name": "FloatProgressModel",
          "model_module_version": "1.5.0",
          "state": {
            "_dom_classes": [],
            "_model_module": "@jupyter-widgets/controls",
            "_model_module_version": "1.5.0",
            "_model_name": "FloatProgressModel",
            "_view_count": null,
            "_view_module": "@jupyter-widgets/controls",
            "_view_module_version": "1.5.0",
            "_view_name": "ProgressView",
            "bar_style": "success",
            "description": "",
            "description_tooltip": null,
            "layout": "IPY_MODEL_4428c74c9e074bdc98fae0aecaea3f07",
            "max": 25,
            "min": 0,
            "orientation": "horizontal",
            "style": "IPY_MODEL_9bbf2b78dc604ec092ffe4ce5b8d493f",
            "value": 25
          }
        },
        "f9df3009ab9044a191efe4a1860b59c3": {
          "model_module": "@jupyter-widgets/controls",
          "model_name": "HTMLModel",
          "model_module_version": "1.5.0",
          "state": {
            "_dom_classes": [],
            "_model_module": "@jupyter-widgets/controls",
            "_model_module_version": "1.5.0",
            "_model_name": "HTMLModel",
            "_view_count": null,
            "_view_module": "@jupyter-widgets/controls",
            "_view_module_version": "1.5.0",
            "_view_name": "HTMLView",
            "description": "",
            "description_tooltip": null,
            "layout": "IPY_MODEL_dbbb432266ec404ba08045c6cd97a45a",
            "placeholder": "​",
            "style": "IPY_MODEL_2f6591ea849d493fb43b005de42f60cd",
            "value": " 25.0/25.0 [00:00&lt;00:00, 2.27kB/s]"
          }
        },
        "51841e3621fb40408fbb97da46c352fc": {
          "model_module": "@jupyter-widgets/base",
          "model_name": "LayoutModel",
          "model_module_version": "1.2.0",
          "state": {
            "_model_module": "@jupyter-widgets/base",
            "_model_module_version": "1.2.0",
            "_model_name": "LayoutModel",
            "_view_count": null,
            "_view_module": "@jupyter-widgets/base",
            "_view_module_version": "1.2.0",
            "_view_name": "LayoutView",
            "align_content": null,
            "align_items": null,
            "align_self": null,
            "border": null,
            "bottom": null,
            "display": null,
            "flex": null,
            "flex_flow": null,
            "grid_area": null,
            "grid_auto_columns": null,
            "grid_auto_flow": null,
            "grid_auto_rows": null,
            "grid_column": null,
            "grid_gap": null,
            "grid_row": null,
            "grid_template_areas": null,
            "grid_template_columns": null,
            "grid_template_rows": null,
            "height": null,
            "justify_content": null,
            "justify_items": null,
            "left": null,
            "margin": null,
            "max_height": null,
            "max_width": null,
            "min_height": null,
            "min_width": null,
            "object_fit": null,
            "object_position": null,
            "order": null,
            "overflow": null,
            "overflow_x": null,
            "overflow_y": null,
            "padding": null,
            "right": null,
            "top": null,
            "visibility": null,
            "width": null
          }
        },
        "4630450fbac24079aa47084d5c25948e": {
          "model_module": "@jupyter-widgets/base",
          "model_name": "LayoutModel",
          "model_module_version": "1.2.0",
          "state": {
            "_model_module": "@jupyter-widgets/base",
            "_model_module_version": "1.2.0",
            "_model_name": "LayoutModel",
            "_view_count": null,
            "_view_module": "@jupyter-widgets/base",
            "_view_module_version": "1.2.0",
            "_view_name": "LayoutView",
            "align_content": null,
            "align_items": null,
            "align_self": null,
            "border": null,
            "bottom": null,
            "display": null,
            "flex": null,
            "flex_flow": null,
            "grid_area": null,
            "grid_auto_columns": null,
            "grid_auto_flow": null,
            "grid_auto_rows": null,
            "grid_column": null,
            "grid_gap": null,
            "grid_row": null,
            "grid_template_areas": null,
            "grid_template_columns": null,
            "grid_template_rows": null,
            "height": null,
            "justify_content": null,
            "justify_items": null,
            "left": null,
            "margin": null,
            "max_height": null,
            "max_width": null,
            "min_height": null,
            "min_width": null,
            "object_fit": null,
            "object_position": null,
            "order": null,
            "overflow": null,
            "overflow_x": null,
            "overflow_y": null,
            "padding": null,
            "right": null,
            "top": null,
            "visibility": null,
            "width": null
          }
        },
        "e32d5f87f0f3415a9260e20e60e7c4f4": {
          "model_module": "@jupyter-widgets/controls",
          "model_name": "DescriptionStyleModel",
          "model_module_version": "1.5.0",
          "state": {
            "_model_module": "@jupyter-widgets/controls",
            "_model_module_version": "1.5.0",
            "_model_name": "DescriptionStyleModel",
            "_view_count": null,
            "_view_module": "@jupyter-widgets/base",
            "_view_module_version": "1.2.0",
            "_view_name": "StyleView",
            "description_width": ""
          }
        },
        "4428c74c9e074bdc98fae0aecaea3f07": {
          "model_module": "@jupyter-widgets/base",
          "model_name": "LayoutModel",
          "model_module_version": "1.2.0",
          "state": {
            "_model_module": "@jupyter-widgets/base",
            "_model_module_version": "1.2.0",
            "_model_name": "LayoutModel",
            "_view_count": null,
            "_view_module": "@jupyter-widgets/base",
            "_view_module_version": "1.2.0",
            "_view_name": "LayoutView",
            "align_content": null,
            "align_items": null,
            "align_self": null,
            "border": null,
            "bottom": null,
            "display": null,
            "flex": null,
            "flex_flow": null,
            "grid_area": null,
            "grid_auto_columns": null,
            "grid_auto_flow": null,
            "grid_auto_rows": null,
            "grid_column": null,
            "grid_gap": null,
            "grid_row": null,
            "grid_template_areas": null,
            "grid_template_columns": null,
            "grid_template_rows": null,
            "height": null,
            "justify_content": null,
            "justify_items": null,
            "left": null,
            "margin": null,
            "max_height": null,
            "max_width": null,
            "min_height": null,
            "min_width": null,
            "object_fit": null,
            "object_position": null,
            "order": null,
            "overflow": null,
            "overflow_x": null,
            "overflow_y": null,
            "padding": null,
            "right": null,
            "top": null,
            "visibility": null,
            "width": null
          }
        },
        "9bbf2b78dc604ec092ffe4ce5b8d493f": {
          "model_module": "@jupyter-widgets/controls",
          "model_name": "ProgressStyleModel",
          "model_module_version": "1.5.0",
          "state": {
            "_model_module": "@jupyter-widgets/controls",
            "_model_module_version": "1.5.0",
            "_model_name": "ProgressStyleModel",
            "_view_count": null,
            "_view_module": "@jupyter-widgets/base",
            "_view_module_version": "1.2.0",
            "_view_name": "StyleView",
            "bar_color": null,
            "description_width": ""
          }
        },
        "dbbb432266ec404ba08045c6cd97a45a": {
          "model_module": "@jupyter-widgets/base",
          "model_name": "LayoutModel",
          "model_module_version": "1.2.0",
          "state": {
            "_model_module": "@jupyter-widgets/base",
            "_model_module_version": "1.2.0",
            "_model_name": "LayoutModel",
            "_view_count": null,
            "_view_module": "@jupyter-widgets/base",
            "_view_module_version": "1.2.0",
            "_view_name": "LayoutView",
            "align_content": null,
            "align_items": null,
            "align_self": null,
            "border": null,
            "bottom": null,
            "display": null,
            "flex": null,
            "flex_flow": null,
            "grid_area": null,
            "grid_auto_columns": null,
            "grid_auto_flow": null,
            "grid_auto_rows": null,
            "grid_column": null,
            "grid_gap": null,
            "grid_row": null,
            "grid_template_areas": null,
            "grid_template_columns": null,
            "grid_template_rows": null,
            "height": null,
            "justify_content": null,
            "justify_items": null,
            "left": null,
            "margin": null,
            "max_height": null,
            "max_width": null,
            "min_height": null,
            "min_width": null,
            "object_fit": null,
            "object_position": null,
            "order": null,
            "overflow": null,
            "overflow_x": null,
            "overflow_y": null,
            "padding": null,
            "right": null,
            "top": null,
            "visibility": null,
            "width": null
          }
        },
        "2f6591ea849d493fb43b005de42f60cd": {
          "model_module": "@jupyter-widgets/controls",
          "model_name": "DescriptionStyleModel",
          "model_module_version": "1.5.0",
          "state": {
            "_model_module": "@jupyter-widgets/controls",
            "_model_module_version": "1.5.0",
            "_model_name": "DescriptionStyleModel",
            "_view_count": null,
            "_view_module": "@jupyter-widgets/base",
            "_view_module_version": "1.2.0",
            "_view_name": "StyleView",
            "description_width": ""
          }
        },
        "b1364957ef804cfaa84473534296fa66": {
          "model_module": "@jupyter-widgets/controls",
          "model_name": "HBoxModel",
          "model_module_version": "1.5.0",
          "state": {
            "_dom_classes": [],
            "_model_module": "@jupyter-widgets/controls",
            "_model_module_version": "1.5.0",
            "_model_name": "HBoxModel",
            "_view_count": null,
            "_view_module": "@jupyter-widgets/controls",
            "_view_module_version": "1.5.0",
            "_view_name": "HBoxView",
            "box_style": "",
            "children": [
              "IPY_MODEL_f9e24b53eb714c8fb8404367fd575695",
              "IPY_MODEL_ae208df13d044f84b67d7b52624aced0",
              "IPY_MODEL_1d4395a6bb344376bb56d7f1a1209fcb"
            ],
            "layout": "IPY_MODEL_1fe16a11206f4587b91ed9f221fa8a2e"
          }
        },
        "f9e24b53eb714c8fb8404367fd575695": {
          "model_module": "@jupyter-widgets/controls",
          "model_name": "HTMLModel",
          "model_module_version": "1.5.0",
          "state": {
            "_dom_classes": [],
            "_model_module": "@jupyter-widgets/controls",
            "_model_module_version": "1.5.0",
            "_model_name": "HTMLModel",
            "_view_count": null,
            "_view_module": "@jupyter-widgets/controls",
            "_view_module_version": "1.5.0",
            "_view_name": "HTMLView",
            "description": "",
            "description_tooltip": null,
            "layout": "IPY_MODEL_7e82e8df4e2a430e891c79cfbfd018c2",
            "placeholder": "​",
            "style": "IPY_MODEL_ef3c8bfeed89458e8441dd640b6d7516",
            "value": "vocab.json: 100%"
          }
        },
        "ae208df13d044f84b67d7b52624aced0": {
          "model_module": "@jupyter-widgets/controls",
          "model_name": "FloatProgressModel",
          "model_module_version": "1.5.0",
          "state": {
            "_dom_classes": [],
            "_model_module": "@jupyter-widgets/controls",
            "_model_module_version": "1.5.0",
            "_model_name": "FloatProgressModel",
            "_view_count": null,
            "_view_module": "@jupyter-widgets/controls",
            "_view_module_version": "1.5.0",
            "_view_name": "ProgressView",
            "bar_style": "success",
            "description": "",
            "description_tooltip": null,
            "layout": "IPY_MODEL_0e8b1a2463164c9e9746770b50485ca1",
            "max": 898823,
            "min": 0,
            "orientation": "horizontal",
            "style": "IPY_MODEL_93eea7c20cde4285bc9a08f4452fd500",
            "value": 898823
          }
        },
        "1d4395a6bb344376bb56d7f1a1209fcb": {
          "model_module": "@jupyter-widgets/controls",
          "model_name": "HTMLModel",
          "model_module_version": "1.5.0",
          "state": {
            "_dom_classes": [],
            "_model_module": "@jupyter-widgets/controls",
            "_model_module_version": "1.5.0",
            "_model_name": "HTMLModel",
            "_view_count": null,
            "_view_module": "@jupyter-widgets/controls",
            "_view_module_version": "1.5.0",
            "_view_name": "HTMLView",
            "description": "",
            "description_tooltip": null,
            "layout": "IPY_MODEL_62bc9f324feb49a6ae9c2602dbabc116",
            "placeholder": "​",
            "style": "IPY_MODEL_7ef04faa7ed14e0c89cbecec2899b3ac",
            "value": " 899k/899k [00:00&lt;00:00, 3.87MB/s]"
          }
        },
        "1fe16a11206f4587b91ed9f221fa8a2e": {
          "model_module": "@jupyter-widgets/base",
          "model_name": "LayoutModel",
          "model_module_version": "1.2.0",
          "state": {
            "_model_module": "@jupyter-widgets/base",
            "_model_module_version": "1.2.0",
            "_model_name": "LayoutModel",
            "_view_count": null,
            "_view_module": "@jupyter-widgets/base",
            "_view_module_version": "1.2.0",
            "_view_name": "LayoutView",
            "align_content": null,
            "align_items": null,
            "align_self": null,
            "border": null,
            "bottom": null,
            "display": null,
            "flex": null,
            "flex_flow": null,
            "grid_area": null,
            "grid_auto_columns": null,
            "grid_auto_flow": null,
            "grid_auto_rows": null,
            "grid_column": null,
            "grid_gap": null,
            "grid_row": null,
            "grid_template_areas": null,
            "grid_template_columns": null,
            "grid_template_rows": null,
            "height": null,
            "justify_content": null,
            "justify_items": null,
            "left": null,
            "margin": null,
            "max_height": null,
            "max_width": null,
            "min_height": null,
            "min_width": null,
            "object_fit": null,
            "object_position": null,
            "order": null,
            "overflow": null,
            "overflow_x": null,
            "overflow_y": null,
            "padding": null,
            "right": null,
            "top": null,
            "visibility": null,
            "width": null
          }
        },
        "7e82e8df4e2a430e891c79cfbfd018c2": {
          "model_module": "@jupyter-widgets/base",
          "model_name": "LayoutModel",
          "model_module_version": "1.2.0",
          "state": {
            "_model_module": "@jupyter-widgets/base",
            "_model_module_version": "1.2.0",
            "_model_name": "LayoutModel",
            "_view_count": null,
            "_view_module": "@jupyter-widgets/base",
            "_view_module_version": "1.2.0",
            "_view_name": "LayoutView",
            "align_content": null,
            "align_items": null,
            "align_self": null,
            "border": null,
            "bottom": null,
            "display": null,
            "flex": null,
            "flex_flow": null,
            "grid_area": null,
            "grid_auto_columns": null,
            "grid_auto_flow": null,
            "grid_auto_rows": null,
            "grid_column": null,
            "grid_gap": null,
            "grid_row": null,
            "grid_template_areas": null,
            "grid_template_columns": null,
            "grid_template_rows": null,
            "height": null,
            "justify_content": null,
            "justify_items": null,
            "left": null,
            "margin": null,
            "max_height": null,
            "max_width": null,
            "min_height": null,
            "min_width": null,
            "object_fit": null,
            "object_position": null,
            "order": null,
            "overflow": null,
            "overflow_x": null,
            "overflow_y": null,
            "padding": null,
            "right": null,
            "top": null,
            "visibility": null,
            "width": null
          }
        },
        "ef3c8bfeed89458e8441dd640b6d7516": {
          "model_module": "@jupyter-widgets/controls",
          "model_name": "DescriptionStyleModel",
          "model_module_version": "1.5.0",
          "state": {
            "_model_module": "@jupyter-widgets/controls",
            "_model_module_version": "1.5.0",
            "_model_name": "DescriptionStyleModel",
            "_view_count": null,
            "_view_module": "@jupyter-widgets/base",
            "_view_module_version": "1.2.0",
            "_view_name": "StyleView",
            "description_width": ""
          }
        },
        "0e8b1a2463164c9e9746770b50485ca1": {
          "model_module": "@jupyter-widgets/base",
          "model_name": "LayoutModel",
          "model_module_version": "1.2.0",
          "state": {
            "_model_module": "@jupyter-widgets/base",
            "_model_module_version": "1.2.0",
            "_model_name": "LayoutModel",
            "_view_count": null,
            "_view_module": "@jupyter-widgets/base",
            "_view_module_version": "1.2.0",
            "_view_name": "LayoutView",
            "align_content": null,
            "align_items": null,
            "align_self": null,
            "border": null,
            "bottom": null,
            "display": null,
            "flex": null,
            "flex_flow": null,
            "grid_area": null,
            "grid_auto_columns": null,
            "grid_auto_flow": null,
            "grid_auto_rows": null,
            "grid_column": null,
            "grid_gap": null,
            "grid_row": null,
            "grid_template_areas": null,
            "grid_template_columns": null,
            "grid_template_rows": null,
            "height": null,
            "justify_content": null,
            "justify_items": null,
            "left": null,
            "margin": null,
            "max_height": null,
            "max_width": null,
            "min_height": null,
            "min_width": null,
            "object_fit": null,
            "object_position": null,
            "order": null,
            "overflow": null,
            "overflow_x": null,
            "overflow_y": null,
            "padding": null,
            "right": null,
            "top": null,
            "visibility": null,
            "width": null
          }
        },
        "93eea7c20cde4285bc9a08f4452fd500": {
          "model_module": "@jupyter-widgets/controls",
          "model_name": "ProgressStyleModel",
          "model_module_version": "1.5.0",
          "state": {
            "_model_module": "@jupyter-widgets/controls",
            "_model_module_version": "1.5.0",
            "_model_name": "ProgressStyleModel",
            "_view_count": null,
            "_view_module": "@jupyter-widgets/base",
            "_view_module_version": "1.2.0",
            "_view_name": "StyleView",
            "bar_color": null,
            "description_width": ""
          }
        },
        "62bc9f324feb49a6ae9c2602dbabc116": {
          "model_module": "@jupyter-widgets/base",
          "model_name": "LayoutModel",
          "model_module_version": "1.2.0",
          "state": {
            "_model_module": "@jupyter-widgets/base",
            "_model_module_version": "1.2.0",
            "_model_name": "LayoutModel",
            "_view_count": null,
            "_view_module": "@jupyter-widgets/base",
            "_view_module_version": "1.2.0",
            "_view_name": "LayoutView",
            "align_content": null,
            "align_items": null,
            "align_self": null,
            "border": null,
            "bottom": null,
            "display": null,
            "flex": null,
            "flex_flow": null,
            "grid_area": null,
            "grid_auto_columns": null,
            "grid_auto_flow": null,
            "grid_auto_rows": null,
            "grid_column": null,
            "grid_gap": null,
            "grid_row": null,
            "grid_template_areas": null,
            "grid_template_columns": null,
            "grid_template_rows": null,
            "height": null,
            "justify_content": null,
            "justify_items": null,
            "left": null,
            "margin": null,
            "max_height": null,
            "max_width": null,
            "min_height": null,
            "min_width": null,
            "object_fit": null,
            "object_position": null,
            "order": null,
            "overflow": null,
            "overflow_x": null,
            "overflow_y": null,
            "padding": null,
            "right": null,
            "top": null,
            "visibility": null,
            "width": null
          }
        },
        "7ef04faa7ed14e0c89cbecec2899b3ac": {
          "model_module": "@jupyter-widgets/controls",
          "model_name": "DescriptionStyleModel",
          "model_module_version": "1.5.0",
          "state": {
            "_model_module": "@jupyter-widgets/controls",
            "_model_module_version": "1.5.0",
            "_model_name": "DescriptionStyleModel",
            "_view_count": null,
            "_view_module": "@jupyter-widgets/base",
            "_view_module_version": "1.2.0",
            "_view_name": "StyleView",
            "description_width": ""
          }
        },
        "55fd9dd49f9f40cc8a818c1e72837aaf": {
          "model_module": "@jupyter-widgets/controls",
          "model_name": "HBoxModel",
          "model_module_version": "1.5.0",
          "state": {
            "_dom_classes": [],
            "_model_module": "@jupyter-widgets/controls",
            "_model_module_version": "1.5.0",
            "_model_name": "HBoxModel",
            "_view_count": null,
            "_view_module": "@jupyter-widgets/controls",
            "_view_module_version": "1.5.0",
            "_view_name": "HBoxView",
            "box_style": "",
            "children": [
              "IPY_MODEL_e530b2b9a1714e76b907bbab3e079ba0",
              "IPY_MODEL_a387a11f0e7c418587afae6294b26d9d",
              "IPY_MODEL_d55a0b4271ad42eaa75cf58e7fe7385c"
            ],
            "layout": "IPY_MODEL_30bd30fa3e0045639dbd1facce20cab0"
          }
        },
        "e530b2b9a1714e76b907bbab3e079ba0": {
          "model_module": "@jupyter-widgets/controls",
          "model_name": "HTMLModel",
          "model_module_version": "1.5.0",
          "state": {
            "_dom_classes": [],
            "_model_module": "@jupyter-widgets/controls",
            "_model_module_version": "1.5.0",
            "_model_name": "HTMLModel",
            "_view_count": null,
            "_view_module": "@jupyter-widgets/controls",
            "_view_module_version": "1.5.0",
            "_view_name": "HTMLView",
            "description": "",
            "description_tooltip": null,
            "layout": "IPY_MODEL_ed85cf1905c249c084f34cbd3f0a648a",
            "placeholder": "​",
            "style": "IPY_MODEL_a2a1e19118b94ee0adc7e9a91fd4df7d",
            "value": "merges.txt: 100%"
          }
        },
        "a387a11f0e7c418587afae6294b26d9d": {
          "model_module": "@jupyter-widgets/controls",
          "model_name": "FloatProgressModel",
          "model_module_version": "1.5.0",
          "state": {
            "_dom_classes": [],
            "_model_module": "@jupyter-widgets/controls",
            "_model_module_version": "1.5.0",
            "_model_name": "FloatProgressModel",
            "_view_count": null,
            "_view_module": "@jupyter-widgets/controls",
            "_view_module_version": "1.5.0",
            "_view_name": "ProgressView",
            "bar_style": "success",
            "description": "",
            "description_tooltip": null,
            "layout": "IPY_MODEL_87461550baae4ad197966ca95e7b08b4",
            "max": 456318,
            "min": 0,
            "orientation": "horizontal",
            "style": "IPY_MODEL_1610da0e7b6c40c8a14a20e962cf5000",
            "value": 456318
          }
        },
        "d55a0b4271ad42eaa75cf58e7fe7385c": {
          "model_module": "@jupyter-widgets/controls",
          "model_name": "HTMLModel",
          "model_module_version": "1.5.0",
          "state": {
            "_dom_classes": [],
            "_model_module": "@jupyter-widgets/controls",
            "_model_module_version": "1.5.0",
            "_model_name": "HTMLModel",
            "_view_count": null,
            "_view_module": "@jupyter-widgets/controls",
            "_view_module_version": "1.5.0",
            "_view_name": "HTMLView",
            "description": "",
            "description_tooltip": null,
            "layout": "IPY_MODEL_88c92c4421114ef7a970682db593a3b0",
            "placeholder": "​",
            "style": "IPY_MODEL_7081154feae246129366104cde83e794",
            "value": " 456k/456k [00:00&lt;00:00, 2.10MB/s]"
          }
        },
        "30bd30fa3e0045639dbd1facce20cab0": {
          "model_module": "@jupyter-widgets/base",
          "model_name": "LayoutModel",
          "model_module_version": "1.2.0",
          "state": {
            "_model_module": "@jupyter-widgets/base",
            "_model_module_version": "1.2.0",
            "_model_name": "LayoutModel",
            "_view_count": null,
            "_view_module": "@jupyter-widgets/base",
            "_view_module_version": "1.2.0",
            "_view_name": "LayoutView",
            "align_content": null,
            "align_items": null,
            "align_self": null,
            "border": null,
            "bottom": null,
            "display": null,
            "flex": null,
            "flex_flow": null,
            "grid_area": null,
            "grid_auto_columns": null,
            "grid_auto_flow": null,
            "grid_auto_rows": null,
            "grid_column": null,
            "grid_gap": null,
            "grid_row": null,
            "grid_template_areas": null,
            "grid_template_columns": null,
            "grid_template_rows": null,
            "height": null,
            "justify_content": null,
            "justify_items": null,
            "left": null,
            "margin": null,
            "max_height": null,
            "max_width": null,
            "min_height": null,
            "min_width": null,
            "object_fit": null,
            "object_position": null,
            "order": null,
            "overflow": null,
            "overflow_x": null,
            "overflow_y": null,
            "padding": null,
            "right": null,
            "top": null,
            "visibility": null,
            "width": null
          }
        },
        "ed85cf1905c249c084f34cbd3f0a648a": {
          "model_module": "@jupyter-widgets/base",
          "model_name": "LayoutModel",
          "model_module_version": "1.2.0",
          "state": {
            "_model_module": "@jupyter-widgets/base",
            "_model_module_version": "1.2.0",
            "_model_name": "LayoutModel",
            "_view_count": null,
            "_view_module": "@jupyter-widgets/base",
            "_view_module_version": "1.2.0",
            "_view_name": "LayoutView",
            "align_content": null,
            "align_items": null,
            "align_self": null,
            "border": null,
            "bottom": null,
            "display": null,
            "flex": null,
            "flex_flow": null,
            "grid_area": null,
            "grid_auto_columns": null,
            "grid_auto_flow": null,
            "grid_auto_rows": null,
            "grid_column": null,
            "grid_gap": null,
            "grid_row": null,
            "grid_template_areas": null,
            "grid_template_columns": null,
            "grid_template_rows": null,
            "height": null,
            "justify_content": null,
            "justify_items": null,
            "left": null,
            "margin": null,
            "max_height": null,
            "max_width": null,
            "min_height": null,
            "min_width": null,
            "object_fit": null,
            "object_position": null,
            "order": null,
            "overflow": null,
            "overflow_x": null,
            "overflow_y": null,
            "padding": null,
            "right": null,
            "top": null,
            "visibility": null,
            "width": null
          }
        },
        "a2a1e19118b94ee0adc7e9a91fd4df7d": {
          "model_module": "@jupyter-widgets/controls",
          "model_name": "DescriptionStyleModel",
          "model_module_version": "1.5.0",
          "state": {
            "_model_module": "@jupyter-widgets/controls",
            "_model_module_version": "1.5.0",
            "_model_name": "DescriptionStyleModel",
            "_view_count": null,
            "_view_module": "@jupyter-widgets/base",
            "_view_module_version": "1.2.0",
            "_view_name": "StyleView",
            "description_width": ""
          }
        },
        "87461550baae4ad197966ca95e7b08b4": {
          "model_module": "@jupyter-widgets/base",
          "model_name": "LayoutModel",
          "model_module_version": "1.2.0",
          "state": {
            "_model_module": "@jupyter-widgets/base",
            "_model_module_version": "1.2.0",
            "_model_name": "LayoutModel",
            "_view_count": null,
            "_view_module": "@jupyter-widgets/base",
            "_view_module_version": "1.2.0",
            "_view_name": "LayoutView",
            "align_content": null,
            "align_items": null,
            "align_self": null,
            "border": null,
            "bottom": null,
            "display": null,
            "flex": null,
            "flex_flow": null,
            "grid_area": null,
            "grid_auto_columns": null,
            "grid_auto_flow": null,
            "grid_auto_rows": null,
            "grid_column": null,
            "grid_gap": null,
            "grid_row": null,
            "grid_template_areas": null,
            "grid_template_columns": null,
            "grid_template_rows": null,
            "height": null,
            "justify_content": null,
            "justify_items": null,
            "left": null,
            "margin": null,
            "max_height": null,
            "max_width": null,
            "min_height": null,
            "min_width": null,
            "object_fit": null,
            "object_position": null,
            "order": null,
            "overflow": null,
            "overflow_x": null,
            "overflow_y": null,
            "padding": null,
            "right": null,
            "top": null,
            "visibility": null,
            "width": null
          }
        },
        "1610da0e7b6c40c8a14a20e962cf5000": {
          "model_module": "@jupyter-widgets/controls",
          "model_name": "ProgressStyleModel",
          "model_module_version": "1.5.0",
          "state": {
            "_model_module": "@jupyter-widgets/controls",
            "_model_module_version": "1.5.0",
            "_model_name": "ProgressStyleModel",
            "_view_count": null,
            "_view_module": "@jupyter-widgets/base",
            "_view_module_version": "1.2.0",
            "_view_name": "StyleView",
            "bar_color": null,
            "description_width": ""
          }
        },
        "88c92c4421114ef7a970682db593a3b0": {
          "model_module": "@jupyter-widgets/base",
          "model_name": "LayoutModel",
          "model_module_version": "1.2.0",
          "state": {
            "_model_module": "@jupyter-widgets/base",
            "_model_module_version": "1.2.0",
            "_model_name": "LayoutModel",
            "_view_count": null,
            "_view_module": "@jupyter-widgets/base",
            "_view_module_version": "1.2.0",
            "_view_name": "LayoutView",
            "align_content": null,
            "align_items": null,
            "align_self": null,
            "border": null,
            "bottom": null,
            "display": null,
            "flex": null,
            "flex_flow": null,
            "grid_area": null,
            "grid_auto_columns": null,
            "grid_auto_flow": null,
            "grid_auto_rows": null,
            "grid_column": null,
            "grid_gap": null,
            "grid_row": null,
            "grid_template_areas": null,
            "grid_template_columns": null,
            "grid_template_rows": null,
            "height": null,
            "justify_content": null,
            "justify_items": null,
            "left": null,
            "margin": null,
            "max_height": null,
            "max_width": null,
            "min_height": null,
            "min_width": null,
            "object_fit": null,
            "object_position": null,
            "order": null,
            "overflow": null,
            "overflow_x": null,
            "overflow_y": null,
            "padding": null,
            "right": null,
            "top": null,
            "visibility": null,
            "width": null
          }
        },
        "7081154feae246129366104cde83e794": {
          "model_module": "@jupyter-widgets/controls",
          "model_name": "DescriptionStyleModel",
          "model_module_version": "1.5.0",
          "state": {
            "_model_module": "@jupyter-widgets/controls",
            "_model_module_version": "1.5.0",
            "_model_name": "DescriptionStyleModel",
            "_view_count": null,
            "_view_module": "@jupyter-widgets/base",
            "_view_module_version": "1.2.0",
            "_view_name": "StyleView",
            "description_width": ""
          }
        },
        "3fad42f3691b4ddabfded1fa78b9ae51": {
          "model_module": "@jupyter-widgets/controls",
          "model_name": "HBoxModel",
          "model_module_version": "1.5.0",
          "state": {
            "_dom_classes": [],
            "_model_module": "@jupyter-widgets/controls",
            "_model_module_version": "1.5.0",
            "_model_name": "HBoxModel",
            "_view_count": null,
            "_view_module": "@jupyter-widgets/controls",
            "_view_module_version": "1.5.0",
            "_view_name": "HBoxView",
            "box_style": "",
            "children": [
              "IPY_MODEL_dc2d6c809da54317a0eec3d767e90c52",
              "IPY_MODEL_886679ddc3124d30bf4c095c526a7173",
              "IPY_MODEL_4c832d82d88c4d67b105fc02ce0d465e"
            ],
            "layout": "IPY_MODEL_e1031e99cf574c9dbd02f57acf621bbe"
          }
        },
        "dc2d6c809da54317a0eec3d767e90c52": {
          "model_module": "@jupyter-widgets/controls",
          "model_name": "HTMLModel",
          "model_module_version": "1.5.0",
          "state": {
            "_dom_classes": [],
            "_model_module": "@jupyter-widgets/controls",
            "_model_module_version": "1.5.0",
            "_model_name": "HTMLModel",
            "_view_count": null,
            "_view_module": "@jupyter-widgets/controls",
            "_view_module_version": "1.5.0",
            "_view_name": "HTMLView",
            "description": "",
            "description_tooltip": null,
            "layout": "IPY_MODEL_a4b8d865488841f6b1379c46c7b1c4e6",
            "placeholder": "​",
            "style": "IPY_MODEL_40dee6f98e35448497d5c72b56acbbde",
            "value": "tokenizer.json: 100%"
          }
        },
        "886679ddc3124d30bf4c095c526a7173": {
          "model_module": "@jupyter-widgets/controls",
          "model_name": "FloatProgressModel",
          "model_module_version": "1.5.0",
          "state": {
            "_dom_classes": [],
            "_model_module": "@jupyter-widgets/controls",
            "_model_module_version": "1.5.0",
            "_model_name": "FloatProgressModel",
            "_view_count": null,
            "_view_module": "@jupyter-widgets/controls",
            "_view_module_version": "1.5.0",
            "_view_name": "ProgressView",
            "bar_style": "success",
            "description": "",
            "description_tooltip": null,
            "layout": "IPY_MODEL_52bd66daa8674af886c3ed965fa98457",
            "max": 1355863,
            "min": 0,
            "orientation": "horizontal",
            "style": "IPY_MODEL_4564a1e55c0d4e40affd6bc0185ffd34",
            "value": 1355863
          }
        },
        "4c832d82d88c4d67b105fc02ce0d465e": {
          "model_module": "@jupyter-widgets/controls",
          "model_name": "HTMLModel",
          "model_module_version": "1.5.0",
          "state": {
            "_dom_classes": [],
            "_model_module": "@jupyter-widgets/controls",
            "_model_module_version": "1.5.0",
            "_model_name": "HTMLModel",
            "_view_count": null,
            "_view_module": "@jupyter-widgets/controls",
            "_view_module_version": "1.5.0",
            "_view_name": "HTMLView",
            "description": "",
            "description_tooltip": null,
            "layout": "IPY_MODEL_b807577b4b37467a9f084f0f42cf92f7",
            "placeholder": "​",
            "style": "IPY_MODEL_fb228e1beaeb4618900d5defa46d893f",
            "value": " 1.36M/1.36M [00:00&lt;00:00, 6.36MB/s]"
          }
        },
        "e1031e99cf574c9dbd02f57acf621bbe": {
          "model_module": "@jupyter-widgets/base",
          "model_name": "LayoutModel",
          "model_module_version": "1.2.0",
          "state": {
            "_model_module": "@jupyter-widgets/base",
            "_model_module_version": "1.2.0",
            "_model_name": "LayoutModel",
            "_view_count": null,
            "_view_module": "@jupyter-widgets/base",
            "_view_module_version": "1.2.0",
            "_view_name": "LayoutView",
            "align_content": null,
            "align_items": null,
            "align_self": null,
            "border": null,
            "bottom": null,
            "display": null,
            "flex": null,
            "flex_flow": null,
            "grid_area": null,
            "grid_auto_columns": null,
            "grid_auto_flow": null,
            "grid_auto_rows": null,
            "grid_column": null,
            "grid_gap": null,
            "grid_row": null,
            "grid_template_areas": null,
            "grid_template_columns": null,
            "grid_template_rows": null,
            "height": null,
            "justify_content": null,
            "justify_items": null,
            "left": null,
            "margin": null,
            "max_height": null,
            "max_width": null,
            "min_height": null,
            "min_width": null,
            "object_fit": null,
            "object_position": null,
            "order": null,
            "overflow": null,
            "overflow_x": null,
            "overflow_y": null,
            "padding": null,
            "right": null,
            "top": null,
            "visibility": null,
            "width": null
          }
        },
        "a4b8d865488841f6b1379c46c7b1c4e6": {
          "model_module": "@jupyter-widgets/base",
          "model_name": "LayoutModel",
          "model_module_version": "1.2.0",
          "state": {
            "_model_module": "@jupyter-widgets/base",
            "_model_module_version": "1.2.0",
            "_model_name": "LayoutModel",
            "_view_count": null,
            "_view_module": "@jupyter-widgets/base",
            "_view_module_version": "1.2.0",
            "_view_name": "LayoutView",
            "align_content": null,
            "align_items": null,
            "align_self": null,
            "border": null,
            "bottom": null,
            "display": null,
            "flex": null,
            "flex_flow": null,
            "grid_area": null,
            "grid_auto_columns": null,
            "grid_auto_flow": null,
            "grid_auto_rows": null,
            "grid_column": null,
            "grid_gap": null,
            "grid_row": null,
            "grid_template_areas": null,
            "grid_template_columns": null,
            "grid_template_rows": null,
            "height": null,
            "justify_content": null,
            "justify_items": null,
            "left": null,
            "margin": null,
            "max_height": null,
            "max_width": null,
            "min_height": null,
            "min_width": null,
            "object_fit": null,
            "object_position": null,
            "order": null,
            "overflow": null,
            "overflow_x": null,
            "overflow_y": null,
            "padding": null,
            "right": null,
            "top": null,
            "visibility": null,
            "width": null
          }
        },
        "40dee6f98e35448497d5c72b56acbbde": {
          "model_module": "@jupyter-widgets/controls",
          "model_name": "DescriptionStyleModel",
          "model_module_version": "1.5.0",
          "state": {
            "_model_module": "@jupyter-widgets/controls",
            "_model_module_version": "1.5.0",
            "_model_name": "DescriptionStyleModel",
            "_view_count": null,
            "_view_module": "@jupyter-widgets/base",
            "_view_module_version": "1.2.0",
            "_view_name": "StyleView",
            "description_width": ""
          }
        },
        "52bd66daa8674af886c3ed965fa98457": {
          "model_module": "@jupyter-widgets/base",
          "model_name": "LayoutModel",
          "model_module_version": "1.2.0",
          "state": {
            "_model_module": "@jupyter-widgets/base",
            "_model_module_version": "1.2.0",
            "_model_name": "LayoutModel",
            "_view_count": null,
            "_view_module": "@jupyter-widgets/base",
            "_view_module_version": "1.2.0",
            "_view_name": "LayoutView",
            "align_content": null,
            "align_items": null,
            "align_self": null,
            "border": null,
            "bottom": null,
            "display": null,
            "flex": null,
            "flex_flow": null,
            "grid_area": null,
            "grid_auto_columns": null,
            "grid_auto_flow": null,
            "grid_auto_rows": null,
            "grid_column": null,
            "grid_gap": null,
            "grid_row": null,
            "grid_template_areas": null,
            "grid_template_columns": null,
            "grid_template_rows": null,
            "height": null,
            "justify_content": null,
            "justify_items": null,
            "left": null,
            "margin": null,
            "max_height": null,
            "max_width": null,
            "min_height": null,
            "min_width": null,
            "object_fit": null,
            "object_position": null,
            "order": null,
            "overflow": null,
            "overflow_x": null,
            "overflow_y": null,
            "padding": null,
            "right": null,
            "top": null,
            "visibility": null,
            "width": null
          }
        },
        "4564a1e55c0d4e40affd6bc0185ffd34": {
          "model_module": "@jupyter-widgets/controls",
          "model_name": "ProgressStyleModel",
          "model_module_version": "1.5.0",
          "state": {
            "_model_module": "@jupyter-widgets/controls",
            "_model_module_version": "1.5.0",
            "_model_name": "ProgressStyleModel",
            "_view_count": null,
            "_view_module": "@jupyter-widgets/base",
            "_view_module_version": "1.2.0",
            "_view_name": "StyleView",
            "bar_color": null,
            "description_width": ""
          }
        },
        "b807577b4b37467a9f084f0f42cf92f7": {
          "model_module": "@jupyter-widgets/base",
          "model_name": "LayoutModel",
          "model_module_version": "1.2.0",
          "state": {
            "_model_module": "@jupyter-widgets/base",
            "_model_module_version": "1.2.0",
            "_model_name": "LayoutModel",
            "_view_count": null,
            "_view_module": "@jupyter-widgets/base",
            "_view_module_version": "1.2.0",
            "_view_name": "LayoutView",
            "align_content": null,
            "align_items": null,
            "align_self": null,
            "border": null,
            "bottom": null,
            "display": null,
            "flex": null,
            "flex_flow": null,
            "grid_area": null,
            "grid_auto_columns": null,
            "grid_auto_flow": null,
            "grid_auto_rows": null,
            "grid_column": null,
            "grid_gap": null,
            "grid_row": null,
            "grid_template_areas": null,
            "grid_template_columns": null,
            "grid_template_rows": null,
            "height": null,
            "justify_content": null,
            "justify_items": null,
            "left": null,
            "margin": null,
            "max_height": null,
            "max_width": null,
            "min_height": null,
            "min_width": null,
            "object_fit": null,
            "object_position": null,
            "order": null,
            "overflow": null,
            "overflow_x": null,
            "overflow_y": null,
            "padding": null,
            "right": null,
            "top": null,
            "visibility": null,
            "width": null
          }
        },
        "fb228e1beaeb4618900d5defa46d893f": {
          "model_module": "@jupyter-widgets/controls",
          "model_name": "DescriptionStyleModel",
          "model_module_version": "1.5.0",
          "state": {
            "_model_module": "@jupyter-widgets/controls",
            "_model_module_version": "1.5.0",
            "_model_name": "DescriptionStyleModel",
            "_view_count": null,
            "_view_module": "@jupyter-widgets/base",
            "_view_module_version": "1.2.0",
            "_view_name": "StyleView",
            "description_width": ""
          }
        },
        "8ee3d26f43df48a1a0d20717944d665e": {
          "model_module": "@jupyter-widgets/controls",
          "model_name": "HBoxModel",
          "model_module_version": "1.5.0",
          "state": {
            "_dom_classes": [],
            "_model_module": "@jupyter-widgets/controls",
            "_model_module_version": "1.5.0",
            "_model_name": "HBoxModel",
            "_view_count": null,
            "_view_module": "@jupyter-widgets/controls",
            "_view_module_version": "1.5.0",
            "_view_name": "HBoxView",
            "box_style": "",
            "children": [
              "IPY_MODEL_20424096695e4a449c2e717aacdee7fa",
              "IPY_MODEL_7eecf6fb475447009b161cfd3c649795",
              "IPY_MODEL_a91844b8337546dc9ea24c1c3a0a1b06"
            ],
            "layout": "IPY_MODEL_5b91c94d8f8f40388634769d136d7152"
          }
        },
        "20424096695e4a449c2e717aacdee7fa": {
          "model_module": "@jupyter-widgets/controls",
          "model_name": "HTMLModel",
          "model_module_version": "1.5.0",
          "state": {
            "_dom_classes": [],
            "_model_module": "@jupyter-widgets/controls",
            "_model_module_version": "1.5.0",
            "_model_name": "HTMLModel",
            "_view_count": null,
            "_view_module": "@jupyter-widgets/controls",
            "_view_module_version": "1.5.0",
            "_view_name": "HTMLView",
            "description": "",
            "description_tooltip": null,
            "layout": "IPY_MODEL_d88a834be289459dabadace368c98aaf",
            "placeholder": "​",
            "style": "IPY_MODEL_04a71fdc8f68402aa9335b005c61d848",
            "value": "config.json: 100%"
          }
        },
        "7eecf6fb475447009b161cfd3c649795": {
          "model_module": "@jupyter-widgets/controls",
          "model_name": "FloatProgressModel",
          "model_module_version": "1.5.0",
          "state": {
            "_dom_classes": [],
            "_model_module": "@jupyter-widgets/controls",
            "_model_module_version": "1.5.0",
            "_model_name": "FloatProgressModel",
            "_view_count": null,
            "_view_module": "@jupyter-widgets/controls",
            "_view_module_version": "1.5.0",
            "_view_name": "ProgressView",
            "bar_style": "success",
            "description": "",
            "description_tooltip": null,
            "layout": "IPY_MODEL_4812ac81728c4c79b3cbc125a282ee37",
            "max": 481,
            "min": 0,
            "orientation": "horizontal",
            "style": "IPY_MODEL_c62fa3709efb4b5aaeb4e4538b0ff3ea",
            "value": 481
          }
        },
        "a91844b8337546dc9ea24c1c3a0a1b06": {
          "model_module": "@jupyter-widgets/controls",
          "model_name": "HTMLModel",
          "model_module_version": "1.5.0",
          "state": {
            "_dom_classes": [],
            "_model_module": "@jupyter-widgets/controls",
            "_model_module_version": "1.5.0",
            "_model_name": "HTMLModel",
            "_view_count": null,
            "_view_module": "@jupyter-widgets/controls",
            "_view_module_version": "1.5.0",
            "_view_name": "HTMLView",
            "description": "",
            "description_tooltip": null,
            "layout": "IPY_MODEL_6249128a2d944db6b4d7e93f91fe0790",
            "placeholder": "​",
            "style": "IPY_MODEL_6acf3a65bbd4454eb9ad2ea301f0ff08",
            "value": " 481/481 [00:00&lt;00:00, 44.5kB/s]"
          }
        },
        "5b91c94d8f8f40388634769d136d7152": {
          "model_module": "@jupyter-widgets/base",
          "model_name": "LayoutModel",
          "model_module_version": "1.2.0",
          "state": {
            "_model_module": "@jupyter-widgets/base",
            "_model_module_version": "1.2.0",
            "_model_name": "LayoutModel",
            "_view_count": null,
            "_view_module": "@jupyter-widgets/base",
            "_view_module_version": "1.2.0",
            "_view_name": "LayoutView",
            "align_content": null,
            "align_items": null,
            "align_self": null,
            "border": null,
            "bottom": null,
            "display": null,
            "flex": null,
            "flex_flow": null,
            "grid_area": null,
            "grid_auto_columns": null,
            "grid_auto_flow": null,
            "grid_auto_rows": null,
            "grid_column": null,
            "grid_gap": null,
            "grid_row": null,
            "grid_template_areas": null,
            "grid_template_columns": null,
            "grid_template_rows": null,
            "height": null,
            "justify_content": null,
            "justify_items": null,
            "left": null,
            "margin": null,
            "max_height": null,
            "max_width": null,
            "min_height": null,
            "min_width": null,
            "object_fit": null,
            "object_position": null,
            "order": null,
            "overflow": null,
            "overflow_x": null,
            "overflow_y": null,
            "padding": null,
            "right": null,
            "top": null,
            "visibility": null,
            "width": null
          }
        },
        "d88a834be289459dabadace368c98aaf": {
          "model_module": "@jupyter-widgets/base",
          "model_name": "LayoutModel",
          "model_module_version": "1.2.0",
          "state": {
            "_model_module": "@jupyter-widgets/base",
            "_model_module_version": "1.2.0",
            "_model_name": "LayoutModel",
            "_view_count": null,
            "_view_module": "@jupyter-widgets/base",
            "_view_module_version": "1.2.0",
            "_view_name": "LayoutView",
            "align_content": null,
            "align_items": null,
            "align_self": null,
            "border": null,
            "bottom": null,
            "display": null,
            "flex": null,
            "flex_flow": null,
            "grid_area": null,
            "grid_auto_columns": null,
            "grid_auto_flow": null,
            "grid_auto_rows": null,
            "grid_column": null,
            "grid_gap": null,
            "grid_row": null,
            "grid_template_areas": null,
            "grid_template_columns": null,
            "grid_template_rows": null,
            "height": null,
            "justify_content": null,
            "justify_items": null,
            "left": null,
            "margin": null,
            "max_height": null,
            "max_width": null,
            "min_height": null,
            "min_width": null,
            "object_fit": null,
            "object_position": null,
            "order": null,
            "overflow": null,
            "overflow_x": null,
            "overflow_y": null,
            "padding": null,
            "right": null,
            "top": null,
            "visibility": null,
            "width": null
          }
        },
        "04a71fdc8f68402aa9335b005c61d848": {
          "model_module": "@jupyter-widgets/controls",
          "model_name": "DescriptionStyleModel",
          "model_module_version": "1.5.0",
          "state": {
            "_model_module": "@jupyter-widgets/controls",
            "_model_module_version": "1.5.0",
            "_model_name": "DescriptionStyleModel",
            "_view_count": null,
            "_view_module": "@jupyter-widgets/base",
            "_view_module_version": "1.2.0",
            "_view_name": "StyleView",
            "description_width": ""
          }
        },
        "4812ac81728c4c79b3cbc125a282ee37": {
          "model_module": "@jupyter-widgets/base",
          "model_name": "LayoutModel",
          "model_module_version": "1.2.0",
          "state": {
            "_model_module": "@jupyter-widgets/base",
            "_model_module_version": "1.2.0",
            "_model_name": "LayoutModel",
            "_view_count": null,
            "_view_module": "@jupyter-widgets/base",
            "_view_module_version": "1.2.0",
            "_view_name": "LayoutView",
            "align_content": null,
            "align_items": null,
            "align_self": null,
            "border": null,
            "bottom": null,
            "display": null,
            "flex": null,
            "flex_flow": null,
            "grid_area": null,
            "grid_auto_columns": null,
            "grid_auto_flow": null,
            "grid_auto_rows": null,
            "grid_column": null,
            "grid_gap": null,
            "grid_row": null,
            "grid_template_areas": null,
            "grid_template_columns": null,
            "grid_template_rows": null,
            "height": null,
            "justify_content": null,
            "justify_items": null,
            "left": null,
            "margin": null,
            "max_height": null,
            "max_width": null,
            "min_height": null,
            "min_width": null,
            "object_fit": null,
            "object_position": null,
            "order": null,
            "overflow": null,
            "overflow_x": null,
            "overflow_y": null,
            "padding": null,
            "right": null,
            "top": null,
            "visibility": null,
            "width": null
          }
        },
        "c62fa3709efb4b5aaeb4e4538b0ff3ea": {
          "model_module": "@jupyter-widgets/controls",
          "model_name": "ProgressStyleModel",
          "model_module_version": "1.5.0",
          "state": {
            "_model_module": "@jupyter-widgets/controls",
            "_model_module_version": "1.5.0",
            "_model_name": "ProgressStyleModel",
            "_view_count": null,
            "_view_module": "@jupyter-widgets/base",
            "_view_module_version": "1.2.0",
            "_view_name": "StyleView",
            "bar_color": null,
            "description_width": ""
          }
        },
        "6249128a2d944db6b4d7e93f91fe0790": {
          "model_module": "@jupyter-widgets/base",
          "model_name": "LayoutModel",
          "model_module_version": "1.2.0",
          "state": {
            "_model_module": "@jupyter-widgets/base",
            "_model_module_version": "1.2.0",
            "_model_name": "LayoutModel",
            "_view_count": null,
            "_view_module": "@jupyter-widgets/base",
            "_view_module_version": "1.2.0",
            "_view_name": "LayoutView",
            "align_content": null,
            "align_items": null,
            "align_self": null,
            "border": null,
            "bottom": null,
            "display": null,
            "flex": null,
            "flex_flow": null,
            "grid_area": null,
            "grid_auto_columns": null,
            "grid_auto_flow": null,
            "grid_auto_rows": null,
            "grid_column": null,
            "grid_gap": null,
            "grid_row": null,
            "grid_template_areas": null,
            "grid_template_columns": null,
            "grid_template_rows": null,
            "height": null,
            "justify_content": null,
            "justify_items": null,
            "left": null,
            "margin": null,
            "max_height": null,
            "max_width": null,
            "min_height": null,
            "min_width": null,
            "object_fit": null,
            "object_position": null,
            "order": null,
            "overflow": null,
            "overflow_x": null,
            "overflow_y": null,
            "padding": null,
            "right": null,
            "top": null,
            "visibility": null,
            "width": null
          }
        },
        "6acf3a65bbd4454eb9ad2ea301f0ff08": {
          "model_module": "@jupyter-widgets/controls",
          "model_name": "DescriptionStyleModel",
          "model_module_version": "1.5.0",
          "state": {
            "_model_module": "@jupyter-widgets/controls",
            "_model_module_version": "1.5.0",
            "_model_name": "DescriptionStyleModel",
            "_view_count": null,
            "_view_module": "@jupyter-widgets/base",
            "_view_module_version": "1.2.0",
            "_view_name": "StyleView",
            "description_width": ""
          }
        },
        "91471beab41542d987054c68941729b1": {
          "model_module": "@jupyter-widgets/controls",
          "model_name": "HBoxModel",
          "model_module_version": "1.5.0",
          "state": {
            "_dom_classes": [],
            "_model_module": "@jupyter-widgets/controls",
            "_model_module_version": "1.5.0",
            "_model_name": "HBoxModel",
            "_view_count": null,
            "_view_module": "@jupyter-widgets/controls",
            "_view_module_version": "1.5.0",
            "_view_name": "HBoxView",
            "box_style": "",
            "children": [
              "IPY_MODEL_c7f478a942f64fa3bbd85a2845f734ea",
              "IPY_MODEL_10ecac42ec6c41059de8414d3b66206a",
              "IPY_MODEL_e3ede308e87b427b9b505c4d8145348c"
            ],
            "layout": "IPY_MODEL_c67c53241eff4436992a14aa0c0c87d9"
          }
        },
        "c7f478a942f64fa3bbd85a2845f734ea": {
          "model_module": "@jupyter-widgets/controls",
          "model_name": "HTMLModel",
          "model_module_version": "1.5.0",
          "state": {
            "_dom_classes": [],
            "_model_module": "@jupyter-widgets/controls",
            "_model_module_version": "1.5.0",
            "_model_name": "HTMLModel",
            "_view_count": null,
            "_view_module": "@jupyter-widgets/controls",
            "_view_module_version": "1.5.0",
            "_view_name": "HTMLView",
            "description": "",
            "description_tooltip": null,
            "layout": "IPY_MODEL_d390745ab5d9498d9ed0388dd2cce18e",
            "placeholder": "​",
            "style": "IPY_MODEL_95e60836c872465bbc20afa7b406ca24",
            "value": "Map: 100%"
          }
        },
        "10ecac42ec6c41059de8414d3b66206a": {
          "model_module": "@jupyter-widgets/controls",
          "model_name": "FloatProgressModel",
          "model_module_version": "1.5.0",
          "state": {
            "_dom_classes": [],
            "_model_module": "@jupyter-widgets/controls",
            "_model_module_version": "1.5.0",
            "_model_name": "FloatProgressModel",
            "_view_count": null,
            "_view_module": "@jupyter-widgets/controls",
            "_view_module_version": "1.5.0",
            "_view_name": "ProgressView",
            "bar_style": "success",
            "description": "",
            "description_tooltip": null,
            "layout": "IPY_MODEL_769040157b00406aa8668e56998d7f4c",
            "max": 120000,
            "min": 0,
            "orientation": "horizontal",
            "style": "IPY_MODEL_d68e7664b8e4467bbcd98986c687f35b",
            "value": 120000
          }
        },
        "e3ede308e87b427b9b505c4d8145348c": {
          "model_module": "@jupyter-widgets/controls",
          "model_name": "HTMLModel",
          "model_module_version": "1.5.0",
          "state": {
            "_dom_classes": [],
            "_model_module": "@jupyter-widgets/controls",
            "_model_module_version": "1.5.0",
            "_model_name": "HTMLModel",
            "_view_count": null,
            "_view_module": "@jupyter-widgets/controls",
            "_view_module_version": "1.5.0",
            "_view_name": "HTMLView",
            "description": "",
            "description_tooltip": null,
            "layout": "IPY_MODEL_7e7faa58278049aabb486b7e8c2e2515",
            "placeholder": "​",
            "style": "IPY_MODEL_c4b38ec3443048a7a869fc2dc96c2650",
            "value": " 120000/120000 [00:47&lt;00:00, 2688.88 examples/s]"
          }
        },
        "c67c53241eff4436992a14aa0c0c87d9": {
          "model_module": "@jupyter-widgets/base",
          "model_name": "LayoutModel",
          "model_module_version": "1.2.0",
          "state": {
            "_model_module": "@jupyter-widgets/base",
            "_model_module_version": "1.2.0",
            "_model_name": "LayoutModel",
            "_view_count": null,
            "_view_module": "@jupyter-widgets/base",
            "_view_module_version": "1.2.0",
            "_view_name": "LayoutView",
            "align_content": null,
            "align_items": null,
            "align_self": null,
            "border": null,
            "bottom": null,
            "display": null,
            "flex": null,
            "flex_flow": null,
            "grid_area": null,
            "grid_auto_columns": null,
            "grid_auto_flow": null,
            "grid_auto_rows": null,
            "grid_column": null,
            "grid_gap": null,
            "grid_row": null,
            "grid_template_areas": null,
            "grid_template_columns": null,
            "grid_template_rows": null,
            "height": null,
            "justify_content": null,
            "justify_items": null,
            "left": null,
            "margin": null,
            "max_height": null,
            "max_width": null,
            "min_height": null,
            "min_width": null,
            "object_fit": null,
            "object_position": null,
            "order": null,
            "overflow": null,
            "overflow_x": null,
            "overflow_y": null,
            "padding": null,
            "right": null,
            "top": null,
            "visibility": null,
            "width": null
          }
        },
        "d390745ab5d9498d9ed0388dd2cce18e": {
          "model_module": "@jupyter-widgets/base",
          "model_name": "LayoutModel",
          "model_module_version": "1.2.0",
          "state": {
            "_model_module": "@jupyter-widgets/base",
            "_model_module_version": "1.2.0",
            "_model_name": "LayoutModel",
            "_view_count": null,
            "_view_module": "@jupyter-widgets/base",
            "_view_module_version": "1.2.0",
            "_view_name": "LayoutView",
            "align_content": null,
            "align_items": null,
            "align_self": null,
            "border": null,
            "bottom": null,
            "display": null,
            "flex": null,
            "flex_flow": null,
            "grid_area": null,
            "grid_auto_columns": null,
            "grid_auto_flow": null,
            "grid_auto_rows": null,
            "grid_column": null,
            "grid_gap": null,
            "grid_row": null,
            "grid_template_areas": null,
            "grid_template_columns": null,
            "grid_template_rows": null,
            "height": null,
            "justify_content": null,
            "justify_items": null,
            "left": null,
            "margin": null,
            "max_height": null,
            "max_width": null,
            "min_height": null,
            "min_width": null,
            "object_fit": null,
            "object_position": null,
            "order": null,
            "overflow": null,
            "overflow_x": null,
            "overflow_y": null,
            "padding": null,
            "right": null,
            "top": null,
            "visibility": null,
            "width": null
          }
        },
        "95e60836c872465bbc20afa7b406ca24": {
          "model_module": "@jupyter-widgets/controls",
          "model_name": "DescriptionStyleModel",
          "model_module_version": "1.5.0",
          "state": {
            "_model_module": "@jupyter-widgets/controls",
            "_model_module_version": "1.5.0",
            "_model_name": "DescriptionStyleModel",
            "_view_count": null,
            "_view_module": "@jupyter-widgets/base",
            "_view_module_version": "1.2.0",
            "_view_name": "StyleView",
            "description_width": ""
          }
        },
        "769040157b00406aa8668e56998d7f4c": {
          "model_module": "@jupyter-widgets/base",
          "model_name": "LayoutModel",
          "model_module_version": "1.2.0",
          "state": {
            "_model_module": "@jupyter-widgets/base",
            "_model_module_version": "1.2.0",
            "_model_name": "LayoutModel",
            "_view_count": null,
            "_view_module": "@jupyter-widgets/base",
            "_view_module_version": "1.2.0",
            "_view_name": "LayoutView",
            "align_content": null,
            "align_items": null,
            "align_self": null,
            "border": null,
            "bottom": null,
            "display": null,
            "flex": null,
            "flex_flow": null,
            "grid_area": null,
            "grid_auto_columns": null,
            "grid_auto_flow": null,
            "grid_auto_rows": null,
            "grid_column": null,
            "grid_gap": null,
            "grid_row": null,
            "grid_template_areas": null,
            "grid_template_columns": null,
            "grid_template_rows": null,
            "height": null,
            "justify_content": null,
            "justify_items": null,
            "left": null,
            "margin": null,
            "max_height": null,
            "max_width": null,
            "min_height": null,
            "min_width": null,
            "object_fit": null,
            "object_position": null,
            "order": null,
            "overflow": null,
            "overflow_x": null,
            "overflow_y": null,
            "padding": null,
            "right": null,
            "top": null,
            "visibility": null,
            "width": null
          }
        },
        "d68e7664b8e4467bbcd98986c687f35b": {
          "model_module": "@jupyter-widgets/controls",
          "model_name": "ProgressStyleModel",
          "model_module_version": "1.5.0",
          "state": {
            "_model_module": "@jupyter-widgets/controls",
            "_model_module_version": "1.5.0",
            "_model_name": "ProgressStyleModel",
            "_view_count": null,
            "_view_module": "@jupyter-widgets/base",
            "_view_module_version": "1.2.0",
            "_view_name": "StyleView",
            "bar_color": null,
            "description_width": ""
          }
        },
        "7e7faa58278049aabb486b7e8c2e2515": {
          "model_module": "@jupyter-widgets/base",
          "model_name": "LayoutModel",
          "model_module_version": "1.2.0",
          "state": {
            "_model_module": "@jupyter-widgets/base",
            "_model_module_version": "1.2.0",
            "_model_name": "LayoutModel",
            "_view_count": null,
            "_view_module": "@jupyter-widgets/base",
            "_view_module_version": "1.2.0",
            "_view_name": "LayoutView",
            "align_content": null,
            "align_items": null,
            "align_self": null,
            "border": null,
            "bottom": null,
            "display": null,
            "flex": null,
            "flex_flow": null,
            "grid_area": null,
            "grid_auto_columns": null,
            "grid_auto_flow": null,
            "grid_auto_rows": null,
            "grid_column": null,
            "grid_gap": null,
            "grid_row": null,
            "grid_template_areas": null,
            "grid_template_columns": null,
            "grid_template_rows": null,
            "height": null,
            "justify_content": null,
            "justify_items": null,
            "left": null,
            "margin": null,
            "max_height": null,
            "max_width": null,
            "min_height": null,
            "min_width": null,
            "object_fit": null,
            "object_position": null,
            "order": null,
            "overflow": null,
            "overflow_x": null,
            "overflow_y": null,
            "padding": null,
            "right": null,
            "top": null,
            "visibility": null,
            "width": null
          }
        },
        "c4b38ec3443048a7a869fc2dc96c2650": {
          "model_module": "@jupyter-widgets/controls",
          "model_name": "DescriptionStyleModel",
          "model_module_version": "1.5.0",
          "state": {
            "_model_module": "@jupyter-widgets/controls",
            "_model_module_version": "1.5.0",
            "_model_name": "DescriptionStyleModel",
            "_view_count": null,
            "_view_module": "@jupyter-widgets/base",
            "_view_module_version": "1.2.0",
            "_view_name": "StyleView",
            "description_width": ""
          }
        },
        "aba2e9374ffa4f3891a0372171128ee8": {
          "model_module": "@jupyter-widgets/controls",
          "model_name": "HBoxModel",
          "model_module_version": "1.5.0",
          "state": {
            "_dom_classes": [],
            "_model_module": "@jupyter-widgets/controls",
            "_model_module_version": "1.5.0",
            "_model_name": "HBoxModel",
            "_view_count": null,
            "_view_module": "@jupyter-widgets/controls",
            "_view_module_version": "1.5.0",
            "_view_name": "HBoxView",
            "box_style": "",
            "children": [
              "IPY_MODEL_3024b9c5fa6b4bd6a2f9c4bde001195c",
              "IPY_MODEL_9c84a459aebe4aada6f0092e3ee359d8",
              "IPY_MODEL_b1f09e9d75e24144a7a827a0d814cd79"
            ],
            "layout": "IPY_MODEL_6cf7e8ba6ac042e595a7651096af4f18"
          }
        },
        "3024b9c5fa6b4bd6a2f9c4bde001195c": {
          "model_module": "@jupyter-widgets/controls",
          "model_name": "HTMLModel",
          "model_module_version": "1.5.0",
          "state": {
            "_dom_classes": [],
            "_model_module": "@jupyter-widgets/controls",
            "_model_module_version": "1.5.0",
            "_model_name": "HTMLModel",
            "_view_count": null,
            "_view_module": "@jupyter-widgets/controls",
            "_view_module_version": "1.5.0",
            "_view_name": "HTMLView",
            "description": "",
            "description_tooltip": null,
            "layout": "IPY_MODEL_5911e908f674492d806be440cc3fb9ef",
            "placeholder": "​",
            "style": "IPY_MODEL_847528bf2e13415abdc8dded4fdd7e3d",
            "value": "Map: 100%"
          }
        },
        "9c84a459aebe4aada6f0092e3ee359d8": {
          "model_module": "@jupyter-widgets/controls",
          "model_name": "FloatProgressModel",
          "model_module_version": "1.5.0",
          "state": {
            "_dom_classes": [],
            "_model_module": "@jupyter-widgets/controls",
            "_model_module_version": "1.5.0",
            "_model_name": "FloatProgressModel",
            "_view_count": null,
            "_view_module": "@jupyter-widgets/controls",
            "_view_module_version": "1.5.0",
            "_view_name": "ProgressView",
            "bar_style": "success",
            "description": "",
            "description_tooltip": null,
            "layout": "IPY_MODEL_6603041808f94155bc291b01da7317bc",
            "max": 7600,
            "min": 0,
            "orientation": "horizontal",
            "style": "IPY_MODEL_1b1af52636bd439fbdca6f042a1b8e8f",
            "value": 7600
          }
        },
        "b1f09e9d75e24144a7a827a0d814cd79": {
          "model_module": "@jupyter-widgets/controls",
          "model_name": "HTMLModel",
          "model_module_version": "1.5.0",
          "state": {
            "_dom_classes": [],
            "_model_module": "@jupyter-widgets/controls",
            "_model_module_version": "1.5.0",
            "_model_name": "HTMLModel",
            "_view_count": null,
            "_view_module": "@jupyter-widgets/controls",
            "_view_module_version": "1.5.0",
            "_view_name": "HTMLView",
            "description": "",
            "description_tooltip": null,
            "layout": "IPY_MODEL_99a3ae631d644c3bab2d3bdd5118bbdc",
            "placeholder": "​",
            "style": "IPY_MODEL_abd2ffa8777341ef8663b2c440940dca",
            "value": " 7600/7600 [00:03&lt;00:00, 2209.95 examples/s]"
          }
        },
        "6cf7e8ba6ac042e595a7651096af4f18": {
          "model_module": "@jupyter-widgets/base",
          "model_name": "LayoutModel",
          "model_module_version": "1.2.0",
          "state": {
            "_model_module": "@jupyter-widgets/base",
            "_model_module_version": "1.2.0",
            "_model_name": "LayoutModel",
            "_view_count": null,
            "_view_module": "@jupyter-widgets/base",
            "_view_module_version": "1.2.0",
            "_view_name": "LayoutView",
            "align_content": null,
            "align_items": null,
            "align_self": null,
            "border": null,
            "bottom": null,
            "display": null,
            "flex": null,
            "flex_flow": null,
            "grid_area": null,
            "grid_auto_columns": null,
            "grid_auto_flow": null,
            "grid_auto_rows": null,
            "grid_column": null,
            "grid_gap": null,
            "grid_row": null,
            "grid_template_areas": null,
            "grid_template_columns": null,
            "grid_template_rows": null,
            "height": null,
            "justify_content": null,
            "justify_items": null,
            "left": null,
            "margin": null,
            "max_height": null,
            "max_width": null,
            "min_height": null,
            "min_width": null,
            "object_fit": null,
            "object_position": null,
            "order": null,
            "overflow": null,
            "overflow_x": null,
            "overflow_y": null,
            "padding": null,
            "right": null,
            "top": null,
            "visibility": null,
            "width": null
          }
        },
        "5911e908f674492d806be440cc3fb9ef": {
          "model_module": "@jupyter-widgets/base",
          "model_name": "LayoutModel",
          "model_module_version": "1.2.0",
          "state": {
            "_model_module": "@jupyter-widgets/base",
            "_model_module_version": "1.2.0",
            "_model_name": "LayoutModel",
            "_view_count": null,
            "_view_module": "@jupyter-widgets/base",
            "_view_module_version": "1.2.0",
            "_view_name": "LayoutView",
            "align_content": null,
            "align_items": null,
            "align_self": null,
            "border": null,
            "bottom": null,
            "display": null,
            "flex": null,
            "flex_flow": null,
            "grid_area": null,
            "grid_auto_columns": null,
            "grid_auto_flow": null,
            "grid_auto_rows": null,
            "grid_column": null,
            "grid_gap": null,
            "grid_row": null,
            "grid_template_areas": null,
            "grid_template_columns": null,
            "grid_template_rows": null,
            "height": null,
            "justify_content": null,
            "justify_items": null,
            "left": null,
            "margin": null,
            "max_height": null,
            "max_width": null,
            "min_height": null,
            "min_width": null,
            "object_fit": null,
            "object_position": null,
            "order": null,
            "overflow": null,
            "overflow_x": null,
            "overflow_y": null,
            "padding": null,
            "right": null,
            "top": null,
            "visibility": null,
            "width": null
          }
        },
        "847528bf2e13415abdc8dded4fdd7e3d": {
          "model_module": "@jupyter-widgets/controls",
          "model_name": "DescriptionStyleModel",
          "model_module_version": "1.5.0",
          "state": {
            "_model_module": "@jupyter-widgets/controls",
            "_model_module_version": "1.5.0",
            "_model_name": "DescriptionStyleModel",
            "_view_count": null,
            "_view_module": "@jupyter-widgets/base",
            "_view_module_version": "1.2.0",
            "_view_name": "StyleView",
            "description_width": ""
          }
        },
        "6603041808f94155bc291b01da7317bc": {
          "model_module": "@jupyter-widgets/base",
          "model_name": "LayoutModel",
          "model_module_version": "1.2.0",
          "state": {
            "_model_module": "@jupyter-widgets/base",
            "_model_module_version": "1.2.0",
            "_model_name": "LayoutModel",
            "_view_count": null,
            "_view_module": "@jupyter-widgets/base",
            "_view_module_version": "1.2.0",
            "_view_name": "LayoutView",
            "align_content": null,
            "align_items": null,
            "align_self": null,
            "border": null,
            "bottom": null,
            "display": null,
            "flex": null,
            "flex_flow": null,
            "grid_area": null,
            "grid_auto_columns": null,
            "grid_auto_flow": null,
            "grid_auto_rows": null,
            "grid_column": null,
            "grid_gap": null,
            "grid_row": null,
            "grid_template_areas": null,
            "grid_template_columns": null,
            "grid_template_rows": null,
            "height": null,
            "justify_content": null,
            "justify_items": null,
            "left": null,
            "margin": null,
            "max_height": null,
            "max_width": null,
            "min_height": null,
            "min_width": null,
            "object_fit": null,
            "object_position": null,
            "order": null,
            "overflow": null,
            "overflow_x": null,
            "overflow_y": null,
            "padding": null,
            "right": null,
            "top": null,
            "visibility": null,
            "width": null
          }
        },
        "1b1af52636bd439fbdca6f042a1b8e8f": {
          "model_module": "@jupyter-widgets/controls",
          "model_name": "ProgressStyleModel",
          "model_module_version": "1.5.0",
          "state": {
            "_model_module": "@jupyter-widgets/controls",
            "_model_module_version": "1.5.0",
            "_model_name": "ProgressStyleModel",
            "_view_count": null,
            "_view_module": "@jupyter-widgets/base",
            "_view_module_version": "1.2.0",
            "_view_name": "StyleView",
            "bar_color": null,
            "description_width": ""
          }
        },
        "99a3ae631d644c3bab2d3bdd5118bbdc": {
          "model_module": "@jupyter-widgets/base",
          "model_name": "LayoutModel",
          "model_module_version": "1.2.0",
          "state": {
            "_model_module": "@jupyter-widgets/base",
            "_model_module_version": "1.2.0",
            "_model_name": "LayoutModel",
            "_view_count": null,
            "_view_module": "@jupyter-widgets/base",
            "_view_module_version": "1.2.0",
            "_view_name": "LayoutView",
            "align_content": null,
            "align_items": null,
            "align_self": null,
            "border": null,
            "bottom": null,
            "display": null,
            "flex": null,
            "flex_flow": null,
            "grid_area": null,
            "grid_auto_columns": null,
            "grid_auto_flow": null,
            "grid_auto_rows": null,
            "grid_column": null,
            "grid_gap": null,
            "grid_row": null,
            "grid_template_areas": null,
            "grid_template_columns": null,
            "grid_template_rows": null,
            "height": null,
            "justify_content": null,
            "justify_items": null,
            "left": null,
            "margin": null,
            "max_height": null,
            "max_width": null,
            "min_height": null,
            "min_width": null,
            "object_fit": null,
            "object_position": null,
            "order": null,
            "overflow": null,
            "overflow_x": null,
            "overflow_y": null,
            "padding": null,
            "right": null,
            "top": null,
            "visibility": null,
            "width": null
          }
        },
        "abd2ffa8777341ef8663b2c440940dca": {
          "model_module": "@jupyter-widgets/controls",
          "model_name": "DescriptionStyleModel",
          "model_module_version": "1.5.0",
          "state": {
            "_model_module": "@jupyter-widgets/controls",
            "_model_module_version": "1.5.0",
            "_model_name": "DescriptionStyleModel",
            "_view_count": null,
            "_view_module": "@jupyter-widgets/base",
            "_view_module_version": "1.2.0",
            "_view_name": "StyleView",
            "description_width": ""
          }
        },
        "8950f30894c040da9161ac82e9fa4ba0": {
          "model_module": "@jupyter-widgets/controls",
          "model_name": "HBoxModel",
          "model_module_version": "1.5.0",
          "state": {
            "_dom_classes": [],
            "_model_module": "@jupyter-widgets/controls",
            "_model_module_version": "1.5.0",
            "_model_name": "HBoxModel",
            "_view_count": null,
            "_view_module": "@jupyter-widgets/controls",
            "_view_module_version": "1.5.0",
            "_view_name": "HBoxView",
            "box_style": "",
            "children": [
              "IPY_MODEL_694d0461ac1346558fc38fcdc34d7e2b",
              "IPY_MODEL_21a0592f40724e3c8e1b697766550cc9",
              "IPY_MODEL_348d70f5ef6f484da1c849477fc2729d"
            ],
            "layout": "IPY_MODEL_8a4e515b83564cc89c8595a4a5af6d71"
          }
        },
        "694d0461ac1346558fc38fcdc34d7e2b": {
          "model_module": "@jupyter-widgets/controls",
          "model_name": "HTMLModel",
          "model_module_version": "1.5.0",
          "state": {
            "_dom_classes": [],
            "_model_module": "@jupyter-widgets/controls",
            "_model_module_version": "1.5.0",
            "_model_name": "HTMLModel",
            "_view_count": null,
            "_view_module": "@jupyter-widgets/controls",
            "_view_module_version": "1.5.0",
            "_view_name": "HTMLView",
            "description": "",
            "description_tooltip": null,
            "layout": "IPY_MODEL_ba073f58cfaf435ca7e928fc881a7d55",
            "placeholder": "​",
            "style": "IPY_MODEL_d8a6dbdcbcb14691a8d31931a53833c7",
            "value": "model.safetensors: 100%"
          }
        },
        "21a0592f40724e3c8e1b697766550cc9": {
          "model_module": "@jupyter-widgets/controls",
          "model_name": "FloatProgressModel",
          "model_module_version": "1.5.0",
          "state": {
            "_dom_classes": [],
            "_model_module": "@jupyter-widgets/controls",
            "_model_module_version": "1.5.0",
            "_model_name": "FloatProgressModel",
            "_view_count": null,
            "_view_module": "@jupyter-widgets/controls",
            "_view_module_version": "1.5.0",
            "_view_name": "ProgressView",
            "bar_style": "success",
            "description": "",
            "description_tooltip": null,
            "layout": "IPY_MODEL_1d40adbd3fc44746b1646fb5f1a3a4ba",
            "max": 498818054,
            "min": 0,
            "orientation": "horizontal",
            "style": "IPY_MODEL_2760a789475e4868ab4be57624f86b73",
            "value": 498818054
          }
        },
        "348d70f5ef6f484da1c849477fc2729d": {
          "model_module": "@jupyter-widgets/controls",
          "model_name": "HTMLModel",
          "model_module_version": "1.5.0",
          "state": {
            "_dom_classes": [],
            "_model_module": "@jupyter-widgets/controls",
            "_model_module_version": "1.5.0",
            "_model_name": "HTMLModel",
            "_view_count": null,
            "_view_module": "@jupyter-widgets/controls",
            "_view_module_version": "1.5.0",
            "_view_name": "HTMLView",
            "description": "",
            "description_tooltip": null,
            "layout": "IPY_MODEL_aeedda87310c4473a4481b097617b22c",
            "placeholder": "​",
            "style": "IPY_MODEL_8d21689046914dafb9a982fedb335237",
            "value": " 499M/499M [00:01&lt;00:00, 529MB/s]"
          }
        },
        "8a4e515b83564cc89c8595a4a5af6d71": {
          "model_module": "@jupyter-widgets/base",
          "model_name": "LayoutModel",
          "model_module_version": "1.2.0",
          "state": {
            "_model_module": "@jupyter-widgets/base",
            "_model_module_version": "1.2.0",
            "_model_name": "LayoutModel",
            "_view_count": null,
            "_view_module": "@jupyter-widgets/base",
            "_view_module_version": "1.2.0",
            "_view_name": "LayoutView",
            "align_content": null,
            "align_items": null,
            "align_self": null,
            "border": null,
            "bottom": null,
            "display": null,
            "flex": null,
            "flex_flow": null,
            "grid_area": null,
            "grid_auto_columns": null,
            "grid_auto_flow": null,
            "grid_auto_rows": null,
            "grid_column": null,
            "grid_gap": null,
            "grid_row": null,
            "grid_template_areas": null,
            "grid_template_columns": null,
            "grid_template_rows": null,
            "height": null,
            "justify_content": null,
            "justify_items": null,
            "left": null,
            "margin": null,
            "max_height": null,
            "max_width": null,
            "min_height": null,
            "min_width": null,
            "object_fit": null,
            "object_position": null,
            "order": null,
            "overflow": null,
            "overflow_x": null,
            "overflow_y": null,
            "padding": null,
            "right": null,
            "top": null,
            "visibility": null,
            "width": null
          }
        },
        "ba073f58cfaf435ca7e928fc881a7d55": {
          "model_module": "@jupyter-widgets/base",
          "model_name": "LayoutModel",
          "model_module_version": "1.2.0",
          "state": {
            "_model_module": "@jupyter-widgets/base",
            "_model_module_version": "1.2.0",
            "_model_name": "LayoutModel",
            "_view_count": null,
            "_view_module": "@jupyter-widgets/base",
            "_view_module_version": "1.2.0",
            "_view_name": "LayoutView",
            "align_content": null,
            "align_items": null,
            "align_self": null,
            "border": null,
            "bottom": null,
            "display": null,
            "flex": null,
            "flex_flow": null,
            "grid_area": null,
            "grid_auto_columns": null,
            "grid_auto_flow": null,
            "grid_auto_rows": null,
            "grid_column": null,
            "grid_gap": null,
            "grid_row": null,
            "grid_template_areas": null,
            "grid_template_columns": null,
            "grid_template_rows": null,
            "height": null,
            "justify_content": null,
            "justify_items": null,
            "left": null,
            "margin": null,
            "max_height": null,
            "max_width": null,
            "min_height": null,
            "min_width": null,
            "object_fit": null,
            "object_position": null,
            "order": null,
            "overflow": null,
            "overflow_x": null,
            "overflow_y": null,
            "padding": null,
            "right": null,
            "top": null,
            "visibility": null,
            "width": null
          }
        },
        "d8a6dbdcbcb14691a8d31931a53833c7": {
          "model_module": "@jupyter-widgets/controls",
          "model_name": "DescriptionStyleModel",
          "model_module_version": "1.5.0",
          "state": {
            "_model_module": "@jupyter-widgets/controls",
            "_model_module_version": "1.5.0",
            "_model_name": "DescriptionStyleModel",
            "_view_count": null,
            "_view_module": "@jupyter-widgets/base",
            "_view_module_version": "1.2.0",
            "_view_name": "StyleView",
            "description_width": ""
          }
        },
        "1d40adbd3fc44746b1646fb5f1a3a4ba": {
          "model_module": "@jupyter-widgets/base",
          "model_name": "LayoutModel",
          "model_module_version": "1.2.0",
          "state": {
            "_model_module": "@jupyter-widgets/base",
            "_model_module_version": "1.2.0",
            "_model_name": "LayoutModel",
            "_view_count": null,
            "_view_module": "@jupyter-widgets/base",
            "_view_module_version": "1.2.0",
            "_view_name": "LayoutView",
            "align_content": null,
            "align_items": null,
            "align_self": null,
            "border": null,
            "bottom": null,
            "display": null,
            "flex": null,
            "flex_flow": null,
            "grid_area": null,
            "grid_auto_columns": null,
            "grid_auto_flow": null,
            "grid_auto_rows": null,
            "grid_column": null,
            "grid_gap": null,
            "grid_row": null,
            "grid_template_areas": null,
            "grid_template_columns": null,
            "grid_template_rows": null,
            "height": null,
            "justify_content": null,
            "justify_items": null,
            "left": null,
            "margin": null,
            "max_height": null,
            "max_width": null,
            "min_height": null,
            "min_width": null,
            "object_fit": null,
            "object_position": null,
            "order": null,
            "overflow": null,
            "overflow_x": null,
            "overflow_y": null,
            "padding": null,
            "right": null,
            "top": null,
            "visibility": null,
            "width": null
          }
        },
        "2760a789475e4868ab4be57624f86b73": {
          "model_module": "@jupyter-widgets/controls",
          "model_name": "ProgressStyleModel",
          "model_module_version": "1.5.0",
          "state": {
            "_model_module": "@jupyter-widgets/controls",
            "_model_module_version": "1.5.0",
            "_model_name": "ProgressStyleModel",
            "_view_count": null,
            "_view_module": "@jupyter-widgets/base",
            "_view_module_version": "1.2.0",
            "_view_name": "StyleView",
            "bar_color": null,
            "description_width": ""
          }
        },
        "aeedda87310c4473a4481b097617b22c": {
          "model_module": "@jupyter-widgets/base",
          "model_name": "LayoutModel",
          "model_module_version": "1.2.0",
          "state": {
            "_model_module": "@jupyter-widgets/base",
            "_model_module_version": "1.2.0",
            "_model_name": "LayoutModel",
            "_view_count": null,
            "_view_module": "@jupyter-widgets/base",
            "_view_module_version": "1.2.0",
            "_view_name": "LayoutView",
            "align_content": null,
            "align_items": null,
            "align_self": null,
            "border": null,
            "bottom": null,
            "display": null,
            "flex": null,
            "flex_flow": null,
            "grid_area": null,
            "grid_auto_columns": null,
            "grid_auto_flow": null,
            "grid_auto_rows": null,
            "grid_column": null,
            "grid_gap": null,
            "grid_row": null,
            "grid_template_areas": null,
            "grid_template_columns": null,
            "grid_template_rows": null,
            "height": null,
            "justify_content": null,
            "justify_items": null,
            "left": null,
            "margin": null,
            "max_height": null,
            "max_width": null,
            "min_height": null,
            "min_width": null,
            "object_fit": null,
            "object_position": null,
            "order": null,
            "overflow": null,
            "overflow_x": null,
            "overflow_y": null,
            "padding": null,
            "right": null,
            "top": null,
            "visibility": null,
            "width": null
          }
        },
        "8d21689046914dafb9a982fedb335237": {
          "model_module": "@jupyter-widgets/controls",
          "model_name": "DescriptionStyleModel",
          "model_module_version": "1.5.0",
          "state": {
            "_model_module": "@jupyter-widgets/controls",
            "_model_module_version": "1.5.0",
            "_model_name": "DescriptionStyleModel",
            "_view_count": null,
            "_view_module": "@jupyter-widgets/base",
            "_view_module_version": "1.2.0",
            "_view_name": "StyleView",
            "description_width": ""
          }
        },
        "483d22836a2f44aca70867e68100c9a2": {
          "model_module": "@jupyter-widgets/controls",
          "model_name": "HBoxModel",
          "model_module_version": "1.5.0",
          "state": {
            "_dom_classes": [],
            "_model_module": "@jupyter-widgets/controls",
            "_model_module_version": "1.5.0",
            "_model_name": "HBoxModel",
            "_view_count": null,
            "_view_module": "@jupyter-widgets/controls",
            "_view_module_version": "1.5.0",
            "_view_name": "HBoxView",
            "box_style": "",
            "children": [
              "IPY_MODEL_f84ef617bb824e24b6f3ef42f6a95e16",
              "IPY_MODEL_49223e5de8304c088f9d52f578797c3a",
              "IPY_MODEL_989ba82fb091410a8175b632d3193946"
            ],
            "layout": "IPY_MODEL_7d106b427583448684aedd2f0b252e6f"
          }
        },
        "f84ef617bb824e24b6f3ef42f6a95e16": {
          "model_module": "@jupyter-widgets/controls",
          "model_name": "HTMLModel",
          "model_module_version": "1.5.0",
          "state": {
            "_dom_classes": [],
            "_model_module": "@jupyter-widgets/controls",
            "_model_module_version": "1.5.0",
            "_model_name": "HTMLModel",
            "_view_count": null,
            "_view_module": "@jupyter-widgets/controls",
            "_view_module_version": "1.5.0",
            "_view_name": "HTMLView",
            "description": "",
            "description_tooltip": null,
            "layout": "IPY_MODEL_475336a9c40143f482be7363f7609020",
            "placeholder": "​",
            "style": "IPY_MODEL_a224a1e96b764ce7b560e262ae5977e6",
            "value": "Downloading builder script: 100%"
          }
        },
        "49223e5de8304c088f9d52f578797c3a": {
          "model_module": "@jupyter-widgets/controls",
          "model_name": "FloatProgressModel",
          "model_module_version": "1.5.0",
          "state": {
            "_dom_classes": [],
            "_model_module": "@jupyter-widgets/controls",
            "_model_module_version": "1.5.0",
            "_model_name": "FloatProgressModel",
            "_view_count": null,
            "_view_module": "@jupyter-widgets/controls",
            "_view_module_version": "1.5.0",
            "_view_name": "ProgressView",
            "bar_style": "success",
            "description": "",
            "description_tooltip": null,
            "layout": "IPY_MODEL_0a06410e724e42df9b4d33824253286d",
            "max": 4203,
            "min": 0,
            "orientation": "horizontal",
            "style": "IPY_MODEL_8254df21b2aa4bc289f90af2a675eb2a",
            "value": 4203
          }
        },
        "989ba82fb091410a8175b632d3193946": {
          "model_module": "@jupyter-widgets/controls",
          "model_name": "HTMLModel",
          "model_module_version": "1.5.0",
          "state": {
            "_dom_classes": [],
            "_model_module": "@jupyter-widgets/controls",
            "_model_module_version": "1.5.0",
            "_model_name": "HTMLModel",
            "_view_count": null,
            "_view_module": "@jupyter-widgets/controls",
            "_view_module_version": "1.5.0",
            "_view_name": "HTMLView",
            "description": "",
            "description_tooltip": null,
            "layout": "IPY_MODEL_e95ffcde83224995bd8b6a9e59275386",
            "placeholder": "​",
            "style": "IPY_MODEL_a18b420c63964bc3b7bdc8ea2ca21f8d",
            "value": " 4.20k/4.20k [00:00&lt;00:00, 381kB/s]"
          }
        },
        "7d106b427583448684aedd2f0b252e6f": {
          "model_module": "@jupyter-widgets/base",
          "model_name": "LayoutModel",
          "model_module_version": "1.2.0",
          "state": {
            "_model_module": "@jupyter-widgets/base",
            "_model_module_version": "1.2.0",
            "_model_name": "LayoutModel",
            "_view_count": null,
            "_view_module": "@jupyter-widgets/base",
            "_view_module_version": "1.2.0",
            "_view_name": "LayoutView",
            "align_content": null,
            "align_items": null,
            "align_self": null,
            "border": null,
            "bottom": null,
            "display": null,
            "flex": null,
            "flex_flow": null,
            "grid_area": null,
            "grid_auto_columns": null,
            "grid_auto_flow": null,
            "grid_auto_rows": null,
            "grid_column": null,
            "grid_gap": null,
            "grid_row": null,
            "grid_template_areas": null,
            "grid_template_columns": null,
            "grid_template_rows": null,
            "height": null,
            "justify_content": null,
            "justify_items": null,
            "left": null,
            "margin": null,
            "max_height": null,
            "max_width": null,
            "min_height": null,
            "min_width": null,
            "object_fit": null,
            "object_position": null,
            "order": null,
            "overflow": null,
            "overflow_x": null,
            "overflow_y": null,
            "padding": null,
            "right": null,
            "top": null,
            "visibility": null,
            "width": null
          }
        },
        "475336a9c40143f482be7363f7609020": {
          "model_module": "@jupyter-widgets/base",
          "model_name": "LayoutModel",
          "model_module_version": "1.2.0",
          "state": {
            "_model_module": "@jupyter-widgets/base",
            "_model_module_version": "1.2.0",
            "_model_name": "LayoutModel",
            "_view_count": null,
            "_view_module": "@jupyter-widgets/base",
            "_view_module_version": "1.2.0",
            "_view_name": "LayoutView",
            "align_content": null,
            "align_items": null,
            "align_self": null,
            "border": null,
            "bottom": null,
            "display": null,
            "flex": null,
            "flex_flow": null,
            "grid_area": null,
            "grid_auto_columns": null,
            "grid_auto_flow": null,
            "grid_auto_rows": null,
            "grid_column": null,
            "grid_gap": null,
            "grid_row": null,
            "grid_template_areas": null,
            "grid_template_columns": null,
            "grid_template_rows": null,
            "height": null,
            "justify_content": null,
            "justify_items": null,
            "left": null,
            "margin": null,
            "max_height": null,
            "max_width": null,
            "min_height": null,
            "min_width": null,
            "object_fit": null,
            "object_position": null,
            "order": null,
            "overflow": null,
            "overflow_x": null,
            "overflow_y": null,
            "padding": null,
            "right": null,
            "top": null,
            "visibility": null,
            "width": null
          }
        },
        "a224a1e96b764ce7b560e262ae5977e6": {
          "model_module": "@jupyter-widgets/controls",
          "model_name": "DescriptionStyleModel",
          "model_module_version": "1.5.0",
          "state": {
            "_model_module": "@jupyter-widgets/controls",
            "_model_module_version": "1.5.0",
            "_model_name": "DescriptionStyleModel",
            "_view_count": null,
            "_view_module": "@jupyter-widgets/base",
            "_view_module_version": "1.2.0",
            "_view_name": "StyleView",
            "description_width": ""
          }
        },
        "0a06410e724e42df9b4d33824253286d": {
          "model_module": "@jupyter-widgets/base",
          "model_name": "LayoutModel",
          "model_module_version": "1.2.0",
          "state": {
            "_model_module": "@jupyter-widgets/base",
            "_model_module_version": "1.2.0",
            "_model_name": "LayoutModel",
            "_view_count": null,
            "_view_module": "@jupyter-widgets/base",
            "_view_module_version": "1.2.0",
            "_view_name": "LayoutView",
            "align_content": null,
            "align_items": null,
            "align_self": null,
            "border": null,
            "bottom": null,
            "display": null,
            "flex": null,
            "flex_flow": null,
            "grid_area": null,
            "grid_auto_columns": null,
            "grid_auto_flow": null,
            "grid_auto_rows": null,
            "grid_column": null,
            "grid_gap": null,
            "grid_row": null,
            "grid_template_areas": null,
            "grid_template_columns": null,
            "grid_template_rows": null,
            "height": null,
            "justify_content": null,
            "justify_items": null,
            "left": null,
            "margin": null,
            "max_height": null,
            "max_width": null,
            "min_height": null,
            "min_width": null,
            "object_fit": null,
            "object_position": null,
            "order": null,
            "overflow": null,
            "overflow_x": null,
            "overflow_y": null,
            "padding": null,
            "right": null,
            "top": null,
            "visibility": null,
            "width": null
          }
        },
        "8254df21b2aa4bc289f90af2a675eb2a": {
          "model_module": "@jupyter-widgets/controls",
          "model_name": "ProgressStyleModel",
          "model_module_version": "1.5.0",
          "state": {
            "_model_module": "@jupyter-widgets/controls",
            "_model_module_version": "1.5.0",
            "_model_name": "ProgressStyleModel",
            "_view_count": null,
            "_view_module": "@jupyter-widgets/base",
            "_view_module_version": "1.2.0",
            "_view_name": "StyleView",
            "bar_color": null,
            "description_width": ""
          }
        },
        "e95ffcde83224995bd8b6a9e59275386": {
          "model_module": "@jupyter-widgets/base",
          "model_name": "LayoutModel",
          "model_module_version": "1.2.0",
          "state": {
            "_model_module": "@jupyter-widgets/base",
            "_model_module_version": "1.2.0",
            "_model_name": "LayoutModel",
            "_view_count": null,
            "_view_module": "@jupyter-widgets/base",
            "_view_module_version": "1.2.0",
            "_view_name": "LayoutView",
            "align_content": null,
            "align_items": null,
            "align_self": null,
            "border": null,
            "bottom": null,
            "display": null,
            "flex": null,
            "flex_flow": null,
            "grid_area": null,
            "grid_auto_columns": null,
            "grid_auto_flow": null,
            "grid_auto_rows": null,
            "grid_column": null,
            "grid_gap": null,
            "grid_row": null,
            "grid_template_areas": null,
            "grid_template_columns": null,
            "grid_template_rows": null,
            "height": null,
            "justify_content": null,
            "justify_items": null,
            "left": null,
            "margin": null,
            "max_height": null,
            "max_width": null,
            "min_height": null,
            "min_width": null,
            "object_fit": null,
            "object_position": null,
            "order": null,
            "overflow": null,
            "overflow_x": null,
            "overflow_y": null,
            "padding": null,
            "right": null,
            "top": null,
            "visibility": null,
            "width": null
          }
        },
        "a18b420c63964bc3b7bdc8ea2ca21f8d": {
          "model_module": "@jupyter-widgets/controls",
          "model_name": "DescriptionStyleModel",
          "model_module_version": "1.5.0",
          "state": {
            "_model_module": "@jupyter-widgets/controls",
            "_model_module_version": "1.5.0",
            "_model_name": "DescriptionStyleModel",
            "_view_count": null,
            "_view_module": "@jupyter-widgets/base",
            "_view_module_version": "1.2.0",
            "_view_name": "StyleView",
            "description_width": ""
          }
        }
      }
    }
  },
  "nbformat": 4,
  "nbformat_minor": 0
}